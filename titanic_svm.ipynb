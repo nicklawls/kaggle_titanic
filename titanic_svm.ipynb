{
 "metadata": {
  "language": "Julia",
  "name": "",
  "signature": "sha256:616f58348bf3ad95543145505fa9671d46bd688fc6c91b453d1d38148cbf43cf"
 },
 "nbformat": 3,
 "nbformat_minor": 0,
 "worksheets": [
  {
   "cells": [
    {
     "cell_type": "heading",
     "level": 1,
     "metadata": {},
     "source": [
      "Predicting Titanic Survival with Support Vector Machines"
     ]
    },
    {
     "cell_type": "code",
     "collapsed": false,
     "input": [
      "using DataFrames, SVM"
     ],
     "language": "python",
     "metadata": {},
     "outputs": [],
     "prompt_number": 2
    },
    {
     "cell_type": "code",
     "collapsed": false,
     "input": [
      "path = \"/Users/nicklawler222/ml_julia/kaggle/kaggle_titanic\"\n",
      "test  = readtable(\"$(path)/data/test.csv\");\n",
      "train = readtable(\"$(path)/data/train.csv\");"
     ],
     "language": "python",
     "metadata": {},
     "outputs": [],
     "prompt_number": 8
    },
    {
     "cell_type": "markdown",
     "metadata": {},
     "source": [
      "The SVM package is very new, and doesn't support Dataframes. Fortunately, we can still use them to clean and alter the data "
     ]
    },
    {
     "cell_type": "code",
     "collapsed": false,
     "input": [],
     "language": "python",
     "metadata": {},
     "outputs": []
    }
   ],
   "metadata": {}
  }
 ]
}