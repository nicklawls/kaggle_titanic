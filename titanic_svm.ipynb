{
 "metadata": {
  "language": "Julia",
  "name": "",
  "signature": "sha256:42e9e1756cd075de14f14ca8b316c1ff5153103bfc1ebcc6cc2347e28406ba3f"
 },
 "nbformat": 3,
 "nbformat_minor": 0,
 "worksheets": [
  {
   "cells": [
    {
     "cell_type": "heading",
     "level": 1,
     "metadata": {},
     "source": [
      "Predicting Titanic Survival with Support Vector Machines"
     ]
    },
    {
     "cell_type": "code",
     "collapsed": false,
     "input": [
      "using DataFrames, RegERMs, MLBase"
     ],
     "language": "python",
     "metadata": {},
     "outputs": [],
     "prompt_number": 1
    },
    {
     "cell_type": "code",
     "collapsed": false,
     "input": [
      "path = \"/Users/nicklawler222/ml_julia/kaggle/kaggle_titanic\"\n",
      "test  = readtable(\"$(path)/data/test.csv\");\n",
      "train = readtable(\"$(path)/data/train.csv\");\n",
      "n,m = size(train)"
     ],
     "language": "python",
     "metadata": {},
     "outputs": [
      {
       "metadata": {},
       "output_type": "pyout",
       "prompt_number": 2,
       "text": [
        "(891,12)"
       ]
      }
     ],
     "prompt_number": 2
    },
    {
     "cell_type": "heading",
     "level": 2,
     "metadata": {},
     "source": [
      "Initial Attempt: SVM with Age and Sex, rbf kernel, no cv or parameter tuning"
     ]
    },
    {
     "cell_type": "markdown",
     "metadata": {},
     "source": [
      "The RegERMs package is very new, and doesn't support Dataframes. Fortunately, we can still use them to clean and alter the data, and then use the handy array() function to get it into a pretty matrix. Lets perform the same transformations that we used in the previous tutorial"
     ]
    },
    {
     "cell_type": "code",
     "collapsed": false,
     "input": [
      "# adds a row to df named new_row at index, which is a binary represenation of old_row where old_row[i] == positive_class\n",
      "function df_string_to_binary!(df::DataFrame, index::Int64, old_row::Symbol, new_row::Symbol, positive_class::Any )\n",
      "    insert!(df, index, int(df[old_row] .== positive_class), new_row)\n",
      "end\n",
      "\n",
      "# used exclusively for this dataset, replaces all the NA values in Age with the overall median age\n",
      "function replace_na_median!(df::DataFrame)\n",
      "    # get the indices of NA and non NA rows\n",
      "    na_indicator = isna(df[:Age])\n",
      "    filled_indices, na_indices = [] , []\n",
      "    for i in 1:size(na_indicator,1)\n",
      "        if !na_indicator[i]\n",
      "            filled_indices = [filled_indices, i]\n",
      "        else\n",
      "            na_indices = [na_indices, i]\n",
      "        end\n",
      "    end\n",
      "    \n",
      "    # get the median of non-NA rows\n",
      "    median_age = median(df[:Age][filled_indices])\n",
      "\n",
      "    # Insert a new dataframe row with that value substituting for NA's\n",
      "    adjustedAge = copy(df[:Age])\n",
      "    adjustedAge[na_indices] = median_age\n",
      "    insert!(df, 8, adjustedAge, :AdjustedAge)\n",
      "end\n"
     ],
     "language": "python",
     "metadata": {},
     "outputs": [
      {
       "metadata": {},
       "output_type": "pyout",
       "prompt_number": 3,
       "text": [
        "replace_na_median! (generic function with 1 method)"
       ]
      }
     ],
     "prompt_number": 3
    },
    {
     "cell_type": "code",
     "collapsed": false,
     "input": [
      "df_string_to_binary!(train, 6, :Sex, :SexBinary, \"male\")\n",
      "replace_na_median!(train)"
     ],
     "language": "python",
     "metadata": {},
     "outputs": [
      {
       "html": [
        "<table class=\"data-frame\"><tr><th></th><th>PassengerId</th><th>Survived</th><th>Pclass</th><th>Name</th><th>Sex</th><th>SexBinary</th><th>Age</th><th>AdjustedAge</th><th>SibSp</th><th>Parch</th><th>Ticket</th><th>Fare</th><th>Cabin</th><th>Embarked</th></tr><tr><th>1</th><td>1</td><td>0</td><td>3</td><td>Braund, Mr. Owen Harris</td><td>male</td><td>1</td><td>22.0</td><td>22.0</td><td>1</td><td>0</td><td>A/5 21171</td><td>7.25</td><td>NA</td><td>S</td></tr><tr><th>2</th><td>2</td><td>1</td><td>1</td><td>Cumings, Mrs. John Bradley (Florence Briggs Thayer)</td><td>female</td><td>0</td><td>38.0</td><td>38.0</td><td>1</td><td>0</td><td>PC 17599</td><td>71.2833</td><td>C85</td><td>C</td></tr><tr><th>3</th><td>3</td><td>1</td><td>3</td><td>Heikkinen, Miss. Laina</td><td>female</td><td>0</td><td>26.0</td><td>26.0</td><td>0</td><td>0</td><td>STON/O2. 3101282</td><td>7.925</td><td>NA</td><td>S</td></tr><tr><th>4</th><td>4</td><td>1</td><td>1</td><td>Futrelle, Mrs. Jacques Heath (Lily May Peel)</td><td>female</td><td>0</td><td>35.0</td><td>35.0</td><td>1</td><td>0</td><td>113803</td><td>53.1</td><td>C123</td><td>S</td></tr><tr><th>5</th><td>5</td><td>0</td><td>3</td><td>Allen, Mr. William Henry</td><td>male</td><td>1</td><td>35.0</td><td>35.0</td><td>0</td><td>0</td><td>373450</td><td>8.05</td><td>NA</td><td>S</td></tr><tr><th>6</th><td>6</td><td>0</td><td>3</td><td>Moran, Mr. James</td><td>male</td><td>1</td><td>NA</td><td>28.0</td><td>0</td><td>0</td><td>330877</td><td>8.4583</td><td>NA</td><td>Q</td></tr><tr><th>7</th><td>7</td><td>0</td><td>1</td><td>McCarthy, Mr. Timothy J</td><td>male</td><td>1</td><td>54.0</td><td>54.0</td><td>0</td><td>0</td><td>17463</td><td>51.8625</td><td>E46</td><td>S</td></tr><tr><th>8</th><td>8</td><td>0</td><td>3</td><td>Palsson, Master. Gosta Leonard</td><td>male</td><td>1</td><td>2.0</td><td>2.0</td><td>3</td><td>1</td><td>349909</td><td>21.075</td><td>NA</td><td>S</td></tr><tr><th>9</th><td>9</td><td>1</td><td>3</td><td>Johnson, Mrs. Oscar W (Elisabeth Vilhelmina Berg)</td><td>female</td><td>0</td><td>27.0</td><td>27.0</td><td>0</td><td>2</td><td>347742</td><td>11.1333</td><td>NA</td><td>S</td></tr><tr><th>10</th><td>10</td><td>1</td><td>2</td><td>Nasser, Mrs. Nicholas (Adele Achem)</td><td>female</td><td>0</td><td>14.0</td><td>14.0</td><td>1</td><td>0</td><td>237736</td><td>30.0708</td><td>NA</td><td>C</td></tr><tr><th>11</th><td>11</td><td>1</td><td>3</td><td>Sandstrom, Miss. Marguerite Rut</td><td>female</td><td>0</td><td>4.0</td><td>4.0</td><td>1</td><td>1</td><td>PP 9549</td><td>16.7</td><td>G6</td><td>S</td></tr><tr><th>12</th><td>12</td><td>1</td><td>1</td><td>Bonnell, Miss. Elizabeth</td><td>female</td><td>0</td><td>58.0</td><td>58.0</td><td>0</td><td>0</td><td>113783</td><td>26.55</td><td>C103</td><td>S</td></tr><tr><th>13</th><td>13</td><td>0</td><td>3</td><td>Saundercock, Mr. William Henry</td><td>male</td><td>1</td><td>20.0</td><td>20.0</td><td>0</td><td>0</td><td>A/5. 2151</td><td>8.05</td><td>NA</td><td>S</td></tr><tr><th>14</th><td>14</td><td>0</td><td>3</td><td>Andersson, Mr. Anders Johan</td><td>male</td><td>1</td><td>39.0</td><td>39.0</td><td>1</td><td>5</td><td>347082</td><td>31.275</td><td>NA</td><td>S</td></tr><tr><th>15</th><td>15</td><td>0</td><td>3</td><td>Vestrom, Miss. Hulda Amanda Adolfina</td><td>female</td><td>0</td><td>14.0</td><td>14.0</td><td>0</td><td>0</td><td>350406</td><td>7.8542</td><td>NA</td><td>S</td></tr><tr><th>16</th><td>16</td><td>1</td><td>2</td><td>Hewlett, Mrs. (Mary D Kingcome) </td><td>female</td><td>0</td><td>55.0</td><td>55.0</td><td>0</td><td>0</td><td>248706</td><td>16.0</td><td>NA</td><td>S</td></tr><tr><th>17</th><td>17</td><td>0</td><td>3</td><td>Rice, Master. Eugene</td><td>male</td><td>1</td><td>2.0</td><td>2.0</td><td>4</td><td>1</td><td>382652</td><td>29.125</td><td>NA</td><td>Q</td></tr><tr><th>18</th><td>18</td><td>1</td><td>2</td><td>Williams, Mr. Charles Eugene</td><td>male</td><td>1</td><td>NA</td><td>28.0</td><td>0</td><td>0</td><td>244373</td><td>13.0</td><td>NA</td><td>S</td></tr><tr><th>19</th><td>19</td><td>0</td><td>3</td><td>Vander Planke, Mrs. Julius (Emelia Maria Vandemoortele)</td><td>female</td><td>0</td><td>31.0</td><td>31.0</td><td>1</td><td>0</td><td>345763</td><td>18.0</td><td>NA</td><td>S</td></tr><tr><th>20</th><td>20</td><td>1</td><td>3</td><td>Masselmani, Mrs. Fatima</td><td>female</td><td>0</td><td>NA</td><td>28.0</td><td>0</td><td>0</td><td>2649</td><td>7.225</td><td>NA</td><td>C</td></tr><tr><th>21</th><td>21</td><td>0</td><td>2</td><td>Fynney, Mr. Joseph J</td><td>male</td><td>1</td><td>35.0</td><td>35.0</td><td>0</td><td>0</td><td>239865</td><td>26.0</td><td>NA</td><td>S</td></tr><tr><th>22</th><td>22</td><td>1</td><td>2</td><td>Beesley, Mr. Lawrence</td><td>male</td><td>1</td><td>34.0</td><td>34.0</td><td>0</td><td>0</td><td>248698</td><td>13.0</td><td>D56</td><td>S</td></tr><tr><th>23</th><td>23</td><td>1</td><td>3</td><td>McGowan, Miss. Anna \"Annie\"</td><td>female</td><td>0</td><td>15.0</td><td>15.0</td><td>0</td><td>0</td><td>330923</td><td>8.0292</td><td>NA</td><td>Q</td></tr><tr><th>24</th><td>24</td><td>1</td><td>1</td><td>Sloper, Mr. William Thompson</td><td>male</td><td>1</td><td>28.0</td><td>28.0</td><td>0</td><td>0</td><td>113788</td><td>35.5</td><td>A6</td><td>S</td></tr><tr><th>25</th><td>25</td><td>0</td><td>3</td><td>Palsson, Miss. Torborg Danira</td><td>female</td><td>0</td><td>8.0</td><td>8.0</td><td>3</td><td>1</td><td>349909</td><td>21.075</td><td>NA</td><td>S</td></tr><tr><th>26</th><td>26</td><td>1</td><td>3</td><td>Asplund, Mrs. Carl Oscar (Selma Augusta Emilia Johansson)</td><td>female</td><td>0</td><td>38.0</td><td>38.0</td><td>1</td><td>5</td><td>347077</td><td>31.3875</td><td>NA</td><td>S</td></tr><tr><th>27</th><td>27</td><td>0</td><td>3</td><td>Emir, Mr. Farred Chehab</td><td>male</td><td>1</td><td>NA</td><td>28.0</td><td>0</td><td>0</td><td>2631</td><td>7.225</td><td>NA</td><td>C</td></tr><tr><th>28</th><td>28</td><td>0</td><td>1</td><td>Fortune, Mr. Charles Alexander</td><td>male</td><td>1</td><td>19.0</td><td>19.0</td><td>3</td><td>2</td><td>19950</td><td>263.0</td><td>C23 C25 C27</td><td>S</td></tr><tr><th>29</th><td>29</td><td>1</td><td>3</td><td>O'Dwyer, Miss. Ellen \"Nellie\"</td><td>female</td><td>0</td><td>NA</td><td>28.0</td><td>0</td><td>0</td><td>330959</td><td>7.8792</td><td>NA</td><td>Q</td></tr><tr><th>30</th><td>30</td><td>0</td><td>3</td><td>Todoroff, Mr. Lalio</td><td>male</td><td>1</td><td>NA</td><td>28.0</td><td>0</td><td>0</td><td>349216</td><td>7.8958</td><td>NA</td><td>S</td></tr><tr><th>&vellip;</th><td>&vellip;</td><td>&vellip;</td><td>&vellip;</td><td>&vellip;</td><td>&vellip;</td><td>&vellip;</td><td>&vellip;</td><td>&vellip;</td><td>&vellip;</td><td>&vellip;</td><td>&vellip;</td><td>&vellip;</td><td>&vellip;</td><td>&vellip;</td></tr></table>"
       ],
       "metadata": {},
       "output_type": "pyout",
       "prompt_number": 4,
       "text": [
        "891x14 DataFrame\n",
        "| Row | PassengerId | Survived | Pclass |\n",
        "|-----|-------------|----------|--------|\n",
        "| 1   | 1           | 0        | 3      |\n",
        "| 2   | 2           | 1        | 1      |\n",
        "| 3   | 3           | 1        | 3      |\n",
        "| 4   | 4           | 1        | 1      |\n",
        "| 5   | 5           | 0        | 3      |\n",
        "| 6   | 6           | 0        | 3      |\n",
        "| 7   | 7           | 0        | 1      |\n",
        "| 8   | 8           | 0        | 3      |\n",
        "| 9   | 9           | 1        | 3      |\n",
        "| 10  | 10          | 1        | 2      |\n",
        "| 11  | 11          | 1        | 3      |\n",
        "\u22ee\n",
        "| 880 | 880         | 1        | 1      |\n",
        "| 881 | 881         | 1        | 2      |\n",
        "| 882 | 882         | 0        | 3      |\n",
        "| 883 | 883         | 0        | 3      |\n",
        "| 884 | 884         | 0        | 2      |\n",
        "| 885 | 885         | 0        | 3      |\n",
        "| 886 | 886         | 0        | 3      |\n",
        "| 887 | 887         | 0        | 2      |\n",
        "| 888 | 888         | 1        | 1      |\n",
        "| 889 | 889         | 0        | 3      |\n",
        "| 890 | 890         | 1        | 1      |\n",
        "| 891 | 891         | 0        | 3      |\n",
        "\n",
        "| Row | Name                                                  | Sex      |\n",
        "|-----|-------------------------------------------------------|----------|\n",
        "| 1   | \"Braund, Mr. Owen Harris\"                             | \"male\"   |\n",
        "| 2   | \"Cumings, Mrs. John Bradley (Florence Briggs Thayer)\" | \"female\" |\n",
        "| 3   | \"Heikkinen, Miss. Laina\"                              | \"female\" |\n",
        "| 4   | \"Futrelle, Mrs. Jacques Heath (Lily May Peel)\"        | \"female\" |\n",
        "| 5   | \"Allen, Mr. William Henry\"                            | \"male\"   |\n",
        "| 6   | \"Moran, Mr. James\"                                    | \"male\"   |\n",
        "| 7   | \"McCarthy, Mr. Timothy J\"                             | \"male\"   |\n",
        "| 8   | \"Palsson, Master. Gosta Leonard\"                      | \"male\"   |\n",
        "| 9   | \"Johnson, Mrs. Oscar W (Elisabeth Vilhelmina Berg)\"   | \"female\" |\n",
        "| 10  | \"Nasser, Mrs. Nicholas (Adele Achem)\"                 | \"female\" |\n",
        "| 11  | \"Sandstrom, Miss. Marguerite Rut\"                     | \"female\" |\n",
        "\u22ee\n",
        "| 880 | \"Potter, Mrs. Thomas Jr (Lily Alexenia Wilson)\"       | \"female\" |\n",
        "| 881 | \"Shelley, Mrs. William (Imanita Parrish Hall)\"        | \"female\" |\n",
        "| 882 | \"Markun, Mr. Johann\"                                  | \"male\"   |\n",
        "| 883 | \"Dahlberg, Miss. Gerda Ulrika\"                        | \"female\" |\n",
        "| 884 | \"Banfield, Mr. Frederick James\"                       | \"male\"   |\n",
        "| 885 | \"Sutehall, Mr. Henry Jr\"                              | \"male\"   |\n",
        "| 886 | \"Rice, Mrs. William (Margaret Norton)\"                | \"female\" |\n",
        "| 887 | \"Montvila, Rev. Juozas\"                               | \"male\"   |\n",
        "| 888 | \"Graham, Miss. Margaret Edith\"                        | \"female\" |\n",
        "| 889 | \"Johnston, Miss. Catherine Helen \\\"Carrie\\\"\"            | \"female\" |\n",
        "| 890 | \"Behr, Mr. Karl Howell\"                               | \"male\"   |\n",
        "| 891 | \"Dooley, Mr. Patrick\"                                 | \"male\"   |\n",
        "\n",
        "| Row | SexBinary | Age  | AdjustedAge | SibSp | Parch | Ticket             |\n",
        "|-----|-----------|------|-------------|-------|-------|--------------------|\n",
        "| 1   | 1         | 22.0 | 22.0        | 1     | 0     | \"A/5 21171\"        |\n",
        "| 2   | 0         | 38.0 | 38.0        | 1     | 0     | \"PC 17599\"         |\n",
        "| 3   | 0         | 26.0 | 26.0        | 0     | 0     | \"STON/O2. 3101282\" |\n",
        "| 4   | 0         | 35.0 | 35.0        | 1     | 0     | \"113803\"           |\n",
        "| 5   | 1         | 35.0 | 35.0        | 0     | 0     | \"373450\"           |\n",
        "| 6   | 1         | NA   | 28.0        | 0     | 0     | \"330877\"           |\n",
        "| 7   | 1         | 54.0 | 54.0        | 0     | 0     | \"17463\"            |\n",
        "| 8   | 1         | 2.0  | 2.0         | 3     | 1     | \"349909\"           |\n",
        "| 9   | 0         | 27.0 | 27.0        | 0     | 2     | \"347742\"           |\n",
        "| 10  | 0         | 14.0 | 14.0        | 1     | 0     | \"237736\"           |\n",
        "| 11  | 0         | 4.0  | 4.0         | 1     | 1     | \"PP 9549\"          |\n",
        "\u22ee\n",
        "| 880 | 0         | 56.0 | 56.0        | 0     | 1     | \"11767\"            |\n",
        "| 881 | 0         | 25.0 | 25.0        | 0     | 1     | \"230433\"           |\n",
        "| 882 | 1         | 33.0 | 33.0        | 0     | 0     | \"349257\"           |\n",
        "| 883 | 0         | 22.0 | 22.0        | 0     | 0     | \"7552\"             |\n",
        "| 884 | 1         | 28.0 | 28.0        | 0     | 0     | \"C.A./SOTON 34068\" |\n",
        "| 885 | 1         | 25.0 | 25.0        | 0     | 0     | \"SOTON/OQ 392076\"  |\n",
        "| 886 | 0         | 39.0 | 39.0        | 0     | 5     | \"382652\"           |\n",
        "| 887 | 1         | 27.0 | 27.0        | 0     | 0     | \"211536\"           |\n",
        "| 888 | 0         | 19.0 | 19.0        | 0     | 0     | \"112053\"           |\n",
        "| 889 | 0         | NA   | 28.0        | 1     | 2     | \"W./C. 6607\"       |\n",
        "| 890 | 1         | 26.0 | 26.0        | 0     | 0     | \"111369\"           |\n",
        "| 891 | 1         | 32.0 | 32.0        | 0     | 0     | \"370376\"           |\n",
        "\n",
        "| Row | Fare    | Cabin  | Embarked |\n",
        "|-----|---------|--------|----------|\n",
        "| 1   | 7.25    | NA     | \"S\"      |\n",
        "| 2   | 71.2833 | \"C85\"  | \"C\"      |\n",
        "| 3   | 7.925   | NA     | \"S\"      |\n",
        "| 4   | 53.1    | \"C123\" | \"S\"      |\n",
        "| 5   | 8.05    | NA     | \"S\"      |\n",
        "| 6   | 8.4583  | NA     | \"Q\"      |\n",
        "| 7   | 51.8625 | \"E46\"  | \"S\"      |\n",
        "| 8   | 21.075  | NA     | \"S\"      |\n",
        "| 9   | 11.1333 | NA     | \"S\"      |\n",
        "| 10  | 30.0708 | NA     | \"C\"      |\n",
        "| 11  | 16.7    | \"G6\"   | \"S\"      |\n",
        "\u22ee\n",
        "| 880 | 83.1583 | \"C50\"  | \"C\"      |\n",
        "| 881 | 26.0    | NA     | \"S\"      |\n",
        "| 882 | 7.8958  | NA     | \"S\"      |\n",
        "| 883 | 10.5167 | NA     | \"S\"      |\n",
        "| 884 | 10.5    | NA     | \"S\"      |\n",
        "| 885 | 7.05    | NA     | \"S\"      |\n",
        "| 886 | 29.125  | NA     | \"Q\"      |\n",
        "| 887 | 13.0    | NA     | \"S\"      |\n",
        "| 888 | 30.0    | \"B42\"  | \"S\"      |\n",
        "| 889 | 23.45   | NA     | \"S\"      |\n",
        "| 890 | 30.0    | \"C148\" | \"C\"      |\n",
        "| 891 | 7.75    | NA     | \"Q\"      |"
       ]
      }
     ],
     "prompt_number": 4
    },
    {
     "cell_type": "code",
     "collapsed": false,
     "input": [
      "df_string_to_binary!(test, 5, :Sex, :SexBinary, \"male\")\n",
      "replace_na_median!(test)\n",
      "fare_na_index = sum(isna(test[:Fare]) .* [1:size(test[:Fare],1)])\n",
      "test[:Fare][fare_na_index] = median(dropna(test[:Fare]))"
     ],
     "language": "python",
     "metadata": {},
     "outputs": [
      {
       "metadata": {},
       "output_type": "pyout",
       "prompt_number": 5,
       "text": [
        "14.4542"
       ]
      }
     ],
     "prompt_number": 5
    },
    {
     "cell_type": "markdown",
     "metadata": {},
     "source": [
      "RegERMs requires 1 and -1 for positive and negative classes, so we'll switch all those 0's to -1's and set up the SVM"
     ]
    },
    {
     "cell_type": "code",
     "collapsed": false,
     "input": [
      "X = float(array(train[[:SexBinary, :AdjustedAge]])) # cast to float so optimizer doesn't complain\n",
      "y = array(train[:Survived])\n",
      "y = [label == 1 ? 1 : -1 for label in y];"
     ],
     "language": "python",
     "metadata": {},
     "outputs": [],
     "prompt_number": 30
    },
    {
     "cell_type": "code",
     "collapsed": false,
     "input": [
      "age_sex_svm_rbf = SVM(X,y; kernel = :rbf)"
     ],
     "language": "python",
     "metadata": {},
     "outputs": [
      {
       "metadata": {},
       "output_type": "pyout",
       "prompt_number": 31,
       "text": [
        "Support Vector Machine\n",
        "----------------------\n",
        "number of examples:       891\n",
        "number of features:       2\n",
        "kernel function:          rbf\n"
       ]
      }
     ],
     "prompt_number": 31
    },
    {
     "cell_type": "markdown",
     "metadata": {},
     "source": [
      "Next, we'll set a regularization parameter for this initial test and optimize it"
     ]
    },
    {
     "cell_type": "code",
     "collapsed": false,
     "input": [
      "regParam = 0.1\n",
      "@time model = optimize(age_sex_svm_rbf, regParam)"
     ],
     "language": "python",
     "metadata": {},
     "outputs": [
      {
       "output_type": "stream",
       "stream": "stdout",
       "text": [
        "elapsed time: 74"
       ]
      },
      {
       "output_type": "stream",
       "stream": "stdout",
       "text": [
        ".927836302 seconds (23904014736 bytes allocated, 58.07% gc time)\n"
       ]
      },
      {
       "metadata": {},
       "output_type": "pyout",
       "prompt_number": 32,
       "text": [
        "Dual Model\n",
        "----------\n",
        "number of dimensions: 144\n",
        "number of examples:   891\n",
        "kernel function:      rbf\n"
       ]
      }
     ],
     "prompt_number": 32
    },
    {
     "cell_type": "markdown",
     "metadata": {},
     "source": [
      "Lets take a quick look at the training error"
     ]
    },
    {
     "cell_type": "code",
     "collapsed": false,
     "input": [
      "yhat = int(predict(model, X)) # output is in the type of X, must cast back to int\n",
      "error_train = correctrate(y, yhat)"
     ],
     "language": "python",
     "metadata": {},
     "outputs": [
      {
       "metadata": {},
       "output_type": "pyout",
       "prompt_number": 33,
       "text": [
        "0.7957351290684624"
       ]
      }
     ],
     "prompt_number": 33
    },
    {
     "cell_type": "markdown",
     "metadata": {},
     "source": [
      "Now lets do the whole shebang on the test set"
     ]
    },
    {
     "cell_type": "code",
     "collapsed": false,
     "input": [
      "X_test = float(array(test[[:SexBinary, :AdjustedAge]]));\n",
      "yhat = int(predict(model, X_test))\n",
      "yhat = [label == 1 ? 1 : 0 for label in ybar] # get labels back into {0, 1}\n",
      "\n",
      "submission = DataFrame()\n",
      "submission[:PassengerId] = test[:PassengerId]\n",
      "submission[:Survived] = yhat"
     ],
     "language": "python",
     "metadata": {},
     "outputs": [
      {
       "metadata": {},
       "output_type": "pyout",
       "prompt_number": 34,
       "text": [
        "418-element Array{Int64,1}:\n",
        " 0\n",
        " 1\n",
        " 0\n",
        " 0\n",
        " 1\n",
        " 0\n",
        " 1\n",
        " 0\n",
        " 1\n",
        " 0\n",
        " 0\n",
        " 0\n",
        " 1\n",
        " \u22ee\n",
        " 0\n",
        " 1\n",
        " 1\n",
        " 1\n",
        " 1\n",
        " 1\n",
        " 1\n",
        " 0\n",
        " 1\n",
        " 0\n",
        " 0\n",
        " 0"
       ]
      }
     ],
     "prompt_number": 34
    },
    {
     "cell_type": "heading",
     "level": 3,
     "metadata": {},
     "source": [
      "Submission 1 Leaderboard Score: 0.68900 "
     ]
    },
    {
     "cell_type": "heading",
     "level": 2,
     "metadata": {},
     "source": [
      "Second Attempt: Same Data, Now with feature scaling and model parameters tuned on cross validation accuracy"
     ]
    },
    {
     "cell_type": "markdown",
     "metadata": {},
     "source": [
      "Lets do a quick comparison to see how feature scaling affects training time and performance relative to not having it. We'll do the previous calculations over again to compare the time, but we'll only submit the results for the feature scaled version"
     ]
    },
    {
     "cell_type": "code",
     "collapsed": false,
     "input": [
      "function scale_features!(X::Array{Float64,2})\n",
      "    n, m = size(X)\n",
      "    for i = 1:m\n",
      "        feature_mean = mean(X[:,i])\n",
      "        feature_std = std(X[:, i])\n",
      "        \n",
      "        X[:, i] = X[:, i] .- feature_mean\n",
      "        X[:, i] = X[:, i] ./ feature_std\n",
      "    end\n",
      "end\n",
      "\n",
      "function scale_features(X::Array{Float64,2}) \n",
      "    Q = copy(X)\n",
      "    scale_features!(Q)\n",
      "    return Q\n",
      "end\n",
      "\n",
      "X_fs = scale_features(X);"
     ],
     "language": "python",
     "metadata": {},
     "outputs": [],
     "prompt_number": 11
    },
    {
     "cell_type": "code",
     "collapsed": false,
     "input": [
      "y = [label == 1 ? 1 : -1 for label in y]\n",
      "@time svm = SVM(X,y; kernel = :rbf)\n",
      "@time svm_fs = SVM(X_fs,y; kernel = :rbf)"
     ],
     "language": "python",
     "metadata": {},
     "outputs": [
      {
       "output_type": "stream",
       "stream": "stdout",
       "text": [
        "elapsed time: "
       ]
      },
      {
       "output_type": "stream",
       "stream": "stdout",
       "text": [
        "5.5805e-5 seconds (976 bytes allocated)\n",
        "elapsed time: 6.7233e-5 seconds (976 bytes allocated)\n"
       ]
      },
      {
       "metadata": {},
       "output_type": "pyout",
       "prompt_number": 12,
       "text": [
        "Support Vector Machine\n",
        "----------------------\n",
        "number of examples:       891\n",
        "number of features:       2\n",
        "kernel function:          rbf\n"
       ]
      }
     ],
     "prompt_number": 12
    },
    {
     "cell_type": "code",
     "collapsed": false,
     "input": [
      "C = 0.1\n",
      "@time model = optimize(svm, C)\n",
      "@time model_fs = optimize(svm_fs, C)"
     ],
     "language": "python",
     "metadata": {},
     "outputs": [
      {
       "output_type": "stream",
       "stream": "stdout",
       "text": [
        "elapsed time: "
       ]
      },
      {
       "output_type": "stream",
       "stream": "stdout",
       "text": [
        "95.998992351 seconds (23904014736 bytes allocated, 55.10% gc time)\n",
        "elapsed time: "
       ]
      },
      {
       "output_type": "stream",
       "stream": "stdout",
       "text": [
        "21.444362704 seconds (5956836160 bytes allocated, 53.11% gc time)\n"
       ]
      },
      {
       "metadata": {},
       "output_type": "pyout",
       "prompt_number": 13,
       "text": [
        "Dual Model\n",
        "----------\n",
        "number of dimensions: 33\n",
        "number of examples:   891\n",
        "kernel function:      rbf\n"
       ]
      }
     ],
     "prompt_number": 13
    },
    {
     "cell_type": "code",
     "collapsed": false,
     "input": [
      "X_test = float(array(test[[:SexBinary, :AdjustedAge]]))\n",
      "ybar_fs = float(predict(model_fs, X_test))\n",
      "ybar_fs = [label == 1 ? 1 : 0 for label in ybar_fs]; # get labels back into {0, 1}"
     ],
     "language": "python",
     "metadata": {},
     "outputs": [
      {
       "metadata": {},
       "output_type": "pyout",
       "prompt_number": 14,
       "text": [
        "418-element Array{Int64,1}:\n",
        " 0\n",
        " 0\n",
        " 0\n",
        " 0\n",
        " 0\n",
        " 0\n",
        " 0\n",
        " 0\n",
        " 0\n",
        " 0\n",
        " 0\n",
        " 0\n",
        " 0\n",
        " \u22ee\n",
        " 0\n",
        " 0\n",
        " 0\n",
        " 0\n",
        " 0\n",
        " 0\n",
        " 0\n",
        " 0\n",
        " 0\n",
        " 0\n",
        " 0\n",
        " 0"
       ]
      }
     ],
     "prompt_number": 14
    },
    {
     "cell_type": "code",
     "collapsed": false,
     "input": [
      "submission[:Survived] = ybar_fs\n"
     ],
     "language": "python",
     "metadata": {},
     "outputs": [
      {
       "metadata": {},
       "output_type": "pyout",
       "prompt_number": 36,
       "text": [
        "418-element Array{Int64,1}:\n",
        " 0\n",
        " 0\n",
        " 0\n",
        " 0\n",
        " 0\n",
        " 0\n",
        " 0\n",
        " 0\n",
        " 0\n",
        " 0\n",
        " 0\n",
        " 0\n",
        " 0\n",
        " \u22ee\n",
        " 0\n",
        " 0\n",
        " 0\n",
        " 0\n",
        " 0\n",
        " 0\n",
        " 0\n",
        " 0\n",
        " 0\n",
        " 0\n",
        " 0\n",
        " 0"
       ]
      }
     ],
     "prompt_number": 36
    },
    {
     "cell_type": "heading",
     "level": 3,
     "metadata": {},
     "source": [
      "Submission 2 Score: 0.64593 "
     ]
    },
    {
     "cell_type": "markdown",
     "metadata": {},
     "source": [
      "So, we gain some training speed at the expense of some accuracy. We should be able to minimize the loss of accuracy when we tune the parameter C"
     ]
    },
    {
     "cell_type": "heading",
     "level": 2,
     "metadata": {},
     "source": [
      "Sumbission 3: Tuning Regularization parameter with 3-Fold Cross Validation"
     ]
    },
    {
     "cell_type": "markdown",
     "metadata": {},
     "source": [
      "Lets test out the cross validation function first, we'll be using a 3-fold CV"
     ]
    },
    {
     "cell_type": "code",
     "collapsed": false,
     "input": [
      "@time score = mean(cross_validate(\n",
      "    inds -> optimize(SVM(X_fs[inds, :], y[inds]; kernel = :rbf), C), #returns a learned model\n",
      "    (c, inds) -> correctrate( int(predict(c, X_fs[inds, :])), y[inds]), # evaluates cv error\n",
      "    n, \n",
      "    Kfold(n,3)))\n"
     ],
     "language": "python",
     "metadata": {},
     "outputs": [
      {
       "output_type": "stream",
       "stream": "stdout",
       "text": [
        "elapsed time: "
       ]
      },
      {
       "output_type": "stream",
       "stream": "stdout",
       "text": [
        "23.110822549 seconds (6734132248 bytes allocated, 52.50% gc time)\n"
       ]
      },
      {
       "metadata": {},
       "output_type": "pyout",
       "prompt_number": 16,
       "text": [
        "0.7946127946127947"
       ]
      }
     ],
     "prompt_number": 16
    },
    {
     "cell_type": "markdown",
     "metadata": {},
     "source": [
      "Since everything seems to be working, we'll use this score in our model tuning function, as we try out different values of the regularization parameter C. The RBF Kernel has another parameter sigma, but unfortunately RegERMs doesn't provide a parameterization of sigma. I made some early attempts to hack that functionality into the package's interface, but I soon realized it would have taken too much time to get it working properly."
     ]
    },
    {
     "cell_type": "code",
     "collapsed": false,
     "input": [
      "C_values = 10 .^ [-4.0:1.0]"
     ],
     "language": "python",
     "metadata": {},
     "outputs": [
      {
       "metadata": {},
       "output_type": "pyout",
       "prompt_number": 17,
       "text": [
        "6-element Array{Float64,1}:\n",
        "  0.0001\n",
        "  0.001 \n",
        "  0.01  \n",
        "  0.1   \n",
        "  1.0   \n",
        " 10.0   "
       ]
      }
     ],
     "prompt_number": 17
    },
    {
     "cell_type": "code",
     "collapsed": false,
     "input": [
      "function estfun(C)\n",
      "    return C\n",
      "end\n",
      "\n",
      "function evalfun(C)\n",
      "    score = mean(cross_validate(\n",
      "        inds -> optimize(SVM(X_fs[inds, :], y[inds]; kernel = :rbf), C), #returns a learned model\n",
      "        (c, inds) -> correctrate( y[inds], int(predict(c, X_fs[inds, :]))), # evaluates cv error\n",
      "        n, \n",
      "        Kfold(n,3))\n",
      "    )\n",
      "    return score\n",
      "end\n",
      "@time r = gridtune(estfun, evalfun,\n",
      "    (\"C\", C_values);\n",
      "    ord=Forward,\n",
      "    verbose=true)"
     ],
     "language": "python",
     "metadata": {},
     "outputs": [
      {
       "output_type": "stream",
       "stream": "stdout",
       "text": [
        "["
       ]
      },
      {
       "output_type": "stream",
       "stream": "stdout",
       "text": [
        "C=0.0001] => 0.7867564534231201\n",
        "["
       ]
      },
      {
       "output_type": "stream",
       "stream": "stdout",
       "text": [
        "C=0.001] => 0.7867564534231201\n",
        "["
       ]
      },
      {
       "output_type": "stream",
       "stream": "stdout",
       "text": [
        "C=0.01] => 0.7867564534231201\n",
        "["
       ]
      },
      {
       "output_type": "stream",
       "stream": "stdout",
       "text": [
        "C=0.1] => 0.7946127946127945\n",
        "["
       ]
      },
      {
       "output_type": "stream",
       "stream": "stdout",
       "text": [
        "C=1.0] => 0.7934904601571269\n",
        "["
       ]
      },
      {
       "output_type": "stream",
       "stream": "stdout",
       "text": [
        "C=10.0] => 0.6576879910213244\n",
        "elapsed time: 96.151191754 seconds (22078227048 bytes allocated, 49.11% gc time)\n"
       ]
      },
      {
       "metadata": {},
       "output_type": "pyout",
       "prompt_number": 18,
       "text": [
        "(0.1,(0.1,),0.7946127946127945)"
       ]
      }
     ],
     "prompt_number": 18
    },
    {
     "cell_type": "markdown",
     "metadata": {},
     "source": [
      "Gridtune returns the configuration of parmeter settings that gives the highest score. Since we're only tuning one parameter, it simply returns the optimal value of C. "
     ]
    },
    {
     "cell_type": "markdown",
     "metadata": {},
     "source": [
      "Before we add more data to the training set, we need a way of one-hot encoding the categorical variable \"Embarked\""
     ]
    },
    {
     "cell_type": "code",
     "collapsed": false,
     "input": [
      "function one_hot_encode!(df::DataFrame, Row::Symbol, domain::Array)\n",
      "    # have to handle NA's\n",
      "    for value in domain\n",
      "        one_hot = zeros(size(df,1))\n",
      "        for i = 1:size(df,1)\n",
      "            if df[Row][i] == value\n",
      "                one_hot[i] = 1\n",
      "            end\n",
      "        end\n",
      "        NewRow = symbol(string(Row) * string(value)) # \"$(Row)$(value)\"\n",
      "        df[NewRow] = one_hot\n",
      "    end\n",
      "end"
     ],
     "language": "python",
     "metadata": {},
     "outputs": [
      {
       "metadata": {},
       "output_type": "pyout",
       "prompt_number": 37,
       "text": [
        "one_hot_encode! (generic function with 1 method)"
       ]
      }
     ],
     "prompt_number": 37
    },
    {
     "cell_type": "markdown",
     "metadata": {},
     "source": [
      "It turns out that there are also some NA's in Embarked that we need to get rid of"
     ]
    },
    {
     "cell_type": "code",
     "collapsed": false,
     "input": [
      "function get_na_indices(arr::DataArray)\n",
      "    na_indices = zeros(sum(isna(arr))) # allocate array big enough for al NA's\n",
      "    j = 1\n",
      "    for i = 1:size(arr,1)\n",
      "        if isna(arr[i])\n",
      "            na_indices[j] = i\n",
      "            j += 1\n",
      "        end\n",
      "    end\n",
      "    return int(na_indices)\n",
      "end\n",
      "\n",
      "na_indices = get_na_indices(train[:Embarked])\n",
      "train[:Embarked][na_indices] = \"S\" # I remember reading that most people embarked from S"
     ],
     "language": "python",
     "metadata": {},
     "outputs": [
      {
       "metadata": {},
       "output_type": "pyout",
       "prompt_number": 20,
       "text": [
        "\"S\""
       ]
      }
     ],
     "prompt_number": 20
    },
    {
     "cell_type": "code",
     "collapsed": false,
     "input": [
      "one_hot_encode!(train, :Embarked,[\"S\", \"C\", \"Q\"])"
     ],
     "language": "python",
     "metadata": {},
     "outputs": [],
     "prompt_number": 21
    },
    {
     "cell_type": "markdown",
     "metadata": {},
     "source": [
      "Ok, time to put some more data into play"
     ]
    },
    {
     "cell_type": "code",
     "collapsed": false,
     "input": [
      "# Construct new X matrix\n",
      "\n",
      "X = array(train[[:Pclass, :AdjustedAge, :SexBinary, :SibSp, :Parch, :Fare, :EmbarkedS, :EmbarkedC, :EmbarkedQ]])\n",
      "X = float(X)\n",
      "scale_features!(X)\n",
      "\n",
      "\n",
      "# reconstruct y for posterity\n",
      "y = [label == 1 ? 1 : -1 for label in array(train[:Survived])]\n",
      "\n",
      "# train and cross validate models\n",
      "function estfun(C)\n",
      "    return C\n",
      "end\n",
      "\n",
      "function evalfun(C)\n",
      "    score = mean(cross_validate(\n",
      "        inds -> optimize(SVM(X[inds, :], y[inds]; kernel = :rbf), C), #returns a learned model\n",
      "        (c, inds) -> correctrate( y[inds], int(predict(c, X[inds, :]))), # evaluates cv error\n",
      "        n, \n",
      "        Kfold(n,3)))\n",
      "    return score\n",
      "end\n",
      "@time r = gridtune(estfun, evalfun,\n",
      "    (\"C\", C_values);\n",
      "    ord=Forward,\n",
      "    verbose=true)"
     ],
     "language": "python",
     "metadata": {},
     "outputs": [
      {
       "output_type": "stream",
       "stream": "stdout",
       "text": [
        "["
       ]
      },
      {
       "output_type": "stream",
       "stream": "stdout",
       "text": [
        "C=0.0001] => 0.7957351290684623\n",
        "["
       ]
      },
      {
       "output_type": "stream",
       "stream": "stdout",
       "text": [
        "C=0.001] => 0.8024691358024691\n",
        "["
       ]
      },
      {
       "output_type": "stream",
       "stream": "stdout",
       "text": [
        "C=0.01] => 0.8035914702581369\n",
        "["
       ]
      },
      {
       "output_type": "stream",
       "stream": "stdout",
       "text": [
        "C=0.1] => 0.8013468013468014\n",
        "["
       ]
      },
      {
       "output_type": "stream",
       "stream": "stdout",
       "text": [
        "C=1.0] => 0.8002244668911335\n",
        "["
       ]
      },
      {
       "output_type": "stream",
       "stream": "stdout",
       "text": [
        "C=10.0] => 0.7957351290684626\n",
        "elapsed time: 946.184471964 seconds (263596723396 bytes allocated, 54.90% gc time)\n"
       ]
      },
      {
       "metadata": {},
       "output_type": "pyout",
       "prompt_number": 22,
       "text": [
        "(0.01,(0.01,),0.8035914702581369)"
       ]
      }
     ],
     "prompt_number": 22
    },
    {
     "cell_type": "code",
     "collapsed": false,
     "input": [
      "# train model with C = 0.0001 with all data\n",
      "C = r[1]\n",
      "svm = SVM(X, y; kernel = :rbf)\n",
      "model = optimize(svm, C)"
     ],
     "language": "python",
     "metadata": {},
     "outputs": [
      {
       "metadata": {},
       "output_type": "pyout",
       "prompt_number": 23,
       "text": [
        "Dual Model\n",
        "----------\n",
        "number of dimensions: 574\n",
        "number of examples:   891\n",
        "kernel function:      rbf\n"
       ]
      }
     ],
     "prompt_number": 23
    },
    {
     "cell_type": "code",
     "collapsed": false,
     "input": [
      "# one hot encode Embarked for test set\n",
      "one_hot_encode!(test, :Embarked,[\"S\", \"C\", \"Q\"])"
     ],
     "language": "python",
     "metadata": {},
     "outputs": [],
     "prompt_number": 24
    },
    {
     "cell_type": "code",
     "collapsed": false,
     "input": [
      "# Prepare test set\n",
      "X_test = float(array(test[[:Pclass, :AdjustedAge, :SexBinary, :SibSp, :Parch, :Fare, :EmbarkedS, :EmbarkedC, :EmbarkedQ]]))\n",
      "scale_features!(X_test)\n",
      "\n",
      "# make predictions, get results back into proper domain\n",
      "ybar = predict(model, X_test)\n",
      "ybar = [label == 1 ? 1 : 0 for label in ybar]; \n",
      "\n",
      "# setup submission\n",
      "submission = DataFrame()\n",
      "submission[:PassengerId] = test[:PassengerId]\n",
      "submission[:Survived] = ybar"
     ],
     "language": "python",
     "metadata": {},
     "outputs": [
      {
       "metadata": {},
       "output_type": "pyout",
       "prompt_number": 25,
       "text": [
        "418-element Array{Int64,1}:\n",
        " 0\n",
        " 1\n",
        " 0\n",
        " 0\n",
        " 1\n",
        " 0\n",
        " 1\n",
        " 0\n",
        " 1\n",
        " 0\n",
        " 0\n",
        " 0\n",
        " 1\n",
        " \u22ee\n",
        " 0\n",
        " 1\n",
        " 1\n",
        " 1\n",
        " 1\n",
        " 1\n",
        " 1\n",
        " 0\n",
        " 1\n",
        " 0\n",
        " 0\n",
        " 0"
       ]
      }
     ],
     "prompt_number": 25
    },
    {
     "cell_type": "code",
     "collapsed": false,
     "input": [
      "writetable(\"$(path)/submissions/titanic_svm_3.csv\", submission)"
     ],
     "language": "python",
     "metadata": {},
     "outputs": [],
     "prompt_number": 26
    },
    {
     "cell_type": "heading",
     "level": 3,
     "metadata": {},
     "source": [
      "Submission 3 Score: 0.74163 "
     ]
    },
    {
     "cell_type": "markdown",
     "metadata": {},
     "source": [
      "This is fairly good considering I wasn't able to tune the sigma parameter as I would have liked to. I'm confident that if RegERMs had that feature, I would have been able to beat my linear regression score of. "
     ]
    }
   ],
   "metadata": {}
  }
 ]
}