{
 "metadata": {
  "language": "Julia",
  "name": "",
  "signature": "sha256:cd3a0cdbfeedf9889750a9122273d8885214b6f10f518fc8c899fd7d038afda1"
 },
 "nbformat": 3,
 "nbformat_minor": 0,
 "worksheets": [
  {
   "cells": [
    {
     "cell_type": "code",
     "collapsed": false,
     "input": [
      "using DataFrames, GLM"
     ],
     "language": "python",
     "metadata": {},
     "outputs": [],
     "prompt_number": 44
    },
    {
     "cell_type": "code",
     "collapsed": false,
     "input": [
      "path = \"/Users/nicklawler222/ml_julia/kaggle/kaggle_titanic\"\n",
      "data_test  = readtable(\"$(path)/data/test.csv\");\n",
      "data_train = readtable(\"$(path)/data/train.csv\")"
     ],
     "language": "python",
     "metadata": {},
     "outputs": [
      {
       "html": [
        "<table class=\"data-frame\"><tr><th></th><th>PassengerId</th><th>Survived</th><th>Pclass</th><th>Name</th><th>Sex</th><th>Age</th><th>SibSp</th><th>Parch</th><th>Ticket</th><th>Fare</th><th>Cabin</th><th>Embarked</th></tr><tr><th>1</th><td>1</td><td>0</td><td>3</td><td>Braund, Mr. Owen Harris</td><td>male</td><td>22.0</td><td>1</td><td>0</td><td>A/5 21171</td><td>7.25</td><td>NA</td><td>S</td></tr><tr><th>2</th><td>2</td><td>1</td><td>1</td><td>Cumings, Mrs. John Bradley (Florence Briggs Thayer)</td><td>female</td><td>38.0</td><td>1</td><td>0</td><td>PC 17599</td><td>71.2833</td><td>C85</td><td>C</td></tr><tr><th>3</th><td>3</td><td>1</td><td>3</td><td>Heikkinen, Miss. Laina</td><td>female</td><td>26.0</td><td>0</td><td>0</td><td>STON/O2. 3101282</td><td>7.925</td><td>NA</td><td>S</td></tr><tr><th>4</th><td>4</td><td>1</td><td>1</td><td>Futrelle, Mrs. Jacques Heath (Lily May Peel)</td><td>female</td><td>35.0</td><td>1</td><td>0</td><td>113803</td><td>53.1</td><td>C123</td><td>S</td></tr><tr><th>5</th><td>5</td><td>0</td><td>3</td><td>Allen, Mr. William Henry</td><td>male</td><td>35.0</td><td>0</td><td>0</td><td>373450</td><td>8.05</td><td>NA</td><td>S</td></tr><tr><th>6</th><td>6</td><td>0</td><td>3</td><td>Moran, Mr. James</td><td>male</td><td>NA</td><td>0</td><td>0</td><td>330877</td><td>8.4583</td><td>NA</td><td>Q</td></tr><tr><th>7</th><td>7</td><td>0</td><td>1</td><td>McCarthy, Mr. Timothy J</td><td>male</td><td>54.0</td><td>0</td><td>0</td><td>17463</td><td>51.8625</td><td>E46</td><td>S</td></tr><tr><th>8</th><td>8</td><td>0</td><td>3</td><td>Palsson, Master. Gosta Leonard</td><td>male</td><td>2.0</td><td>3</td><td>1</td><td>349909</td><td>21.075</td><td>NA</td><td>S</td></tr><tr><th>9</th><td>9</td><td>1</td><td>3</td><td>Johnson, Mrs. Oscar W (Elisabeth Vilhelmina Berg)</td><td>female</td><td>27.0</td><td>0</td><td>2</td><td>347742</td><td>11.1333</td><td>NA</td><td>S</td></tr><tr><th>10</th><td>10</td><td>1</td><td>2</td><td>Nasser, Mrs. Nicholas (Adele Achem)</td><td>female</td><td>14.0</td><td>1</td><td>0</td><td>237736</td><td>30.0708</td><td>NA</td><td>C</td></tr><tr><th>11</th><td>11</td><td>1</td><td>3</td><td>Sandstrom, Miss. Marguerite Rut</td><td>female</td><td>4.0</td><td>1</td><td>1</td><td>PP 9549</td><td>16.7</td><td>G6</td><td>S</td></tr><tr><th>12</th><td>12</td><td>1</td><td>1</td><td>Bonnell, Miss. Elizabeth</td><td>female</td><td>58.0</td><td>0</td><td>0</td><td>113783</td><td>26.55</td><td>C103</td><td>S</td></tr><tr><th>13</th><td>13</td><td>0</td><td>3</td><td>Saundercock, Mr. William Henry</td><td>male</td><td>20.0</td><td>0</td><td>0</td><td>A/5. 2151</td><td>8.05</td><td>NA</td><td>S</td></tr><tr><th>14</th><td>14</td><td>0</td><td>3</td><td>Andersson, Mr. Anders Johan</td><td>male</td><td>39.0</td><td>1</td><td>5</td><td>347082</td><td>31.275</td><td>NA</td><td>S</td></tr><tr><th>15</th><td>15</td><td>0</td><td>3</td><td>Vestrom, Miss. Hulda Amanda Adolfina</td><td>female</td><td>14.0</td><td>0</td><td>0</td><td>350406</td><td>7.8542</td><td>NA</td><td>S</td></tr><tr><th>16</th><td>16</td><td>1</td><td>2</td><td>Hewlett, Mrs. (Mary D Kingcome) </td><td>female</td><td>55.0</td><td>0</td><td>0</td><td>248706</td><td>16.0</td><td>NA</td><td>S</td></tr><tr><th>17</th><td>17</td><td>0</td><td>3</td><td>Rice, Master. Eugene</td><td>male</td><td>2.0</td><td>4</td><td>1</td><td>382652</td><td>29.125</td><td>NA</td><td>Q</td></tr><tr><th>18</th><td>18</td><td>1</td><td>2</td><td>Williams, Mr. Charles Eugene</td><td>male</td><td>NA</td><td>0</td><td>0</td><td>244373</td><td>13.0</td><td>NA</td><td>S</td></tr><tr><th>19</th><td>19</td><td>0</td><td>3</td><td>Vander Planke, Mrs. Julius (Emelia Maria Vandemoortele)</td><td>female</td><td>31.0</td><td>1</td><td>0</td><td>345763</td><td>18.0</td><td>NA</td><td>S</td></tr><tr><th>20</th><td>20</td><td>1</td><td>3</td><td>Masselmani, Mrs. Fatima</td><td>female</td><td>NA</td><td>0</td><td>0</td><td>2649</td><td>7.225</td><td>NA</td><td>C</td></tr><tr><th>21</th><td>21</td><td>0</td><td>2</td><td>Fynney, Mr. Joseph J</td><td>male</td><td>35.0</td><td>0</td><td>0</td><td>239865</td><td>26.0</td><td>NA</td><td>S</td></tr><tr><th>22</th><td>22</td><td>1</td><td>2</td><td>Beesley, Mr. Lawrence</td><td>male</td><td>34.0</td><td>0</td><td>0</td><td>248698</td><td>13.0</td><td>D56</td><td>S</td></tr><tr><th>23</th><td>23</td><td>1</td><td>3</td><td>McGowan, Miss. Anna \"Annie\"</td><td>female</td><td>15.0</td><td>0</td><td>0</td><td>330923</td><td>8.0292</td><td>NA</td><td>Q</td></tr><tr><th>24</th><td>24</td><td>1</td><td>1</td><td>Sloper, Mr. William Thompson</td><td>male</td><td>28.0</td><td>0</td><td>0</td><td>113788</td><td>35.5</td><td>A6</td><td>S</td></tr><tr><th>25</th><td>25</td><td>0</td><td>3</td><td>Palsson, Miss. Torborg Danira</td><td>female</td><td>8.0</td><td>3</td><td>1</td><td>349909</td><td>21.075</td><td>NA</td><td>S</td></tr><tr><th>26</th><td>26</td><td>1</td><td>3</td><td>Asplund, Mrs. Carl Oscar (Selma Augusta Emilia Johansson)</td><td>female</td><td>38.0</td><td>1</td><td>5</td><td>347077</td><td>31.3875</td><td>NA</td><td>S</td></tr><tr><th>27</th><td>27</td><td>0</td><td>3</td><td>Emir, Mr. Farred Chehab</td><td>male</td><td>NA</td><td>0</td><td>0</td><td>2631</td><td>7.225</td><td>NA</td><td>C</td></tr><tr><th>28</th><td>28</td><td>0</td><td>1</td><td>Fortune, Mr. Charles Alexander</td><td>male</td><td>19.0</td><td>3</td><td>2</td><td>19950</td><td>263.0</td><td>C23 C25 C27</td><td>S</td></tr><tr><th>29</th><td>29</td><td>1</td><td>3</td><td>O'Dwyer, Miss. Ellen \"Nellie\"</td><td>female</td><td>NA</td><td>0</td><td>0</td><td>330959</td><td>7.8792</td><td>NA</td><td>Q</td></tr><tr><th>30</th><td>30</td><td>0</td><td>3</td><td>Todoroff, Mr. Lalio</td><td>male</td><td>NA</td><td>0</td><td>0</td><td>349216</td><td>7.8958</td><td>NA</td><td>S</td></tr><tr><th>&vellip;</th><td>&vellip;</td><td>&vellip;</td><td>&vellip;</td><td>&vellip;</td><td>&vellip;</td><td>&vellip;</td><td>&vellip;</td><td>&vellip;</td><td>&vellip;</td><td>&vellip;</td><td>&vellip;</td><td>&vellip;</td></tr></table>"
       ],
       "metadata": {},
       "output_type": "pyout",
       "prompt_number": 45,
       "text": [
        "891x12 DataFrame\n",
        "| Row | PassengerId | Survived | Pclass |\n",
        "|-----|-------------|----------|--------|\n",
        "| 1   | 1           | 0        | 3      |\n",
        "| 2   | 2           | 1        | 1      |\n",
        "| 3   | 3           | 1        | 3      |\n",
        "| 4   | 4           | 1        | 1      |\n",
        "| 5   | 5           | 0        | 3      |\n",
        "| 6   | 6           | 0        | 3      |\n",
        "| 7   | 7           | 0        | 1      |\n",
        "| 8   | 8           | 0        | 3      |\n",
        "| 9   | 9           | 1        | 3      |\n",
        "| 10  | 10          | 1        | 2      |\n",
        "| 11  | 11          | 1        | 3      |\n",
        "\u22ee\n",
        "| 880 | 880         | 1        | 1      |\n",
        "| 881 | 881         | 1        | 2      |\n",
        "| 882 | 882         | 0        | 3      |\n",
        "| 883 | 883         | 0        | 3      |\n",
        "| 884 | 884         | 0        | 2      |\n",
        "| 885 | 885         | 0        | 3      |\n",
        "| 886 | 886         | 0        | 3      |\n",
        "| 887 | 887         | 0        | 2      |\n",
        "| 888 | 888         | 1        | 1      |\n",
        "| 889 | 889         | 0        | 3      |\n",
        "| 890 | 890         | 1        | 1      |\n",
        "| 891 | 891         | 0        | 3      |\n",
        "\n",
        "| Row | Name                                                  | Sex      |\n",
        "|-----|-------------------------------------------------------|----------|\n",
        "| 1   | \"Braund, Mr. Owen Harris\"                             | \"male\"   |\n",
        "| 2   | \"Cumings, Mrs. John Bradley (Florence Briggs Thayer)\" | \"female\" |\n",
        "| 3   | \"Heikkinen, Miss. Laina\"                              | \"female\" |\n",
        "| 4   | \"Futrelle, Mrs. Jacques Heath (Lily May Peel)\"        | \"female\" |\n",
        "| 5   | \"Allen, Mr. William Henry\"                            | \"male\"   |\n",
        "| 6   | \"Moran, Mr. James\"                                    | \"male\"   |\n",
        "| 7   | \"McCarthy, Mr. Timothy J\"                             | \"male\"   |\n",
        "| 8   | \"Palsson, Master. Gosta Leonard\"                      | \"male\"   |\n",
        "| 9   | \"Johnson, Mrs. Oscar W (Elisabeth Vilhelmina Berg)\"   | \"female\" |\n",
        "| 10  | \"Nasser, Mrs. Nicholas (Adele Achem)\"                 | \"female\" |\n",
        "| 11  | \"Sandstrom, Miss. Marguerite Rut\"                     | \"female\" |\n",
        "\u22ee\n",
        "| 880 | \"Potter, Mrs. Thomas Jr (Lily Alexenia Wilson)\"       | \"female\" |\n",
        "| 881 | \"Shelley, Mrs. William (Imanita Parrish Hall)\"        | \"female\" |\n",
        "| 882 | \"Markun, Mr. Johann\"                                  | \"male\"   |\n",
        "| 883 | \"Dahlberg, Miss. Gerda Ulrika\"                        | \"female\" |\n",
        "| 884 | \"Banfield, Mr. Frederick James\"                       | \"male\"   |\n",
        "| 885 | \"Sutehall, Mr. Henry Jr\"                              | \"male\"   |\n",
        "| 886 | \"Rice, Mrs. William (Margaret Norton)\"                | \"female\" |\n",
        "| 887 | \"Montvila, Rev. Juozas\"                               | \"male\"   |\n",
        "| 888 | \"Graham, Miss. Margaret Edith\"                        | \"female\" |\n",
        "| 889 | \"Johnston, Miss. Catherine Helen \\\"Carrie\\\"\"            | \"female\" |\n",
        "| 890 | \"Behr, Mr. Karl Howell\"                               | \"male\"   |\n",
        "| 891 | \"Dooley, Mr. Patrick\"                                 | \"male\"   |\n",
        "\n",
        "| Row | Age  | SibSp | Parch | Ticket             | Fare    | Cabin  |\n",
        "|-----|------|-------|-------|--------------------|---------|--------|\n",
        "| 1   | 22.0 | 1     | 0     | \"A/5 21171\"        | 7.25    | NA     |\n",
        "| 2   | 38.0 | 1     | 0     | \"PC 17599\"         | 71.2833 | \"C85\"  |\n",
        "| 3   | 26.0 | 0     | 0     | \"STON/O2. 3101282\" | 7.925   | NA     |\n",
        "| 4   | 35.0 | 1     | 0     | \"113803\"           | 53.1    | \"C123\" |\n",
        "| 5   | 35.0 | 0     | 0     | \"373450\"           | 8.05    | NA     |\n",
        "| 6   | NA   | 0     | 0     | \"330877\"           | 8.4583  | NA     |\n",
        "| 7   | 54.0 | 0     | 0     | \"17463\"            | 51.8625 | \"E46\"  |\n",
        "| 8   | 2.0  | 3     | 1     | \"349909\"           | 21.075  | NA     |\n",
        "| 9   | 27.0 | 0     | 2     | \"347742\"           | 11.1333 | NA     |\n",
        "| 10  | 14.0 | 1     | 0     | \"237736\"           | 30.0708 | NA     |\n",
        "| 11  | 4.0  | 1     | 1     | \"PP 9549\"          | 16.7    | \"G6\"   |\n",
        "\u22ee\n",
        "| 880 | 56.0 | 0     | 1     | \"11767\"            | 83.1583 | \"C50\"  |\n",
        "| 881 | 25.0 | 0     | 1     | \"230433\"           | 26.0    | NA     |\n",
        "| 882 | 33.0 | 0     | 0     | \"349257\"           | 7.8958  | NA     |\n",
        "| 883 | 22.0 | 0     | 0     | \"7552\"             | 10.5167 | NA     |\n",
        "| 884 | 28.0 | 0     | 0     | \"C.A./SOTON 34068\" | 10.5    | NA     |\n",
        "| 885 | 25.0 | 0     | 0     | \"SOTON/OQ 392076\"  | 7.05    | NA     |\n",
        "| 886 | 39.0 | 0     | 5     | \"382652\"           | 29.125  | NA     |\n",
        "| 887 | 27.0 | 0     | 0     | \"211536\"           | 13.0    | NA     |\n",
        "| 888 | 19.0 | 0     | 0     | \"112053\"           | 30.0    | \"B42\"  |\n",
        "| 889 | NA   | 1     | 2     | \"W./C. 6607\"       | 23.45   | NA     |\n",
        "| 890 | 26.0 | 0     | 0     | \"111369\"           | 30.0    | \"C148\" |\n",
        "| 891 | 32.0 | 0     | 0     | \"370376\"           | 7.75    | NA     |\n",
        "\n",
        "| Row | Embarked |\n",
        "|-----|----------|\n",
        "| 1   | \"S\"      |\n",
        "| 2   | \"C\"      |\n",
        "| 3   | \"S\"      |\n",
        "| 4   | \"S\"      |\n",
        "| 5   | \"S\"      |\n",
        "| 6   | \"Q\"      |\n",
        "| 7   | \"S\"      |\n",
        "| 8   | \"S\"      |\n",
        "| 9   | \"S\"      |\n",
        "| 10  | \"C\"      |\n",
        "| 11  | \"S\"      |\n",
        "\u22ee\n",
        "| 880 | \"C\"      |\n",
        "| 881 | \"S\"      |\n",
        "| 882 | \"S\"      |\n",
        "| 883 | \"S\"      |\n",
        "| 884 | \"S\"      |\n",
        "| 885 | \"S\"      |\n",
        "| 886 | \"Q\"      |\n",
        "| 887 | \"S\"      |\n",
        "| 888 | \"S\"      |\n",
        "| 889 | \"S\"      |\n",
        "| 890 | \"C\"      |\n",
        "| 891 | \"Q\"      |"
       ]
      }
     ],
     "prompt_number": 45
    },
    {
     "cell_type": "markdown",
     "metadata": {},
     "source": [
      "Lets take a look at the data to see what we're dealing with and what we have to predict"
     ]
    },
    {
     "cell_type": "code",
     "collapsed": false,
     "input": [
      "println(\"$(size(data_train,1)) posssible training examples\")\n",
      "println(\"$(size(data_test,1)) test examples\")\n",
      "println(\"$(size(data_train,2) - 1) possible features\")"
     ],
     "language": "python",
     "metadata": {},
     "outputs": [
      {
       "output_type": "stream",
       "stream": "stdout",
       "text": [
        "891 posssible training examples\n"
       ]
      },
      {
       "output_type": "stream",
       "stream": "stdout",
       "text": [
        "418 test examples\n",
        "11 possible features\n"
       ]
      }
     ],
     "prompt_number": 46
    },
    {
     "cell_type": "markdown",
     "metadata": {},
     "source": [
      "So, we will build our models as follows\n",
      "\n",
      "1. Select features or sets of features that would be predictive of survival, ensure those features are properly represented\n",
      "2. Use binary classification algorithms (LogReg, maybe a NN) to predict survival based on the other features of the data\n",
      "3. Use cross validation to select the optimal model parameters (Regularization parameter)\n",
      "4. Plot Learning Curves: Training and CV error as a function of the number of examples m, ensure training error increases and CV error decreases\n",
      "5. Evaluate and change the model as necessary and submit "
     ]
    },
    {
     "cell_type": "heading",
     "level": 2,
     "metadata": {},
     "source": [
      "Feature Selection and Cleaning"
     ]
    },
    {
     "cell_type": "markdown",
     "metadata": {},
     "source": [
      "Lets evaluate each feature and see if we can reason about how predictive it will be. \n",
      "#### PassengerId\n",
      "Has nothing to do with it really\n",
      "#### Pclass\n",
      "It may very well have been the case that certain socio-economic classes had a higher chance of getting to a lifeboat, and the data is well represented as integer, so we'll keep it\n",
      "#### Name\n",
      "Could possibly be predictive to some degree, but would be a pain to convert to a usable format\n",
      "#### Sex\n",
      "Its common knowledge that women and chilren are usually the first to be rescued in a disaster, so we should keep these and encode them in binary: male = 1 and female = 0 (not being sexist I swear)\n",
      "#### Age\n",
      "The other dimension of \"women and children\", so it should be highly predictive. Going to need to deal with all of the NaNs\n",
      "#### Sibling/Spouse\n",
      "Sure, why not\n",
      "#### Parch\n",
      "Plays into \"Women and Children\"\n",
      "#### Ticktet\n",
      "Bad data format, and the only relevance it might contain should be captured by Pclass\n",
      "#### Fare \n",
      "Could sensibly be predictive, and it's already floating point, so we'll leave it\n",
      "#### Cabin\n",
      "Lots of NA entries, but obviously someone who had a cabin close to the lifeboats is going to be more likely to make it in time. We'll leave it out at first since the data format is so shakey, but we can put it back in if we need it. \n",
      "#### Embark\n",
      "Port of embarkation should have no bearing on survival, at least, no bearing that isn't already covered by other features. \n",
      "\n",
      "So our final feature selection incudes **Pclass, Sex, Age, Fare, SibSp, Parch**, with **Cabin** on the bench."
     ]
    },
    {
     "cell_type": "markdown",
     "metadata": {},
     "source": [
      "To begin cleaning the data while preserving its original integrity, we'll add rows to the dataframe that are transformations of the rows we want. Lets start by adding a row with sex expressed in binary"
     ]
    },
    {
     "cell_type": "code",
     "collapsed": false,
     "input": [
      "insert!(data_train, 6, int(data_train[:Sex] .== \"male\"), :SexBinary)"
     ],
     "language": "python",
     "metadata": {},
     "outputs": [
      {
       "html": [
        "<table class=\"data-frame\"><tr><th></th><th>PassengerId</th><th>Survived</th><th>Pclass</th><th>Name</th><th>Sex</th><th>SexBinary</th><th>Age</th><th>SibSp</th><th>Parch</th><th>Ticket</th><th>Fare</th><th>Cabin</th><th>Embarked</th></tr><tr><th>1</th><td>1</td><td>0</td><td>3</td><td>Braund, Mr. Owen Harris</td><td>male</td><td>1</td><td>22.0</td><td>1</td><td>0</td><td>A/5 21171</td><td>7.25</td><td>NA</td><td>S</td></tr><tr><th>2</th><td>2</td><td>1</td><td>1</td><td>Cumings, Mrs. John Bradley (Florence Briggs Thayer)</td><td>female</td><td>0</td><td>38.0</td><td>1</td><td>0</td><td>PC 17599</td><td>71.2833</td><td>C85</td><td>C</td></tr><tr><th>3</th><td>3</td><td>1</td><td>3</td><td>Heikkinen, Miss. Laina</td><td>female</td><td>0</td><td>26.0</td><td>0</td><td>0</td><td>STON/O2. 3101282</td><td>7.925</td><td>NA</td><td>S</td></tr><tr><th>4</th><td>4</td><td>1</td><td>1</td><td>Futrelle, Mrs. Jacques Heath (Lily May Peel)</td><td>female</td><td>0</td><td>35.0</td><td>1</td><td>0</td><td>113803</td><td>53.1</td><td>C123</td><td>S</td></tr><tr><th>5</th><td>5</td><td>0</td><td>3</td><td>Allen, Mr. William Henry</td><td>male</td><td>1</td><td>35.0</td><td>0</td><td>0</td><td>373450</td><td>8.05</td><td>NA</td><td>S</td></tr><tr><th>6</th><td>6</td><td>0</td><td>3</td><td>Moran, Mr. James</td><td>male</td><td>1</td><td>NA</td><td>0</td><td>0</td><td>330877</td><td>8.4583</td><td>NA</td><td>Q</td></tr><tr><th>7</th><td>7</td><td>0</td><td>1</td><td>McCarthy, Mr. Timothy J</td><td>male</td><td>1</td><td>54.0</td><td>0</td><td>0</td><td>17463</td><td>51.8625</td><td>E46</td><td>S</td></tr><tr><th>8</th><td>8</td><td>0</td><td>3</td><td>Palsson, Master. Gosta Leonard</td><td>male</td><td>1</td><td>2.0</td><td>3</td><td>1</td><td>349909</td><td>21.075</td><td>NA</td><td>S</td></tr><tr><th>9</th><td>9</td><td>1</td><td>3</td><td>Johnson, Mrs. Oscar W (Elisabeth Vilhelmina Berg)</td><td>female</td><td>0</td><td>27.0</td><td>0</td><td>2</td><td>347742</td><td>11.1333</td><td>NA</td><td>S</td></tr><tr><th>10</th><td>10</td><td>1</td><td>2</td><td>Nasser, Mrs. Nicholas (Adele Achem)</td><td>female</td><td>0</td><td>14.0</td><td>1</td><td>0</td><td>237736</td><td>30.0708</td><td>NA</td><td>C</td></tr><tr><th>11</th><td>11</td><td>1</td><td>3</td><td>Sandstrom, Miss. Marguerite Rut</td><td>female</td><td>0</td><td>4.0</td><td>1</td><td>1</td><td>PP 9549</td><td>16.7</td><td>G6</td><td>S</td></tr><tr><th>12</th><td>12</td><td>1</td><td>1</td><td>Bonnell, Miss. Elizabeth</td><td>female</td><td>0</td><td>58.0</td><td>0</td><td>0</td><td>113783</td><td>26.55</td><td>C103</td><td>S</td></tr><tr><th>13</th><td>13</td><td>0</td><td>3</td><td>Saundercock, Mr. William Henry</td><td>male</td><td>1</td><td>20.0</td><td>0</td><td>0</td><td>A/5. 2151</td><td>8.05</td><td>NA</td><td>S</td></tr><tr><th>14</th><td>14</td><td>0</td><td>3</td><td>Andersson, Mr. Anders Johan</td><td>male</td><td>1</td><td>39.0</td><td>1</td><td>5</td><td>347082</td><td>31.275</td><td>NA</td><td>S</td></tr><tr><th>15</th><td>15</td><td>0</td><td>3</td><td>Vestrom, Miss. Hulda Amanda Adolfina</td><td>female</td><td>0</td><td>14.0</td><td>0</td><td>0</td><td>350406</td><td>7.8542</td><td>NA</td><td>S</td></tr><tr><th>16</th><td>16</td><td>1</td><td>2</td><td>Hewlett, Mrs. (Mary D Kingcome) </td><td>female</td><td>0</td><td>55.0</td><td>0</td><td>0</td><td>248706</td><td>16.0</td><td>NA</td><td>S</td></tr><tr><th>17</th><td>17</td><td>0</td><td>3</td><td>Rice, Master. Eugene</td><td>male</td><td>1</td><td>2.0</td><td>4</td><td>1</td><td>382652</td><td>29.125</td><td>NA</td><td>Q</td></tr><tr><th>18</th><td>18</td><td>1</td><td>2</td><td>Williams, Mr. Charles Eugene</td><td>male</td><td>1</td><td>NA</td><td>0</td><td>0</td><td>244373</td><td>13.0</td><td>NA</td><td>S</td></tr><tr><th>19</th><td>19</td><td>0</td><td>3</td><td>Vander Planke, Mrs. Julius (Emelia Maria Vandemoortele)</td><td>female</td><td>0</td><td>31.0</td><td>1</td><td>0</td><td>345763</td><td>18.0</td><td>NA</td><td>S</td></tr><tr><th>20</th><td>20</td><td>1</td><td>3</td><td>Masselmani, Mrs. Fatima</td><td>female</td><td>0</td><td>NA</td><td>0</td><td>0</td><td>2649</td><td>7.225</td><td>NA</td><td>C</td></tr><tr><th>21</th><td>21</td><td>0</td><td>2</td><td>Fynney, Mr. Joseph J</td><td>male</td><td>1</td><td>35.0</td><td>0</td><td>0</td><td>239865</td><td>26.0</td><td>NA</td><td>S</td></tr><tr><th>22</th><td>22</td><td>1</td><td>2</td><td>Beesley, Mr. Lawrence</td><td>male</td><td>1</td><td>34.0</td><td>0</td><td>0</td><td>248698</td><td>13.0</td><td>D56</td><td>S</td></tr><tr><th>23</th><td>23</td><td>1</td><td>3</td><td>McGowan, Miss. Anna \"Annie\"</td><td>female</td><td>0</td><td>15.0</td><td>0</td><td>0</td><td>330923</td><td>8.0292</td><td>NA</td><td>Q</td></tr><tr><th>24</th><td>24</td><td>1</td><td>1</td><td>Sloper, Mr. William Thompson</td><td>male</td><td>1</td><td>28.0</td><td>0</td><td>0</td><td>113788</td><td>35.5</td><td>A6</td><td>S</td></tr><tr><th>25</th><td>25</td><td>0</td><td>3</td><td>Palsson, Miss. Torborg Danira</td><td>female</td><td>0</td><td>8.0</td><td>3</td><td>1</td><td>349909</td><td>21.075</td><td>NA</td><td>S</td></tr><tr><th>26</th><td>26</td><td>1</td><td>3</td><td>Asplund, Mrs. Carl Oscar (Selma Augusta Emilia Johansson)</td><td>female</td><td>0</td><td>38.0</td><td>1</td><td>5</td><td>347077</td><td>31.3875</td><td>NA</td><td>S</td></tr><tr><th>27</th><td>27</td><td>0</td><td>3</td><td>Emir, Mr. Farred Chehab</td><td>male</td><td>1</td><td>NA</td><td>0</td><td>0</td><td>2631</td><td>7.225</td><td>NA</td><td>C</td></tr><tr><th>28</th><td>28</td><td>0</td><td>1</td><td>Fortune, Mr. Charles Alexander</td><td>male</td><td>1</td><td>19.0</td><td>3</td><td>2</td><td>19950</td><td>263.0</td><td>C23 C25 C27</td><td>S</td></tr><tr><th>29</th><td>29</td><td>1</td><td>3</td><td>O'Dwyer, Miss. Ellen \"Nellie\"</td><td>female</td><td>0</td><td>NA</td><td>0</td><td>0</td><td>330959</td><td>7.8792</td><td>NA</td><td>Q</td></tr><tr><th>30</th><td>30</td><td>0</td><td>3</td><td>Todoroff, Mr. Lalio</td><td>male</td><td>1</td><td>NA</td><td>0</td><td>0</td><td>349216</td><td>7.8958</td><td>NA</td><td>S</td></tr><tr><th>&vellip;</th><td>&vellip;</td><td>&vellip;</td><td>&vellip;</td><td>&vellip;</td><td>&vellip;</td><td>&vellip;</td><td>&vellip;</td><td>&vellip;</td><td>&vellip;</td><td>&vellip;</td><td>&vellip;</td><td>&vellip;</td><td>&vellip;</td></tr></table>"
       ],
       "metadata": {},
       "output_type": "pyout",
       "prompt_number": 47,
       "text": [
        "891x13 DataFrame\n",
        "| Row | PassengerId | Survived | Pclass |\n",
        "|-----|-------------|----------|--------|\n",
        "| 1   | 1           | 0        | 3      |\n",
        "| 2   | 2           | 1        | 1      |\n",
        "| 3   | 3           | 1        | 3      |\n",
        "| 4   | 4           | 1        | 1      |\n",
        "| 5   | 5           | 0        | 3      |\n",
        "| 6   | 6           | 0        | 3      |\n",
        "| 7   | 7           | 0        | 1      |\n",
        "| 8   | 8           | 0        | 3      |\n",
        "| 9   | 9           | 1        | 3      |\n",
        "| 10  | 10          | 1        | 2      |\n",
        "| 11  | 11          | 1        | 3      |\n",
        "\u22ee\n",
        "| 880 | 880         | 1        | 1      |\n",
        "| 881 | 881         | 1        | 2      |\n",
        "| 882 | 882         | 0        | 3      |\n",
        "| 883 | 883         | 0        | 3      |\n",
        "| 884 | 884         | 0        | 2      |\n",
        "| 885 | 885         | 0        | 3      |\n",
        "| 886 | 886         | 0        | 3      |\n",
        "| 887 | 887         | 0        | 2      |\n",
        "| 888 | 888         | 1        | 1      |\n",
        "| 889 | 889         | 0        | 3      |\n",
        "| 890 | 890         | 1        | 1      |\n",
        "| 891 | 891         | 0        | 3      |\n",
        "\n",
        "| Row | Name                                                  | Sex      |\n",
        "|-----|-------------------------------------------------------|----------|\n",
        "| 1   | \"Braund, Mr. Owen Harris\"                             | \"male\"   |\n",
        "| 2   | \"Cumings, Mrs. John Bradley (Florence Briggs Thayer)\" | \"female\" |\n",
        "| 3   | \"Heikkinen, Miss. Laina\"                              | \"female\" |\n",
        "| 4   | \"Futrelle, Mrs. Jacques Heath (Lily May Peel)\"        | \"female\" |\n",
        "| 5   | \"Allen, Mr. William Henry\"                            | \"male\"   |\n",
        "| 6   | \"Moran, Mr. James\"                                    | \"male\"   |\n",
        "| 7   | \"McCarthy, Mr. Timothy J\"                             | \"male\"   |\n",
        "| 8   | \"Palsson, Master. Gosta Leonard\"                      | \"male\"   |\n",
        "| 9   | \"Johnson, Mrs. Oscar W (Elisabeth Vilhelmina Berg)\"   | \"female\" |\n",
        "| 10  | \"Nasser, Mrs. Nicholas (Adele Achem)\"                 | \"female\" |\n",
        "| 11  | \"Sandstrom, Miss. Marguerite Rut\"                     | \"female\" |\n",
        "\u22ee\n",
        "| 880 | \"Potter, Mrs. Thomas Jr (Lily Alexenia Wilson)\"       | \"female\" |\n",
        "| 881 | \"Shelley, Mrs. William (Imanita Parrish Hall)\"        | \"female\" |\n",
        "| 882 | \"Markun, Mr. Johann\"                                  | \"male\"   |\n",
        "| 883 | \"Dahlberg, Miss. Gerda Ulrika\"                        | \"female\" |\n",
        "| 884 | \"Banfield, Mr. Frederick James\"                       | \"male\"   |\n",
        "| 885 | \"Sutehall, Mr. Henry Jr\"                              | \"male\"   |\n",
        "| 886 | \"Rice, Mrs. William (Margaret Norton)\"                | \"female\" |\n",
        "| 887 | \"Montvila, Rev. Juozas\"                               | \"male\"   |\n",
        "| 888 | \"Graham, Miss. Margaret Edith\"                        | \"female\" |\n",
        "| 889 | \"Johnston, Miss. Catherine Helen \\\"Carrie\\\"\"            | \"female\" |\n",
        "| 890 | \"Behr, Mr. Karl Howell\"                               | \"male\"   |\n",
        "| 891 | \"Dooley, Mr. Patrick\"                                 | \"male\"   |\n",
        "\n",
        "| Row | SexBinary | Age  | SibSp | Parch | Ticket             | Fare    |\n",
        "|-----|-----------|------|-------|-------|--------------------|---------|\n",
        "| 1   | 1         | 22.0 | 1     | 0     | \"A/5 21171\"        | 7.25    |\n",
        "| 2   | 0         | 38.0 | 1     | 0     | \"PC 17599\"         | 71.2833 |\n",
        "| 3   | 0         | 26.0 | 0     | 0     | \"STON/O2. 3101282\" | 7.925   |\n",
        "| 4   | 0         | 35.0 | 1     | 0     | \"113803\"           | 53.1    |\n",
        "| 5   | 1         | 35.0 | 0     | 0     | \"373450\"           | 8.05    |\n",
        "| 6   | 1         | NA   | 0     | 0     | \"330877\"           | 8.4583  |\n",
        "| 7   | 1         | 54.0 | 0     | 0     | \"17463\"            | 51.8625 |\n",
        "| 8   | 1         | 2.0  | 3     | 1     | \"349909\"           | 21.075  |\n",
        "| 9   | 0         | 27.0 | 0     | 2     | \"347742\"           | 11.1333 |\n",
        "| 10  | 0         | 14.0 | 1     | 0     | \"237736\"           | 30.0708 |\n",
        "| 11  | 0         | 4.0  | 1     | 1     | \"PP 9549\"          | 16.7    |\n",
        "\u22ee\n",
        "| 880 | 0         | 56.0 | 0     | 1     | \"11767\"            | 83.1583 |\n",
        "| 881 | 0         | 25.0 | 0     | 1     | \"230433\"           | 26.0    |\n",
        "| 882 | 1         | 33.0 | 0     | 0     | \"349257\"           | 7.8958  |\n",
        "| 883 | 0         | 22.0 | 0     | 0     | \"7552\"             | 10.5167 |\n",
        "| 884 | 1         | 28.0 | 0     | 0     | \"C.A./SOTON 34068\" | 10.5    |\n",
        "| 885 | 1         | 25.0 | 0     | 0     | \"SOTON/OQ 392076\"  | 7.05    |\n",
        "| 886 | 0         | 39.0 | 0     | 5     | \"382652\"           | 29.125  |\n",
        "| 887 | 1         | 27.0 | 0     | 0     | \"211536\"           | 13.0    |\n",
        "| 888 | 0         | 19.0 | 0     | 0     | \"112053\"           | 30.0    |\n",
        "| 889 | 0         | NA   | 1     | 2     | \"W./C. 6607\"       | 23.45   |\n",
        "| 890 | 1         | 26.0 | 0     | 0     | \"111369\"           | 30.0    |\n",
        "| 891 | 1         | 32.0 | 0     | 0     | \"370376\"           | 7.75    |\n",
        "\n",
        "| Row | Cabin  | Embarked |\n",
        "|-----|--------|----------|\n",
        "| 1   | NA     | \"S\"      |\n",
        "| 2   | \"C85\"  | \"C\"      |\n",
        "| 3   | NA     | \"S\"      |\n",
        "| 4   | \"C123\" | \"S\"      |\n",
        "| 5   | NA     | \"S\"      |\n",
        "| 6   | NA     | \"Q\"      |\n",
        "| 7   | \"E46\"  | \"S\"      |\n",
        "| 8   | NA     | \"S\"      |\n",
        "| 9   | NA     | \"S\"      |\n",
        "| 10  | NA     | \"C\"      |\n",
        "| 11  | \"G6\"   | \"S\"      |\n",
        "\u22ee\n",
        "| 880 | \"C50\"  | \"C\"      |\n",
        "| 881 | NA     | \"S\"      |\n",
        "| 882 | NA     | \"S\"      |\n",
        "| 883 | NA     | \"S\"      |\n",
        "| 884 | NA     | \"S\"      |\n",
        "| 885 | NA     | \"S\"      |\n",
        "| 886 | NA     | \"Q\"      |\n",
        "| 887 | NA     | \"S\"      |\n",
        "| 888 | \"B42\"  | \"S\"      |\n",
        "| 889 | NA     | \"S\"      |\n",
        "| 890 | \"C148\" | \"C\"      |\n",
        "| 891 | NA     | \"Q\"      |"
       ]
      }
     ],
     "prompt_number": 47
    },
    {
     "cell_type": "markdown",
     "metadata": {},
     "source": [
      "In order to fill in the NA age values with a reasonable substiture, we need the indices of values with and without NAs"
     ]
    },
    {
     "cell_type": "code",
     "collapsed": false,
     "input": [
      "na_indicator = isna(data_train[:Age])\n",
      "filled_indices, na_indices = [] , []\n",
      "for i in 1:size(na_indicator,1)\n",
      "    if !na_indicator[i]\n",
      "        filled_indices = [filled_indices, i]\n",
      "    else\n",
      "        na_indices = [na_indices, i]\n",
      "    end\n",
      "end"
     ],
     "language": "python",
     "metadata": {},
     "outputs": [],
     "prompt_number": 49
    },
    {
     "cell_type": "code",
     "collapsed": false,
     "input": [
      "# get the median of non-NA rows\n",
      "\n",
      "median_age = median(data_train[:Age][filled_indices])\n",
      "\n",
      "# Insert a new dataframe row with that value substituting for NA's\n",
      "adjustedAge = copy(data_train[:Age])\n",
      "adjustedAge[na_indices] = median_age\n",
      "insert!(data_train, 8, adjustedAge, :AdjustedAge)"
     ],
     "language": "python",
     "metadata": {},
     "outputs": [
      {
       "html": [
        "<table class=\"data-frame\"><tr><th></th><th>PassengerId</th><th>Survived</th><th>Pclass</th><th>Name</th><th>Sex</th><th>SexBinary</th><th>Age</th><th>AdjustedAge</th><th>SibSp</th><th>Parch</th><th>Ticket</th><th>Fare</th><th>Cabin</th><th>Embarked</th></tr><tr><th>1</th><td>1</td><td>0</td><td>3</td><td>Braund, Mr. Owen Harris</td><td>male</td><td>1</td><td>22.0</td><td>22.0</td><td>1</td><td>0</td><td>A/5 21171</td><td>7.25</td><td>NA</td><td>S</td></tr><tr><th>2</th><td>2</td><td>1</td><td>1</td><td>Cumings, Mrs. John Bradley (Florence Briggs Thayer)</td><td>female</td><td>0</td><td>38.0</td><td>38.0</td><td>1</td><td>0</td><td>PC 17599</td><td>71.2833</td><td>C85</td><td>C</td></tr><tr><th>3</th><td>3</td><td>1</td><td>3</td><td>Heikkinen, Miss. Laina</td><td>female</td><td>0</td><td>26.0</td><td>26.0</td><td>0</td><td>0</td><td>STON/O2. 3101282</td><td>7.925</td><td>NA</td><td>S</td></tr><tr><th>4</th><td>4</td><td>1</td><td>1</td><td>Futrelle, Mrs. Jacques Heath (Lily May Peel)</td><td>female</td><td>0</td><td>35.0</td><td>35.0</td><td>1</td><td>0</td><td>113803</td><td>53.1</td><td>C123</td><td>S</td></tr><tr><th>5</th><td>5</td><td>0</td><td>3</td><td>Allen, Mr. William Henry</td><td>male</td><td>1</td><td>35.0</td><td>35.0</td><td>0</td><td>0</td><td>373450</td><td>8.05</td><td>NA</td><td>S</td></tr><tr><th>6</th><td>6</td><td>0</td><td>3</td><td>Moran, Mr. James</td><td>male</td><td>1</td><td>NA</td><td>28.0</td><td>0</td><td>0</td><td>330877</td><td>8.4583</td><td>NA</td><td>Q</td></tr><tr><th>7</th><td>7</td><td>0</td><td>1</td><td>McCarthy, Mr. Timothy J</td><td>male</td><td>1</td><td>54.0</td><td>54.0</td><td>0</td><td>0</td><td>17463</td><td>51.8625</td><td>E46</td><td>S</td></tr><tr><th>8</th><td>8</td><td>0</td><td>3</td><td>Palsson, Master. Gosta Leonard</td><td>male</td><td>1</td><td>2.0</td><td>2.0</td><td>3</td><td>1</td><td>349909</td><td>21.075</td><td>NA</td><td>S</td></tr><tr><th>9</th><td>9</td><td>1</td><td>3</td><td>Johnson, Mrs. Oscar W (Elisabeth Vilhelmina Berg)</td><td>female</td><td>0</td><td>27.0</td><td>27.0</td><td>0</td><td>2</td><td>347742</td><td>11.1333</td><td>NA</td><td>S</td></tr><tr><th>10</th><td>10</td><td>1</td><td>2</td><td>Nasser, Mrs. Nicholas (Adele Achem)</td><td>female</td><td>0</td><td>14.0</td><td>14.0</td><td>1</td><td>0</td><td>237736</td><td>30.0708</td><td>NA</td><td>C</td></tr><tr><th>11</th><td>11</td><td>1</td><td>3</td><td>Sandstrom, Miss. Marguerite Rut</td><td>female</td><td>0</td><td>4.0</td><td>4.0</td><td>1</td><td>1</td><td>PP 9549</td><td>16.7</td><td>G6</td><td>S</td></tr><tr><th>12</th><td>12</td><td>1</td><td>1</td><td>Bonnell, Miss. Elizabeth</td><td>female</td><td>0</td><td>58.0</td><td>58.0</td><td>0</td><td>0</td><td>113783</td><td>26.55</td><td>C103</td><td>S</td></tr><tr><th>13</th><td>13</td><td>0</td><td>3</td><td>Saundercock, Mr. William Henry</td><td>male</td><td>1</td><td>20.0</td><td>20.0</td><td>0</td><td>0</td><td>A/5. 2151</td><td>8.05</td><td>NA</td><td>S</td></tr><tr><th>14</th><td>14</td><td>0</td><td>3</td><td>Andersson, Mr. Anders Johan</td><td>male</td><td>1</td><td>39.0</td><td>39.0</td><td>1</td><td>5</td><td>347082</td><td>31.275</td><td>NA</td><td>S</td></tr><tr><th>15</th><td>15</td><td>0</td><td>3</td><td>Vestrom, Miss. Hulda Amanda Adolfina</td><td>female</td><td>0</td><td>14.0</td><td>14.0</td><td>0</td><td>0</td><td>350406</td><td>7.8542</td><td>NA</td><td>S</td></tr><tr><th>16</th><td>16</td><td>1</td><td>2</td><td>Hewlett, Mrs. (Mary D Kingcome) </td><td>female</td><td>0</td><td>55.0</td><td>55.0</td><td>0</td><td>0</td><td>248706</td><td>16.0</td><td>NA</td><td>S</td></tr><tr><th>17</th><td>17</td><td>0</td><td>3</td><td>Rice, Master. Eugene</td><td>male</td><td>1</td><td>2.0</td><td>2.0</td><td>4</td><td>1</td><td>382652</td><td>29.125</td><td>NA</td><td>Q</td></tr><tr><th>18</th><td>18</td><td>1</td><td>2</td><td>Williams, Mr. Charles Eugene</td><td>male</td><td>1</td><td>NA</td><td>28.0</td><td>0</td><td>0</td><td>244373</td><td>13.0</td><td>NA</td><td>S</td></tr><tr><th>19</th><td>19</td><td>0</td><td>3</td><td>Vander Planke, Mrs. Julius (Emelia Maria Vandemoortele)</td><td>female</td><td>0</td><td>31.0</td><td>31.0</td><td>1</td><td>0</td><td>345763</td><td>18.0</td><td>NA</td><td>S</td></tr><tr><th>20</th><td>20</td><td>1</td><td>3</td><td>Masselmani, Mrs. Fatima</td><td>female</td><td>0</td><td>NA</td><td>28.0</td><td>0</td><td>0</td><td>2649</td><td>7.225</td><td>NA</td><td>C</td></tr><tr><th>21</th><td>21</td><td>0</td><td>2</td><td>Fynney, Mr. Joseph J</td><td>male</td><td>1</td><td>35.0</td><td>35.0</td><td>0</td><td>0</td><td>239865</td><td>26.0</td><td>NA</td><td>S</td></tr><tr><th>22</th><td>22</td><td>1</td><td>2</td><td>Beesley, Mr. Lawrence</td><td>male</td><td>1</td><td>34.0</td><td>34.0</td><td>0</td><td>0</td><td>248698</td><td>13.0</td><td>D56</td><td>S</td></tr><tr><th>23</th><td>23</td><td>1</td><td>3</td><td>McGowan, Miss. Anna \"Annie\"</td><td>female</td><td>0</td><td>15.0</td><td>15.0</td><td>0</td><td>0</td><td>330923</td><td>8.0292</td><td>NA</td><td>Q</td></tr><tr><th>24</th><td>24</td><td>1</td><td>1</td><td>Sloper, Mr. William Thompson</td><td>male</td><td>1</td><td>28.0</td><td>28.0</td><td>0</td><td>0</td><td>113788</td><td>35.5</td><td>A6</td><td>S</td></tr><tr><th>25</th><td>25</td><td>0</td><td>3</td><td>Palsson, Miss. Torborg Danira</td><td>female</td><td>0</td><td>8.0</td><td>8.0</td><td>3</td><td>1</td><td>349909</td><td>21.075</td><td>NA</td><td>S</td></tr><tr><th>26</th><td>26</td><td>1</td><td>3</td><td>Asplund, Mrs. Carl Oscar (Selma Augusta Emilia Johansson)</td><td>female</td><td>0</td><td>38.0</td><td>38.0</td><td>1</td><td>5</td><td>347077</td><td>31.3875</td><td>NA</td><td>S</td></tr><tr><th>27</th><td>27</td><td>0</td><td>3</td><td>Emir, Mr. Farred Chehab</td><td>male</td><td>1</td><td>NA</td><td>28.0</td><td>0</td><td>0</td><td>2631</td><td>7.225</td><td>NA</td><td>C</td></tr><tr><th>28</th><td>28</td><td>0</td><td>1</td><td>Fortune, Mr. Charles Alexander</td><td>male</td><td>1</td><td>19.0</td><td>19.0</td><td>3</td><td>2</td><td>19950</td><td>263.0</td><td>C23 C25 C27</td><td>S</td></tr><tr><th>29</th><td>29</td><td>1</td><td>3</td><td>O'Dwyer, Miss. Ellen \"Nellie\"</td><td>female</td><td>0</td><td>NA</td><td>28.0</td><td>0</td><td>0</td><td>330959</td><td>7.8792</td><td>NA</td><td>Q</td></tr><tr><th>30</th><td>30</td><td>0</td><td>3</td><td>Todoroff, Mr. Lalio</td><td>male</td><td>1</td><td>NA</td><td>28.0</td><td>0</td><td>0</td><td>349216</td><td>7.8958</td><td>NA</td><td>S</td></tr><tr><th>&vellip;</th><td>&vellip;</td><td>&vellip;</td><td>&vellip;</td><td>&vellip;</td><td>&vellip;</td><td>&vellip;</td><td>&vellip;</td><td>&vellip;</td><td>&vellip;</td><td>&vellip;</td><td>&vellip;</td><td>&vellip;</td><td>&vellip;</td><td>&vellip;</td></tr></table>"
       ],
       "metadata": {},
       "output_type": "pyout",
       "prompt_number": 51,
       "text": [
        "891x14 DataFrame\n",
        "| Row | PassengerId | Survived | Pclass |\n",
        "|-----|-------------|----------|--------|\n",
        "| 1   | 1           | 0        | 3      |\n",
        "| 2   | 2           | 1        | 1      |\n",
        "| 3   | 3           | 1        | 3      |\n",
        "| 4   | 4           | 1        | 1      |\n",
        "| 5   | 5           | 0        | 3      |\n",
        "| 6   | 6           | 0        | 3      |\n",
        "| 7   | 7           | 0        | 1      |\n",
        "| 8   | 8           | 0        | 3      |\n",
        "| 9   | 9           | 1        | 3      |\n",
        "| 10  | 10          | 1        | 2      |\n",
        "| 11  | 11          | 1        | 3      |\n",
        "\u22ee\n",
        "| 880 | 880         | 1        | 1      |\n",
        "| 881 | 881         | 1        | 2      |\n",
        "| 882 | 882         | 0        | 3      |\n",
        "| 883 | 883         | 0        | 3      |\n",
        "| 884 | 884         | 0        | 2      |\n",
        "| 885 | 885         | 0        | 3      |\n",
        "| 886 | 886         | 0        | 3      |\n",
        "| 887 | 887         | 0        | 2      |\n",
        "| 888 | 888         | 1        | 1      |\n",
        "| 889 | 889         | 0        | 3      |\n",
        "| 890 | 890         | 1        | 1      |\n",
        "| 891 | 891         | 0        | 3      |\n",
        "\n",
        "| Row | Name                                                  | Sex      |\n",
        "|-----|-------------------------------------------------------|----------|\n",
        "| 1   | \"Braund, Mr. Owen Harris\"                             | \"male\"   |\n",
        "| 2   | \"Cumings, Mrs. John Bradley (Florence Briggs Thayer)\" | \"female\" |\n",
        "| 3   | \"Heikkinen, Miss. Laina\"                              | \"female\" |\n",
        "| 4   | \"Futrelle, Mrs. Jacques Heath (Lily May Peel)\"        | \"female\" |\n",
        "| 5   | \"Allen, Mr. William Henry\"                            | \"male\"   |\n",
        "| 6   | \"Moran, Mr. James\"                                    | \"male\"   |\n",
        "| 7   | \"McCarthy, Mr. Timothy J\"                             | \"male\"   |\n",
        "| 8   | \"Palsson, Master. Gosta Leonard\"                      | \"male\"   |\n",
        "| 9   | \"Johnson, Mrs. Oscar W (Elisabeth Vilhelmina Berg)\"   | \"female\" |\n",
        "| 10  | \"Nasser, Mrs. Nicholas (Adele Achem)\"                 | \"female\" |\n",
        "| 11  | \"Sandstrom, Miss. Marguerite Rut\"                     | \"female\" |\n",
        "\u22ee\n",
        "| 880 | \"Potter, Mrs. Thomas Jr (Lily Alexenia Wilson)\"       | \"female\" |\n",
        "| 881 | \"Shelley, Mrs. William (Imanita Parrish Hall)\"        | \"female\" |\n",
        "| 882 | \"Markun, Mr. Johann\"                                  | \"male\"   |\n",
        "| 883 | \"Dahlberg, Miss. Gerda Ulrika\"                        | \"female\" |\n",
        "| 884 | \"Banfield, Mr. Frederick James\"                       | \"male\"   |\n",
        "| 885 | \"Sutehall, Mr. Henry Jr\"                              | \"male\"   |\n",
        "| 886 | \"Rice, Mrs. William (Margaret Norton)\"                | \"female\" |\n",
        "| 887 | \"Montvila, Rev. Juozas\"                               | \"male\"   |\n",
        "| 888 | \"Graham, Miss. Margaret Edith\"                        | \"female\" |\n",
        "| 889 | \"Johnston, Miss. Catherine Helen \\\"Carrie\\\"\"            | \"female\" |\n",
        "| 890 | \"Behr, Mr. Karl Howell\"                               | \"male\"   |\n",
        "| 891 | \"Dooley, Mr. Patrick\"                                 | \"male\"   |\n",
        "\n",
        "| Row | SexBinary | Age  | AdjustedAge | SibSp | Parch | Ticket             |\n",
        "|-----|-----------|------|-------------|-------|-------|--------------------|\n",
        "| 1   | 1         | 22.0 | 22.0        | 1     | 0     | \"A/5 21171\"        |\n",
        "| 2   | 0         | 38.0 | 38.0        | 1     | 0     | \"PC 17599\"         |\n",
        "| 3   | 0         | 26.0 | 26.0        | 0     | 0     | \"STON/O2. 3101282\" |\n",
        "| 4   | 0         | 35.0 | 35.0        | 1     | 0     | \"113803\"           |\n",
        "| 5   | 1         | 35.0 | 35.0        | 0     | 0     | \"373450\"           |\n",
        "| 6   | 1         | NA   | 28.0        | 0     | 0     | \"330877\"           |\n",
        "| 7   | 1         | 54.0 | 54.0        | 0     | 0     | \"17463\"            |\n",
        "| 8   | 1         | 2.0  | 2.0         | 3     | 1     | \"349909\"           |\n",
        "| 9   | 0         | 27.0 | 27.0        | 0     | 2     | \"347742\"           |\n",
        "| 10  | 0         | 14.0 | 14.0        | 1     | 0     | \"237736\"           |\n",
        "| 11  | 0         | 4.0  | 4.0         | 1     | 1     | \"PP 9549\"          |\n",
        "\u22ee\n",
        "| 880 | 0         | 56.0 | 56.0        | 0     | 1     | \"11767\"            |\n",
        "| 881 | 0         | 25.0 | 25.0        | 0     | 1     | \"230433\"           |\n",
        "| 882 | 1         | 33.0 | 33.0        | 0     | 0     | \"349257\"           |\n",
        "| 883 | 0         | 22.0 | 22.0        | 0     | 0     | \"7552\"             |\n",
        "| 884 | 1         | 28.0 | 28.0        | 0     | 0     | \"C.A./SOTON 34068\" |\n",
        "| 885 | 1         | 25.0 | 25.0        | 0     | 0     | \"SOTON/OQ 392076\"  |\n",
        "| 886 | 0         | 39.0 | 39.0        | 0     | 5     | \"382652\"           |\n",
        "| 887 | 1         | 27.0 | 27.0        | 0     | 0     | \"211536\"           |\n",
        "| 888 | 0         | 19.0 | 19.0        | 0     | 0     | \"112053\"           |\n",
        "| 889 | 0         | NA   | 28.0        | 1     | 2     | \"W./C. 6607\"       |\n",
        "| 890 | 1         | 26.0 | 26.0        | 0     | 0     | \"111369\"           |\n",
        "| 891 | 1         | 32.0 | 32.0        | 0     | 0     | \"370376\"           |\n",
        "\n",
        "| Row | Fare    | Cabin  | Embarked |\n",
        "|-----|---------|--------|----------|\n",
        "| 1   | 7.25    | NA     | \"S\"      |\n",
        "| 2   | 71.2833 | \"C85\"  | \"C\"      |\n",
        "| 3   | 7.925   | NA     | \"S\"      |\n",
        "| 4   | 53.1    | \"C123\" | \"S\"      |\n",
        "| 5   | 8.05    | NA     | \"S\"      |\n",
        "| 6   | 8.4583  | NA     | \"Q\"      |\n",
        "| 7   | 51.8625 | \"E46\"  | \"S\"      |\n",
        "| 8   | 21.075  | NA     | \"S\"      |\n",
        "| 9   | 11.1333 | NA     | \"S\"      |\n",
        "| 10  | 30.0708 | NA     | \"C\"      |\n",
        "| 11  | 16.7    | \"G6\"   | \"S\"      |\n",
        "\u22ee\n",
        "| 880 | 83.1583 | \"C50\"  | \"C\"      |\n",
        "| 881 | 26.0    | NA     | \"S\"      |\n",
        "| 882 | 7.8958  | NA     | \"S\"      |\n",
        "| 883 | 10.5167 | NA     | \"S\"      |\n",
        "| 884 | 10.5    | NA     | \"S\"      |\n",
        "| 885 | 7.05    | NA     | \"S\"      |\n",
        "| 886 | 29.125  | NA     | \"Q\"      |\n",
        "| 887 | 13.0    | NA     | \"S\"      |\n",
        "| 888 | 30.0    | \"B42\"  | \"S\"      |\n",
        "| 889 | 23.45   | NA     | \"S\"      |\n",
        "| 890 | 30.0    | \"C148\" | \"C\"      |\n",
        "| 891 | 7.75    | NA     | \"Q\"      |"
       ]
      }
     ],
     "prompt_number": 51
    },
    {
     "cell_type": "heading",
     "level": 2,
     "metadata": {},
     "source": [
      "Model Choice(s)"
     ]
    },
    {
     "cell_type": "markdown",
     "metadata": {},
     "source": [
      "Lets start with a simple model to start off, just using all of our features"
     ]
    },
    {
     "cell_type": "code",
     "collapsed": false,
     "input": [
      "model = glm(Survived ~ Pclass + AdjustedAge + SexBinary + Fare + SibSp + Parch, data_train, Binomial()) # I'm told the binomial distrbution is the go to for logistic regression"
     ],
     "language": "python",
     "metadata": {},
     "outputs": [
      {
       "metadata": {},
       "output_type": "pyout",
       "prompt_number": 52,
       "text": [
        "DataFrameRegressionModel{GeneralizedLinearModel,Float64}:\n",
        "\n",
        "Coefficients:\n",
        "               Estimate  Std.Error   z value Pr(>|z|)\n",
        "(Intercept)     4.94104   0.531427   9.29769   <1e-19\n",
        "Pclass         -1.08744   0.139374  -7.80228   <1e-14\n",
        "AdjustedAge   -0.039398 0.00779922  -5.05153    <1e-6\n",
        "SexBinary      -2.76087   0.198746  -13.8915   <1e-43\n",
        "Fare         0.00284588 0.00235787   1.20697   0.2274\n",
        "SibSp         -0.348785   0.108925  -3.20205   0.0014\n",
        "Parch         -0.106709   0.117216 -0.910365   0.3626\n"
       ]
      }
     ],
     "prompt_number": 52
    },
    {
     "cell_type": "code",
     "collapsed": false,
     "input": [
      "stderr(model)"
     ],
     "language": "python",
     "metadata": {},
     "outputs": [
      {
       "metadata": {},
       "output_type": "pyout",
       "prompt_number": 53,
       "text": [
        "7-element Array{Float64,1}:\n",
        " 0.531427  \n",
        " 0.139374  \n",
        " 0.00779922\n",
        " 0.198746  \n",
        " 0.00235787\n",
        " 0.108925  \n",
        " 0.117216  "
       ]
      }
     ],
     "prompt_number": 53
    },
    {
     "cell_type": "code",
     "collapsed": false,
     "input": [
      "predict(model) # in order to predict, we must subject our test set to the same tortures as the training set\n",
      "# define functions for the sex and age procedures"
     ],
     "language": "python",
     "metadata": {},
     "outputs": [
      {
       "metadata": {},
       "output_type": "pyout",
       "prompt_number": 56,
       "text": [
        "891-element Array{Float64,1}:\n",
        " 0.093042 \n",
        " 0.901194 \n",
        " 0.663056 \n",
        " 0.906955 \n",
        " 0.0803089\n",
        " 0.103288 \n",
        " 0.291696 \n",
        " 0.0950033\n",
        " 0.606651 \n",
        " 0.875599 \n",
        " 0.752721 \n",
        " 0.83809  \n",
        " 0.136203 \n",
        " \u22ee        \n",
        " 0.85536  \n",
        " 0.851764 \n",
        " 0.0862899\n",
        " 0.698868 \n",
        " 0.255791 \n",
        " 0.114353 \n",
        " 0.423494 \n",
        " 0.264745 \n",
        " 0.960472 \n",
        " 0.520021 \n",
        " 0.538365 \n",
        " 0.0894135"
       ]
      }
     ],
     "prompt_number": 56
    },
    {
     "cell_type": "code",
     "collapsed": false,
     "input": [
      "result = map(x -> ((x >= 0.5) ? 1 : 0) , predict(model, data_test)) # threshold at 0.5\n",
      "size(result)\n",
      "# insert!(data_test,2,result,:Survived), when rows match up"
     ],
     "language": "python",
     "metadata": {},
     "outputs": [
      {
       "metadata": {},
       "output_type": "pyout",
       "prompt_number": 9,
       "text": [
        "(331,)"
       ]
      }
     ],
     "prompt_number": 9
    },
    {
     "cell_type": "code",
     "collapsed": false,
     "input": [
      "writetable(\"$(path)/submissions/prelim_result.csv\", result)"
     ],
     "language": "python",
     "metadata": {},
     "outputs": [
      {
       "ename": "LoadError",
       "evalue": "`writetable` has no method matching writetable(::ASCIIString, ::Array{Int64,1})\nwhile loading In[10], in expression starting on line 1",
       "output_type": "pyerr",
       "traceback": [
        "`writetable` has no method matching writetable(::ASCIIString, ::Array{Int64,1})\nwhile loading In[10], in expression starting on line 1",
        ""
       ]
      }
     ],
     "prompt_number": 10
    },
    {
     "cell_type": "heading",
     "level": 2,
     "metadata": {},
     "source": [
      "Cross Validation"
     ]
    },
    {
     "cell_type": "heading",
     "level": 2,
     "metadata": {},
     "source": [
      "Learning Curves"
     ]
    },
    {
     "cell_type": "heading",
     "level": 2,
     "metadata": {},
     "source": [
      "DataFrame Formula Hacking"
     ]
    },
    {
     "cell_type": "markdown",
     "metadata": {},
     "source": [
      "When investigating the GLM package, I was confused by some strange dataframe syntax, but it looks like its actually quite handy for specifying a subset of the training data on which to create a model"
     ]
    }
   ],
   "metadata": {}
  }
 ]
}