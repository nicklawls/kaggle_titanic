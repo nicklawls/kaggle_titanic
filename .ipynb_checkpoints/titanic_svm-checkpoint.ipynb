{
 "metadata": {
  "name": "",
  "signature": "sha256:699b8c459e96cac22396ab783e900b67e5cd17ba04f039f794109a5bb16bac75"
 },
 "nbformat": 3,
 "nbformat_minor": 0,
 "worksheets": []
}