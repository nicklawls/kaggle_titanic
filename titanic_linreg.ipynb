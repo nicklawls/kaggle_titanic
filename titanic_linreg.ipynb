{
 "metadata": {
  "language": "Julia",
  "name": "",
  "signature": "sha256:b8a35eca27f518384ad12b810326073ac25823d76b14dd2a66f2f47f2611911c"
 },
 "nbformat": 3,
 "nbformat_minor": 0,
 "worksheets": [
  {
   "cells": [
    {
     "cell_type": "heading",
     "level": 1,
     "metadata": {},
     "source": [
      "Predicting Titanic Survival with Julia's GLM Package"
     ]
    },
    {
     "cell_type": "code",
     "collapsed": false,
     "input": [
      "using DataFrames, GLM, MLBase"
     ],
     "language": "python",
     "metadata": {},
     "outputs": [],
     "prompt_number": 1
    },
    {
     "cell_type": "code",
     "collapsed": false,
     "input": [
      "path = \"/Users/nicklawler222/ml_julia/kaggle/kaggle_titanic\"\n",
      "data_test  = readtable(\"$(path)/data/test.csv\");\n",
      "data_train = readtable(\"$(path)/data/train.csv\")"
     ],
     "language": "python",
     "metadata": {},
     "outputs": [
      {
       "html": [
        "<table class=\"data-frame\"><tr><th></th><th>PassengerId</th><th>Survived</th><th>Pclass</th><th>Name</th><th>Sex</th><th>Age</th><th>SibSp</th><th>Parch</th><th>Ticket</th><th>Fare</th><th>Cabin</th><th>Embarked</th></tr><tr><th>1</th><td>1</td><td>0</td><td>3</td><td>Braund, Mr. Owen Harris</td><td>male</td><td>22.0</td><td>1</td><td>0</td><td>A/5 21171</td><td>7.25</td><td>NA</td><td>S</td></tr><tr><th>2</th><td>2</td><td>1</td><td>1</td><td>Cumings, Mrs. John Bradley (Florence Briggs Thayer)</td><td>female</td><td>38.0</td><td>1</td><td>0</td><td>PC 17599</td><td>71.2833</td><td>C85</td><td>C</td></tr><tr><th>3</th><td>3</td><td>1</td><td>3</td><td>Heikkinen, Miss. Laina</td><td>female</td><td>26.0</td><td>0</td><td>0</td><td>STON/O2. 3101282</td><td>7.925</td><td>NA</td><td>S</td></tr><tr><th>4</th><td>4</td><td>1</td><td>1</td><td>Futrelle, Mrs. Jacques Heath (Lily May Peel)</td><td>female</td><td>35.0</td><td>1</td><td>0</td><td>113803</td><td>53.1</td><td>C123</td><td>S</td></tr><tr><th>5</th><td>5</td><td>0</td><td>3</td><td>Allen, Mr. William Henry</td><td>male</td><td>35.0</td><td>0</td><td>0</td><td>373450</td><td>8.05</td><td>NA</td><td>S</td></tr><tr><th>6</th><td>6</td><td>0</td><td>3</td><td>Moran, Mr. James</td><td>male</td><td>NA</td><td>0</td><td>0</td><td>330877</td><td>8.4583</td><td>NA</td><td>Q</td></tr><tr><th>7</th><td>7</td><td>0</td><td>1</td><td>McCarthy, Mr. Timothy J</td><td>male</td><td>54.0</td><td>0</td><td>0</td><td>17463</td><td>51.8625</td><td>E46</td><td>S</td></tr><tr><th>8</th><td>8</td><td>0</td><td>3</td><td>Palsson, Master. Gosta Leonard</td><td>male</td><td>2.0</td><td>3</td><td>1</td><td>349909</td><td>21.075</td><td>NA</td><td>S</td></tr><tr><th>9</th><td>9</td><td>1</td><td>3</td><td>Johnson, Mrs. Oscar W (Elisabeth Vilhelmina Berg)</td><td>female</td><td>27.0</td><td>0</td><td>2</td><td>347742</td><td>11.1333</td><td>NA</td><td>S</td></tr><tr><th>10</th><td>10</td><td>1</td><td>2</td><td>Nasser, Mrs. Nicholas (Adele Achem)</td><td>female</td><td>14.0</td><td>1</td><td>0</td><td>237736</td><td>30.0708</td><td>NA</td><td>C</td></tr><tr><th>11</th><td>11</td><td>1</td><td>3</td><td>Sandstrom, Miss. Marguerite Rut</td><td>female</td><td>4.0</td><td>1</td><td>1</td><td>PP 9549</td><td>16.7</td><td>G6</td><td>S</td></tr><tr><th>12</th><td>12</td><td>1</td><td>1</td><td>Bonnell, Miss. Elizabeth</td><td>female</td><td>58.0</td><td>0</td><td>0</td><td>113783</td><td>26.55</td><td>C103</td><td>S</td></tr><tr><th>13</th><td>13</td><td>0</td><td>3</td><td>Saundercock, Mr. William Henry</td><td>male</td><td>20.0</td><td>0</td><td>0</td><td>A/5. 2151</td><td>8.05</td><td>NA</td><td>S</td></tr><tr><th>14</th><td>14</td><td>0</td><td>3</td><td>Andersson, Mr. Anders Johan</td><td>male</td><td>39.0</td><td>1</td><td>5</td><td>347082</td><td>31.275</td><td>NA</td><td>S</td></tr><tr><th>15</th><td>15</td><td>0</td><td>3</td><td>Vestrom, Miss. Hulda Amanda Adolfina</td><td>female</td><td>14.0</td><td>0</td><td>0</td><td>350406</td><td>7.8542</td><td>NA</td><td>S</td></tr><tr><th>16</th><td>16</td><td>1</td><td>2</td><td>Hewlett, Mrs. (Mary D Kingcome) </td><td>female</td><td>55.0</td><td>0</td><td>0</td><td>248706</td><td>16.0</td><td>NA</td><td>S</td></tr><tr><th>17</th><td>17</td><td>0</td><td>3</td><td>Rice, Master. Eugene</td><td>male</td><td>2.0</td><td>4</td><td>1</td><td>382652</td><td>29.125</td><td>NA</td><td>Q</td></tr><tr><th>18</th><td>18</td><td>1</td><td>2</td><td>Williams, Mr. Charles Eugene</td><td>male</td><td>NA</td><td>0</td><td>0</td><td>244373</td><td>13.0</td><td>NA</td><td>S</td></tr><tr><th>19</th><td>19</td><td>0</td><td>3</td><td>Vander Planke, Mrs. Julius (Emelia Maria Vandemoortele)</td><td>female</td><td>31.0</td><td>1</td><td>0</td><td>345763</td><td>18.0</td><td>NA</td><td>S</td></tr><tr><th>20</th><td>20</td><td>1</td><td>3</td><td>Masselmani, Mrs. Fatima</td><td>female</td><td>NA</td><td>0</td><td>0</td><td>2649</td><td>7.225</td><td>NA</td><td>C</td></tr><tr><th>21</th><td>21</td><td>0</td><td>2</td><td>Fynney, Mr. Joseph J</td><td>male</td><td>35.0</td><td>0</td><td>0</td><td>239865</td><td>26.0</td><td>NA</td><td>S</td></tr><tr><th>22</th><td>22</td><td>1</td><td>2</td><td>Beesley, Mr. Lawrence</td><td>male</td><td>34.0</td><td>0</td><td>0</td><td>248698</td><td>13.0</td><td>D56</td><td>S</td></tr><tr><th>23</th><td>23</td><td>1</td><td>3</td><td>McGowan, Miss. Anna \"Annie\"</td><td>female</td><td>15.0</td><td>0</td><td>0</td><td>330923</td><td>8.0292</td><td>NA</td><td>Q</td></tr><tr><th>24</th><td>24</td><td>1</td><td>1</td><td>Sloper, Mr. William Thompson</td><td>male</td><td>28.0</td><td>0</td><td>0</td><td>113788</td><td>35.5</td><td>A6</td><td>S</td></tr><tr><th>25</th><td>25</td><td>0</td><td>3</td><td>Palsson, Miss. Torborg Danira</td><td>female</td><td>8.0</td><td>3</td><td>1</td><td>349909</td><td>21.075</td><td>NA</td><td>S</td></tr><tr><th>26</th><td>26</td><td>1</td><td>3</td><td>Asplund, Mrs. Carl Oscar (Selma Augusta Emilia Johansson)</td><td>female</td><td>38.0</td><td>1</td><td>5</td><td>347077</td><td>31.3875</td><td>NA</td><td>S</td></tr><tr><th>27</th><td>27</td><td>0</td><td>3</td><td>Emir, Mr. Farred Chehab</td><td>male</td><td>NA</td><td>0</td><td>0</td><td>2631</td><td>7.225</td><td>NA</td><td>C</td></tr><tr><th>28</th><td>28</td><td>0</td><td>1</td><td>Fortune, Mr. Charles Alexander</td><td>male</td><td>19.0</td><td>3</td><td>2</td><td>19950</td><td>263.0</td><td>C23 C25 C27</td><td>S</td></tr><tr><th>29</th><td>29</td><td>1</td><td>3</td><td>O'Dwyer, Miss. Ellen \"Nellie\"</td><td>female</td><td>NA</td><td>0</td><td>0</td><td>330959</td><td>7.8792</td><td>NA</td><td>Q</td></tr><tr><th>30</th><td>30</td><td>0</td><td>3</td><td>Todoroff, Mr. Lalio</td><td>male</td><td>NA</td><td>0</td><td>0</td><td>349216</td><td>7.8958</td><td>NA</td><td>S</td></tr><tr><th>&vellip;</th><td>&vellip;</td><td>&vellip;</td><td>&vellip;</td><td>&vellip;</td><td>&vellip;</td><td>&vellip;</td><td>&vellip;</td><td>&vellip;</td><td>&vellip;</td><td>&vellip;</td><td>&vellip;</td><td>&vellip;</td></tr></table>"
       ],
       "metadata": {},
       "output_type": "pyout",
       "prompt_number": 2,
       "text": [
        "891x12 DataFrame\n",
        "| Row | PassengerId | Survived | Pclass |\n",
        "|-----|-------------|----------|--------|\n",
        "| 1   | 1           | 0        | 3      |\n",
        "| 2   | 2           | 1        | 1      |\n",
        "| 3   | 3           | 1        | 3      |\n",
        "| 4   | 4           | 1        | 1      |\n",
        "| 5   | 5           | 0        | 3      |\n",
        "| 6   | 6           | 0        | 3      |\n",
        "| 7   | 7           | 0        | 1      |\n",
        "| 8   | 8           | 0        | 3      |\n",
        "| 9   | 9           | 1        | 3      |\n",
        "| 10  | 10          | 1        | 2      |\n",
        "| 11  | 11          | 1        | 3      |\n",
        "\u22ee\n",
        "| 880 | 880         | 1        | 1      |\n",
        "| 881 | 881         | 1        | 2      |\n",
        "| 882 | 882         | 0        | 3      |\n",
        "| 883 | 883         | 0        | 3      |\n",
        "| 884 | 884         | 0        | 2      |\n",
        "| 885 | 885         | 0        | 3      |\n",
        "| 886 | 886         | 0        | 3      |\n",
        "| 887 | 887         | 0        | 2      |\n",
        "| 888 | 888         | 1        | 1      |\n",
        "| 889 | 889         | 0        | 3      |\n",
        "| 890 | 890         | 1        | 1      |\n",
        "| 891 | 891         | 0        | 3      |\n",
        "\n",
        "| Row | Name                                                  | Sex      |\n",
        "|-----|-------------------------------------------------------|----------|\n",
        "| 1   | \"Braund, Mr. Owen Harris\"                             | \"male\"   |\n",
        "| 2   | \"Cumings, Mrs. John Bradley (Florence Briggs Thayer)\" | \"female\" |\n",
        "| 3   | \"Heikkinen, Miss. Laina\"                              | \"female\" |\n",
        "| 4   | \"Futrelle, Mrs. Jacques Heath (Lily May Peel)\"        | \"female\" |\n",
        "| 5   | \"Allen, Mr. William Henry\"                            | \"male\"   |\n",
        "| 6   | \"Moran, Mr. James\"                                    | \"male\"   |\n",
        "| 7   | \"McCarthy, Mr. Timothy J\"                             | \"male\"   |\n",
        "| 8   | \"Palsson, Master. Gosta Leonard\"                      | \"male\"   |\n",
        "| 9   | \"Johnson, Mrs. Oscar W (Elisabeth Vilhelmina Berg)\"   | \"female\" |\n",
        "| 10  | \"Nasser, Mrs. Nicholas (Adele Achem)\"                 | \"female\" |\n",
        "| 11  | \"Sandstrom, Miss. Marguerite Rut\"                     | \"female\" |\n",
        "\u22ee\n",
        "| 880 | \"Potter, Mrs. Thomas Jr (Lily Alexenia Wilson)\"       | \"female\" |\n",
        "| 881 | \"Shelley, Mrs. William (Imanita Parrish Hall)\"        | \"female\" |\n",
        "| 882 | \"Markun, Mr. Johann\"                                  | \"male\"   |\n",
        "| 883 | \"Dahlberg, Miss. Gerda Ulrika\"                        | \"female\" |\n",
        "| 884 | \"Banfield, Mr. Frederick James\"                       | \"male\"   |\n",
        "| 885 | \"Sutehall, Mr. Henry Jr\"                              | \"male\"   |\n",
        "| 886 | \"Rice, Mrs. William (Margaret Norton)\"                | \"female\" |\n",
        "| 887 | \"Montvila, Rev. Juozas\"                               | \"male\"   |\n",
        "| 888 | \"Graham, Miss. Margaret Edith\"                        | \"female\" |\n",
        "| 889 | \"Johnston, Miss. Catherine Helen \\\"Carrie\\\"\"            | \"female\" |\n",
        "| 890 | \"Behr, Mr. Karl Howell\"                               | \"male\"   |\n",
        "| 891 | \"Dooley, Mr. Patrick\"                                 | \"male\"   |\n",
        "\n",
        "| Row | Age  | SibSp | Parch | Ticket             | Fare    | Cabin  |\n",
        "|-----|------|-------|-------|--------------------|---------|--------|\n",
        "| 1   | 22.0 | 1     | 0     | \"A/5 21171\"        | 7.25    | NA     |\n",
        "| 2   | 38.0 | 1     | 0     | \"PC 17599\"         | 71.2833 | \"C85\"  |\n",
        "| 3   | 26.0 | 0     | 0     | \"STON/O2. 3101282\" | 7.925   | NA     |\n",
        "| 4   | 35.0 | 1     | 0     | \"113803\"           | 53.1    | \"C123\" |\n",
        "| 5   | 35.0 | 0     | 0     | \"373450\"           | 8.05    | NA     |\n",
        "| 6   | NA   | 0     | 0     | \"330877\"           | 8.4583  | NA     |\n",
        "| 7   | 54.0 | 0     | 0     | \"17463\"            | 51.8625 | \"E46\"  |\n",
        "| 8   | 2.0  | 3     | 1     | \"349909\"           | 21.075  | NA     |\n",
        "| 9   | 27.0 | 0     | 2     | \"347742\"           | 11.1333 | NA     |\n",
        "| 10  | 14.0 | 1     | 0     | \"237736\"           | 30.0708 | NA     |\n",
        "| 11  | 4.0  | 1     | 1     | \"PP 9549\"          | 16.7    | \"G6\"   |\n",
        "\u22ee\n",
        "| 880 | 56.0 | 0     | 1     | \"11767\"            | 83.1583 | \"C50\"  |\n",
        "| 881 | 25.0 | 0     | 1     | \"230433\"           | 26.0    | NA     |\n",
        "| 882 | 33.0 | 0     | 0     | \"349257\"           | 7.8958  | NA     |\n",
        "| 883 | 22.0 | 0     | 0     | \"7552\"             | 10.5167 | NA     |\n",
        "| 884 | 28.0 | 0     | 0     | \"C.A./SOTON 34068\" | 10.5    | NA     |\n",
        "| 885 | 25.0 | 0     | 0     | \"SOTON/OQ 392076\"  | 7.05    | NA     |\n",
        "| 886 | 39.0 | 0     | 5     | \"382652\"           | 29.125  | NA     |\n",
        "| 887 | 27.0 | 0     | 0     | \"211536\"           | 13.0    | NA     |\n",
        "| 888 | 19.0 | 0     | 0     | \"112053\"           | 30.0    | \"B42\"  |\n",
        "| 889 | NA   | 1     | 2     | \"W./C. 6607\"       | 23.45   | NA     |\n",
        "| 890 | 26.0 | 0     | 0     | \"111369\"           | 30.0    | \"C148\" |\n",
        "| 891 | 32.0 | 0     | 0     | \"370376\"           | 7.75    | NA     |\n",
        "\n",
        "| Row | Embarked |\n",
        "|-----|----------|\n",
        "| 1   | \"S\"      |\n",
        "| 2   | \"C\"      |\n",
        "| 3   | \"S\"      |\n",
        "| 4   | \"S\"      |\n",
        "| 5   | \"S\"      |\n",
        "| 6   | \"Q\"      |\n",
        "| 7   | \"S\"      |\n",
        "| 8   | \"S\"      |\n",
        "| 9   | \"S\"      |\n",
        "| 10  | \"C\"      |\n",
        "| 11  | \"S\"      |\n",
        "\u22ee\n",
        "| 880 | \"C\"      |\n",
        "| 881 | \"S\"      |\n",
        "| 882 | \"S\"      |\n",
        "| 883 | \"S\"      |\n",
        "| 884 | \"S\"      |\n",
        "| 885 | \"S\"      |\n",
        "| 886 | \"Q\"      |\n",
        "| 887 | \"S\"      |\n",
        "| 888 | \"S\"      |\n",
        "| 889 | \"S\"      |\n",
        "| 890 | \"C\"      |\n",
        "| 891 | \"Q\"      |"
       ]
      }
     ],
     "prompt_number": 2
    },
    {
     "cell_type": "markdown",
     "metadata": {},
     "source": [
      "Lets take a look at the data to see what we're dealing with and what we have to predict"
     ]
    },
    {
     "cell_type": "code",
     "collapsed": false,
     "input": [
      "println(\"$(size(data_train,1)) posssible training examples\")\n",
      "println(\"$(size(data_test,1)) test examples\")\n",
      "println(\"$(size(data_train,2) - 1) possible features\")"
     ],
     "language": "python",
     "metadata": {},
     "outputs": [
      {
       "output_type": "stream",
       "stream": "stderr",
       "text": [
        "Warning: could not import Base.add! into NumericExtensions\n"
       ]
      },
      {
       "output_type": "stream",
       "stream": "stdout",
       "text": [
        "891 posssible training examples\n"
       ]
      },
      {
       "output_type": "stream",
       "stream": "stdout",
       "text": [
        "418 test examples\n",
        "11 possible features\n"
       ]
      }
     ],
     "prompt_number": 3
    },
    {
     "cell_type": "markdown",
     "metadata": {},
     "source": [
      "So, we will build our models as follows\n",
      "\n",
      "1. Select features or sets of features that would be predictive of survival, ensure those features are properly represented\n",
      "2. Use binary classification algorithms (LogReg, maybe a NN) to predict survival based on the other features of the data\n",
      "3. Use cross validation to select the optimal model parameters (Regularization parameter)\n",
      "4. Plot Learning Curves: Training and CV error as a function of the number of examples m, ensure training error increases and CV error decreases\n",
      "5. Evaluate and change the model as necessary and submit "
     ]
    },
    {
     "cell_type": "heading",
     "level": 2,
     "metadata": {},
     "source": [
      "Feature Selection and Cleaning"
     ]
    },
    {
     "cell_type": "markdown",
     "metadata": {},
     "source": [
      "Lets evaluate each feature and see if we can reason about how predictive it will be. \n",
      "#### PassengerId\n",
      "Has nothing to do with it really\n",
      "#### Pclass\n",
      "It may very well have been the case that certain socio-economic classes had a higher chance of getting to a lifeboat, and the data is well represented as integer, so we'll keep it\n",
      "#### Name\n",
      "Could possibly be predictive to some degree, but would be a pain to convert to a usable format\n",
      "#### Sex\n",
      "Its common knowledge that women and chilren are usually the first to be rescued in a disaster, so we should keep these and encode them in binary: male = 1 and female = 0 (not being sexist I swear)\n",
      "#### Age\n",
      "The other dimension of \"women and children\", so it should be highly predictive. Going to need to deal with all of the NA's\n",
      "#### Sibling/Spouse\n",
      "Sure, why not\n",
      "#### Parch\n",
      "Plays into \"Women and Children\"\n",
      "#### Ticktet\n",
      "Bad data format, and the only relevance it might contain should be captured by Pclass\n",
      "#### Fare \n",
      "Could sensibly be predictive, and it's already floating point, so we'll leave it\n",
      "#### Cabin\n",
      "Lots of NA entries, but obviously someone who had a cabin close to the lifeboats is going to be more likely to make it in time. We'll leave it out at first since the data format is so shakey, but we can put it back in if we need it. \n",
      "#### Embark\n",
      "Port of embarkation should have no bearing on survival, at least, no bearing that isn't already covered by other features. \n",
      "\n",
      "So our final feature selection incudes **Pclass, Sex, Age, Fare, SibSp, Parch**, with **Cabin** on the bench."
     ]
    },
    {
     "cell_type": "markdown",
     "metadata": {},
     "source": [
      "To begin cleaning the data while preserving its original integrity, we'll add rows to the dataframe that are transformations of the rows we want. Lets start by adding a row with sex expressed in binary"
     ]
    },
    {
     "cell_type": "code",
     "collapsed": false,
     "input": [
      "function sex_binary!(df::DataFrame)\n",
      "    insert!(df, 6, int(df[:Sex] .== \"male\"), :SexBinary)\n",
      "end\n",
      "\n",
      "sex_binary!(data_train)"
     ],
     "language": "python",
     "metadata": {},
     "outputs": [
      {
       "html": [
        "<table class=\"data-frame\"><tr><th></th><th>PassengerId</th><th>Survived</th><th>Pclass</th><th>Name</th><th>Sex</th><th>SexBinary</th><th>Age</th><th>SibSp</th><th>Parch</th><th>Ticket</th><th>Fare</th><th>Cabin</th><th>Embarked</th></tr><tr><th>1</th><td>1</td><td>0</td><td>3</td><td>Braund, Mr. Owen Harris</td><td>male</td><td>1</td><td>22.0</td><td>1</td><td>0</td><td>A/5 21171</td><td>7.25</td><td>NA</td><td>S</td></tr><tr><th>2</th><td>2</td><td>1</td><td>1</td><td>Cumings, Mrs. John Bradley (Florence Briggs Thayer)</td><td>female</td><td>0</td><td>38.0</td><td>1</td><td>0</td><td>PC 17599</td><td>71.2833</td><td>C85</td><td>C</td></tr><tr><th>3</th><td>3</td><td>1</td><td>3</td><td>Heikkinen, Miss. Laina</td><td>female</td><td>0</td><td>26.0</td><td>0</td><td>0</td><td>STON/O2. 3101282</td><td>7.925</td><td>NA</td><td>S</td></tr><tr><th>4</th><td>4</td><td>1</td><td>1</td><td>Futrelle, Mrs. Jacques Heath (Lily May Peel)</td><td>female</td><td>0</td><td>35.0</td><td>1</td><td>0</td><td>113803</td><td>53.1</td><td>C123</td><td>S</td></tr><tr><th>5</th><td>5</td><td>0</td><td>3</td><td>Allen, Mr. William Henry</td><td>male</td><td>1</td><td>35.0</td><td>0</td><td>0</td><td>373450</td><td>8.05</td><td>NA</td><td>S</td></tr><tr><th>6</th><td>6</td><td>0</td><td>3</td><td>Moran, Mr. James</td><td>male</td><td>1</td><td>NA</td><td>0</td><td>0</td><td>330877</td><td>8.4583</td><td>NA</td><td>Q</td></tr><tr><th>7</th><td>7</td><td>0</td><td>1</td><td>McCarthy, Mr. Timothy J</td><td>male</td><td>1</td><td>54.0</td><td>0</td><td>0</td><td>17463</td><td>51.8625</td><td>E46</td><td>S</td></tr><tr><th>8</th><td>8</td><td>0</td><td>3</td><td>Palsson, Master. Gosta Leonard</td><td>male</td><td>1</td><td>2.0</td><td>3</td><td>1</td><td>349909</td><td>21.075</td><td>NA</td><td>S</td></tr><tr><th>9</th><td>9</td><td>1</td><td>3</td><td>Johnson, Mrs. Oscar W (Elisabeth Vilhelmina Berg)</td><td>female</td><td>0</td><td>27.0</td><td>0</td><td>2</td><td>347742</td><td>11.1333</td><td>NA</td><td>S</td></tr><tr><th>10</th><td>10</td><td>1</td><td>2</td><td>Nasser, Mrs. Nicholas (Adele Achem)</td><td>female</td><td>0</td><td>14.0</td><td>1</td><td>0</td><td>237736</td><td>30.0708</td><td>NA</td><td>C</td></tr><tr><th>11</th><td>11</td><td>1</td><td>3</td><td>Sandstrom, Miss. Marguerite Rut</td><td>female</td><td>0</td><td>4.0</td><td>1</td><td>1</td><td>PP 9549</td><td>16.7</td><td>G6</td><td>S</td></tr><tr><th>12</th><td>12</td><td>1</td><td>1</td><td>Bonnell, Miss. Elizabeth</td><td>female</td><td>0</td><td>58.0</td><td>0</td><td>0</td><td>113783</td><td>26.55</td><td>C103</td><td>S</td></tr><tr><th>13</th><td>13</td><td>0</td><td>3</td><td>Saundercock, Mr. William Henry</td><td>male</td><td>1</td><td>20.0</td><td>0</td><td>0</td><td>A/5. 2151</td><td>8.05</td><td>NA</td><td>S</td></tr><tr><th>14</th><td>14</td><td>0</td><td>3</td><td>Andersson, Mr. Anders Johan</td><td>male</td><td>1</td><td>39.0</td><td>1</td><td>5</td><td>347082</td><td>31.275</td><td>NA</td><td>S</td></tr><tr><th>15</th><td>15</td><td>0</td><td>3</td><td>Vestrom, Miss. Hulda Amanda Adolfina</td><td>female</td><td>0</td><td>14.0</td><td>0</td><td>0</td><td>350406</td><td>7.8542</td><td>NA</td><td>S</td></tr><tr><th>16</th><td>16</td><td>1</td><td>2</td><td>Hewlett, Mrs. (Mary D Kingcome) </td><td>female</td><td>0</td><td>55.0</td><td>0</td><td>0</td><td>248706</td><td>16.0</td><td>NA</td><td>S</td></tr><tr><th>17</th><td>17</td><td>0</td><td>3</td><td>Rice, Master. Eugene</td><td>male</td><td>1</td><td>2.0</td><td>4</td><td>1</td><td>382652</td><td>29.125</td><td>NA</td><td>Q</td></tr><tr><th>18</th><td>18</td><td>1</td><td>2</td><td>Williams, Mr. Charles Eugene</td><td>male</td><td>1</td><td>NA</td><td>0</td><td>0</td><td>244373</td><td>13.0</td><td>NA</td><td>S</td></tr><tr><th>19</th><td>19</td><td>0</td><td>3</td><td>Vander Planke, Mrs. Julius (Emelia Maria Vandemoortele)</td><td>female</td><td>0</td><td>31.0</td><td>1</td><td>0</td><td>345763</td><td>18.0</td><td>NA</td><td>S</td></tr><tr><th>20</th><td>20</td><td>1</td><td>3</td><td>Masselmani, Mrs. Fatima</td><td>female</td><td>0</td><td>NA</td><td>0</td><td>0</td><td>2649</td><td>7.225</td><td>NA</td><td>C</td></tr><tr><th>21</th><td>21</td><td>0</td><td>2</td><td>Fynney, Mr. Joseph J</td><td>male</td><td>1</td><td>35.0</td><td>0</td><td>0</td><td>239865</td><td>26.0</td><td>NA</td><td>S</td></tr><tr><th>22</th><td>22</td><td>1</td><td>2</td><td>Beesley, Mr. Lawrence</td><td>male</td><td>1</td><td>34.0</td><td>0</td><td>0</td><td>248698</td><td>13.0</td><td>D56</td><td>S</td></tr><tr><th>23</th><td>23</td><td>1</td><td>3</td><td>McGowan, Miss. Anna \"Annie\"</td><td>female</td><td>0</td><td>15.0</td><td>0</td><td>0</td><td>330923</td><td>8.0292</td><td>NA</td><td>Q</td></tr><tr><th>24</th><td>24</td><td>1</td><td>1</td><td>Sloper, Mr. William Thompson</td><td>male</td><td>1</td><td>28.0</td><td>0</td><td>0</td><td>113788</td><td>35.5</td><td>A6</td><td>S</td></tr><tr><th>25</th><td>25</td><td>0</td><td>3</td><td>Palsson, Miss. Torborg Danira</td><td>female</td><td>0</td><td>8.0</td><td>3</td><td>1</td><td>349909</td><td>21.075</td><td>NA</td><td>S</td></tr><tr><th>26</th><td>26</td><td>1</td><td>3</td><td>Asplund, Mrs. Carl Oscar (Selma Augusta Emilia Johansson)</td><td>female</td><td>0</td><td>38.0</td><td>1</td><td>5</td><td>347077</td><td>31.3875</td><td>NA</td><td>S</td></tr><tr><th>27</th><td>27</td><td>0</td><td>3</td><td>Emir, Mr. Farred Chehab</td><td>male</td><td>1</td><td>NA</td><td>0</td><td>0</td><td>2631</td><td>7.225</td><td>NA</td><td>C</td></tr><tr><th>28</th><td>28</td><td>0</td><td>1</td><td>Fortune, Mr. Charles Alexander</td><td>male</td><td>1</td><td>19.0</td><td>3</td><td>2</td><td>19950</td><td>263.0</td><td>C23 C25 C27</td><td>S</td></tr><tr><th>29</th><td>29</td><td>1</td><td>3</td><td>O'Dwyer, Miss. Ellen \"Nellie\"</td><td>female</td><td>0</td><td>NA</td><td>0</td><td>0</td><td>330959</td><td>7.8792</td><td>NA</td><td>Q</td></tr><tr><th>30</th><td>30</td><td>0</td><td>3</td><td>Todoroff, Mr. Lalio</td><td>male</td><td>1</td><td>NA</td><td>0</td><td>0</td><td>349216</td><td>7.8958</td><td>NA</td><td>S</td></tr><tr><th>&vellip;</th><td>&vellip;</td><td>&vellip;</td><td>&vellip;</td><td>&vellip;</td><td>&vellip;</td><td>&vellip;</td><td>&vellip;</td><td>&vellip;</td><td>&vellip;</td><td>&vellip;</td><td>&vellip;</td><td>&vellip;</td><td>&vellip;</td></tr></table>"
       ],
       "metadata": {},
       "output_type": "pyout",
       "prompt_number": 4,
       "text": [
        "891x13 DataFrame\n",
        "| Row | PassengerId | Survived | Pclass |\n",
        "|-----|-------------|----------|--------|\n",
        "| 1   | 1           | 0        | 3      |\n",
        "| 2   | 2           | 1        | 1      |\n",
        "| 3   | 3           | 1        | 3      |\n",
        "| 4   | 4           | 1        | 1      |\n",
        "| 5   | 5           | 0        | 3      |\n",
        "| 6   | 6           | 0        | 3      |\n",
        "| 7   | 7           | 0        | 1      |\n",
        "| 8   | 8           | 0        | 3      |\n",
        "| 9   | 9           | 1        | 3      |\n",
        "| 10  | 10          | 1        | 2      |\n",
        "| 11  | 11          | 1        | 3      |\n",
        "\u22ee\n",
        "| 880 | 880         | 1        | 1      |\n",
        "| 881 | 881         | 1        | 2      |\n",
        "| 882 | 882         | 0        | 3      |\n",
        "| 883 | 883         | 0        | 3      |\n",
        "| 884 | 884         | 0        | 2      |\n",
        "| 885 | 885         | 0        | 3      |\n",
        "| 886 | 886         | 0        | 3      |\n",
        "| 887 | 887         | 0        | 2      |\n",
        "| 888 | 888         | 1        | 1      |\n",
        "| 889 | 889         | 0        | 3      |\n",
        "| 890 | 890         | 1        | 1      |\n",
        "| 891 | 891         | 0        | 3      |\n",
        "\n",
        "| Row | Name                                                  | Sex      |\n",
        "|-----|-------------------------------------------------------|----------|\n",
        "| 1   | \"Braund, Mr. Owen Harris\"                             | \"male\"   |\n",
        "| 2   | \"Cumings, Mrs. John Bradley (Florence Briggs Thayer)\" | \"female\" |\n",
        "| 3   | \"Heikkinen, Miss. Laina\"                              | \"female\" |\n",
        "| 4   | \"Futrelle, Mrs. Jacques Heath (Lily May Peel)\"        | \"female\" |\n",
        "| 5   | \"Allen, Mr. William Henry\"                            | \"male\"   |\n",
        "| 6   | \"Moran, Mr. James\"                                    | \"male\"   |\n",
        "| 7   | \"McCarthy, Mr. Timothy J\"                             | \"male\"   |\n",
        "| 8   | \"Palsson, Master. Gosta Leonard\"                      | \"male\"   |\n",
        "| 9   | \"Johnson, Mrs. Oscar W (Elisabeth Vilhelmina Berg)\"   | \"female\" |\n",
        "| 10  | \"Nasser, Mrs. Nicholas (Adele Achem)\"                 | \"female\" |\n",
        "| 11  | \"Sandstrom, Miss. Marguerite Rut\"                     | \"female\" |\n",
        "\u22ee\n",
        "| 880 | \"Potter, Mrs. Thomas Jr (Lily Alexenia Wilson)\"       | \"female\" |\n",
        "| 881 | \"Shelley, Mrs. William (Imanita Parrish Hall)\"        | \"female\" |\n",
        "| 882 | \"Markun, Mr. Johann\"                                  | \"male\"   |\n",
        "| 883 | \"Dahlberg, Miss. Gerda Ulrika\"                        | \"female\" |\n",
        "| 884 | \"Banfield, Mr. Frederick James\"                       | \"male\"   |\n",
        "| 885 | \"Sutehall, Mr. Henry Jr\"                              | \"male\"   |\n",
        "| 886 | \"Rice, Mrs. William (Margaret Norton)\"                | \"female\" |\n",
        "| 887 | \"Montvila, Rev. Juozas\"                               | \"male\"   |\n",
        "| 888 | \"Graham, Miss. Margaret Edith\"                        | \"female\" |\n",
        "| 889 | \"Johnston, Miss. Catherine Helen \\\"Carrie\\\"\"            | \"female\" |\n",
        "| 890 | \"Behr, Mr. Karl Howell\"                               | \"male\"   |\n",
        "| 891 | \"Dooley, Mr. Patrick\"                                 | \"male\"   |\n",
        "\n",
        "| Row | SexBinary | Age  | SibSp | Parch | Ticket             | Fare    |\n",
        "|-----|-----------|------|-------|-------|--------------------|---------|\n",
        "| 1   | 1         | 22.0 | 1     | 0     | \"A/5 21171\"        | 7.25    |\n",
        "| 2   | 0         | 38.0 | 1     | 0     | \"PC 17599\"         | 71.2833 |\n",
        "| 3   | 0         | 26.0 | 0     | 0     | \"STON/O2. 3101282\" | 7.925   |\n",
        "| 4   | 0         | 35.0 | 1     | 0     | \"113803\"           | 53.1    |\n",
        "| 5   | 1         | 35.0 | 0     | 0     | \"373450\"           | 8.05    |\n",
        "| 6   | 1         | NA   | 0     | 0     | \"330877\"           | 8.4583  |\n",
        "| 7   | 1         | 54.0 | 0     | 0     | \"17463\"            | 51.8625 |\n",
        "| 8   | 1         | 2.0  | 3     | 1     | \"349909\"           | 21.075  |\n",
        "| 9   | 0         | 27.0 | 0     | 2     | \"347742\"           | 11.1333 |\n",
        "| 10  | 0         | 14.0 | 1     | 0     | \"237736\"           | 30.0708 |\n",
        "| 11  | 0         | 4.0  | 1     | 1     | \"PP 9549\"          | 16.7    |\n",
        "\u22ee\n",
        "| 880 | 0         | 56.0 | 0     | 1     | \"11767\"            | 83.1583 |\n",
        "| 881 | 0         | 25.0 | 0     | 1     | \"230433\"           | 26.0    |\n",
        "| 882 | 1         | 33.0 | 0     | 0     | \"349257\"           | 7.8958  |\n",
        "| 883 | 0         | 22.0 | 0     | 0     | \"7552\"             | 10.5167 |\n",
        "| 884 | 1         | 28.0 | 0     | 0     | \"C.A./SOTON 34068\" | 10.5    |\n",
        "| 885 | 1         | 25.0 | 0     | 0     | \"SOTON/OQ 392076\"  | 7.05    |\n",
        "| 886 | 0         | 39.0 | 0     | 5     | \"382652\"           | 29.125  |\n",
        "| 887 | 1         | 27.0 | 0     | 0     | \"211536\"           | 13.0    |\n",
        "| 888 | 0         | 19.0 | 0     | 0     | \"112053\"           | 30.0    |\n",
        "| 889 | 0         | NA   | 1     | 2     | \"W./C. 6607\"       | 23.45   |\n",
        "| 890 | 1         | 26.0 | 0     | 0     | \"111369\"           | 30.0    |\n",
        "| 891 | 1         | 32.0 | 0     | 0     | \"370376\"           | 7.75    |\n",
        "\n",
        "| Row | Cabin  | Embarked |\n",
        "|-----|--------|----------|\n",
        "| 1   | NA     | \"S\"      |\n",
        "| 2   | \"C85\"  | \"C\"      |\n",
        "| 3   | NA     | \"S\"      |\n",
        "| 4   | \"C123\" | \"S\"      |\n",
        "| 5   | NA     | \"S\"      |\n",
        "| 6   | NA     | \"Q\"      |\n",
        "| 7   | \"E46\"  | \"S\"      |\n",
        "| 8   | NA     | \"S\"      |\n",
        "| 9   | NA     | \"S\"      |\n",
        "| 10  | NA     | \"C\"      |\n",
        "| 11  | \"G6\"   | \"S\"      |\n",
        "\u22ee\n",
        "| 880 | \"C50\"  | \"C\"      |\n",
        "| 881 | NA     | \"S\"      |\n",
        "| 882 | NA     | \"S\"      |\n",
        "| 883 | NA     | \"S\"      |\n",
        "| 884 | NA     | \"S\"      |\n",
        "| 885 | NA     | \"S\"      |\n",
        "| 886 | NA     | \"Q\"      |\n",
        "| 887 | NA     | \"S\"      |\n",
        "| 888 | \"B42\"  | \"S\"      |\n",
        "| 889 | NA     | \"S\"      |\n",
        "| 890 | \"C148\" | \"C\"      |\n",
        "| 891 | NA     | \"Q\"      |"
       ]
      }
     ],
     "prompt_number": 4
    },
    {
     "cell_type": "markdown",
     "metadata": {},
     "source": [
      "In order to fill in the NA age values with a reasonable substiture, we need the indices of values with and without NAs"
     ]
    },
    {
     "cell_type": "code",
     "collapsed": false,
     "input": [
      "function replace_na_median!(df::DataFrame)\n",
      "    # get the indices of NA and non NA rows\n",
      "    na_indicator = isna(df[:Age])\n",
      "    filled_indices, na_indices = [] , []\n",
      "    for i in 1:size(na_indicator,1)\n",
      "        if !na_indicator[i]\n",
      "            filled_indices = [filled_indices, i]\n",
      "        else\n",
      "            na_indices = [na_indices, i]\n",
      "        end\n",
      "    end\n",
      "    \n",
      "    # get the median of non-NA rows\n",
      "    median_age = median(df[:Age][filled_indices])\n",
      "\n",
      "    # Insert a new dataframe row with that value substituting for NA's\n",
      "    adjustedAge = copy(df[:Age])\n",
      "    adjustedAge[na_indices] = median_age\n",
      "    insert!(df, 8, adjustedAge, :AdjustedAge)\n",
      "end\n",
      "\n",
      "replace_na_median!(data_train)"
     ],
     "language": "python",
     "metadata": {},
     "outputs": [
      {
       "html": [
        "<table class=\"data-frame\"><tr><th></th><th>PassengerId</th><th>Survived</th><th>Pclass</th><th>Name</th><th>Sex</th><th>SexBinary</th><th>Age</th><th>AdjustedAge</th><th>SibSp</th><th>Parch</th><th>Ticket</th><th>Fare</th><th>Cabin</th><th>Embarked</th></tr><tr><th>1</th><td>1</td><td>0</td><td>3</td><td>Braund, Mr. Owen Harris</td><td>male</td><td>1</td><td>22.0</td><td>22.0</td><td>1</td><td>0</td><td>A/5 21171</td><td>7.25</td><td>NA</td><td>S</td></tr><tr><th>2</th><td>2</td><td>1</td><td>1</td><td>Cumings, Mrs. John Bradley (Florence Briggs Thayer)</td><td>female</td><td>0</td><td>38.0</td><td>38.0</td><td>1</td><td>0</td><td>PC 17599</td><td>71.2833</td><td>C85</td><td>C</td></tr><tr><th>3</th><td>3</td><td>1</td><td>3</td><td>Heikkinen, Miss. Laina</td><td>female</td><td>0</td><td>26.0</td><td>26.0</td><td>0</td><td>0</td><td>STON/O2. 3101282</td><td>7.925</td><td>NA</td><td>S</td></tr><tr><th>4</th><td>4</td><td>1</td><td>1</td><td>Futrelle, Mrs. Jacques Heath (Lily May Peel)</td><td>female</td><td>0</td><td>35.0</td><td>35.0</td><td>1</td><td>0</td><td>113803</td><td>53.1</td><td>C123</td><td>S</td></tr><tr><th>5</th><td>5</td><td>0</td><td>3</td><td>Allen, Mr. William Henry</td><td>male</td><td>1</td><td>35.0</td><td>35.0</td><td>0</td><td>0</td><td>373450</td><td>8.05</td><td>NA</td><td>S</td></tr><tr><th>6</th><td>6</td><td>0</td><td>3</td><td>Moran, Mr. James</td><td>male</td><td>1</td><td>NA</td><td>28.0</td><td>0</td><td>0</td><td>330877</td><td>8.4583</td><td>NA</td><td>Q</td></tr><tr><th>7</th><td>7</td><td>0</td><td>1</td><td>McCarthy, Mr. Timothy J</td><td>male</td><td>1</td><td>54.0</td><td>54.0</td><td>0</td><td>0</td><td>17463</td><td>51.8625</td><td>E46</td><td>S</td></tr><tr><th>8</th><td>8</td><td>0</td><td>3</td><td>Palsson, Master. Gosta Leonard</td><td>male</td><td>1</td><td>2.0</td><td>2.0</td><td>3</td><td>1</td><td>349909</td><td>21.075</td><td>NA</td><td>S</td></tr><tr><th>9</th><td>9</td><td>1</td><td>3</td><td>Johnson, Mrs. Oscar W (Elisabeth Vilhelmina Berg)</td><td>female</td><td>0</td><td>27.0</td><td>27.0</td><td>0</td><td>2</td><td>347742</td><td>11.1333</td><td>NA</td><td>S</td></tr><tr><th>10</th><td>10</td><td>1</td><td>2</td><td>Nasser, Mrs. Nicholas (Adele Achem)</td><td>female</td><td>0</td><td>14.0</td><td>14.0</td><td>1</td><td>0</td><td>237736</td><td>30.0708</td><td>NA</td><td>C</td></tr><tr><th>11</th><td>11</td><td>1</td><td>3</td><td>Sandstrom, Miss. Marguerite Rut</td><td>female</td><td>0</td><td>4.0</td><td>4.0</td><td>1</td><td>1</td><td>PP 9549</td><td>16.7</td><td>G6</td><td>S</td></tr><tr><th>12</th><td>12</td><td>1</td><td>1</td><td>Bonnell, Miss. Elizabeth</td><td>female</td><td>0</td><td>58.0</td><td>58.0</td><td>0</td><td>0</td><td>113783</td><td>26.55</td><td>C103</td><td>S</td></tr><tr><th>13</th><td>13</td><td>0</td><td>3</td><td>Saundercock, Mr. William Henry</td><td>male</td><td>1</td><td>20.0</td><td>20.0</td><td>0</td><td>0</td><td>A/5. 2151</td><td>8.05</td><td>NA</td><td>S</td></tr><tr><th>14</th><td>14</td><td>0</td><td>3</td><td>Andersson, Mr. Anders Johan</td><td>male</td><td>1</td><td>39.0</td><td>39.0</td><td>1</td><td>5</td><td>347082</td><td>31.275</td><td>NA</td><td>S</td></tr><tr><th>15</th><td>15</td><td>0</td><td>3</td><td>Vestrom, Miss. Hulda Amanda Adolfina</td><td>female</td><td>0</td><td>14.0</td><td>14.0</td><td>0</td><td>0</td><td>350406</td><td>7.8542</td><td>NA</td><td>S</td></tr><tr><th>16</th><td>16</td><td>1</td><td>2</td><td>Hewlett, Mrs. (Mary D Kingcome) </td><td>female</td><td>0</td><td>55.0</td><td>55.0</td><td>0</td><td>0</td><td>248706</td><td>16.0</td><td>NA</td><td>S</td></tr><tr><th>17</th><td>17</td><td>0</td><td>3</td><td>Rice, Master. Eugene</td><td>male</td><td>1</td><td>2.0</td><td>2.0</td><td>4</td><td>1</td><td>382652</td><td>29.125</td><td>NA</td><td>Q</td></tr><tr><th>18</th><td>18</td><td>1</td><td>2</td><td>Williams, Mr. Charles Eugene</td><td>male</td><td>1</td><td>NA</td><td>28.0</td><td>0</td><td>0</td><td>244373</td><td>13.0</td><td>NA</td><td>S</td></tr><tr><th>19</th><td>19</td><td>0</td><td>3</td><td>Vander Planke, Mrs. Julius (Emelia Maria Vandemoortele)</td><td>female</td><td>0</td><td>31.0</td><td>31.0</td><td>1</td><td>0</td><td>345763</td><td>18.0</td><td>NA</td><td>S</td></tr><tr><th>20</th><td>20</td><td>1</td><td>3</td><td>Masselmani, Mrs. Fatima</td><td>female</td><td>0</td><td>NA</td><td>28.0</td><td>0</td><td>0</td><td>2649</td><td>7.225</td><td>NA</td><td>C</td></tr><tr><th>21</th><td>21</td><td>0</td><td>2</td><td>Fynney, Mr. Joseph J</td><td>male</td><td>1</td><td>35.0</td><td>35.0</td><td>0</td><td>0</td><td>239865</td><td>26.0</td><td>NA</td><td>S</td></tr><tr><th>22</th><td>22</td><td>1</td><td>2</td><td>Beesley, Mr. Lawrence</td><td>male</td><td>1</td><td>34.0</td><td>34.0</td><td>0</td><td>0</td><td>248698</td><td>13.0</td><td>D56</td><td>S</td></tr><tr><th>23</th><td>23</td><td>1</td><td>3</td><td>McGowan, Miss. Anna \"Annie\"</td><td>female</td><td>0</td><td>15.0</td><td>15.0</td><td>0</td><td>0</td><td>330923</td><td>8.0292</td><td>NA</td><td>Q</td></tr><tr><th>24</th><td>24</td><td>1</td><td>1</td><td>Sloper, Mr. William Thompson</td><td>male</td><td>1</td><td>28.0</td><td>28.0</td><td>0</td><td>0</td><td>113788</td><td>35.5</td><td>A6</td><td>S</td></tr><tr><th>25</th><td>25</td><td>0</td><td>3</td><td>Palsson, Miss. Torborg Danira</td><td>female</td><td>0</td><td>8.0</td><td>8.0</td><td>3</td><td>1</td><td>349909</td><td>21.075</td><td>NA</td><td>S</td></tr><tr><th>26</th><td>26</td><td>1</td><td>3</td><td>Asplund, Mrs. Carl Oscar (Selma Augusta Emilia Johansson)</td><td>female</td><td>0</td><td>38.0</td><td>38.0</td><td>1</td><td>5</td><td>347077</td><td>31.3875</td><td>NA</td><td>S</td></tr><tr><th>27</th><td>27</td><td>0</td><td>3</td><td>Emir, Mr. Farred Chehab</td><td>male</td><td>1</td><td>NA</td><td>28.0</td><td>0</td><td>0</td><td>2631</td><td>7.225</td><td>NA</td><td>C</td></tr><tr><th>28</th><td>28</td><td>0</td><td>1</td><td>Fortune, Mr. Charles Alexander</td><td>male</td><td>1</td><td>19.0</td><td>19.0</td><td>3</td><td>2</td><td>19950</td><td>263.0</td><td>C23 C25 C27</td><td>S</td></tr><tr><th>29</th><td>29</td><td>1</td><td>3</td><td>O'Dwyer, Miss. Ellen \"Nellie\"</td><td>female</td><td>0</td><td>NA</td><td>28.0</td><td>0</td><td>0</td><td>330959</td><td>7.8792</td><td>NA</td><td>Q</td></tr><tr><th>30</th><td>30</td><td>0</td><td>3</td><td>Todoroff, Mr. Lalio</td><td>male</td><td>1</td><td>NA</td><td>28.0</td><td>0</td><td>0</td><td>349216</td><td>7.8958</td><td>NA</td><td>S</td></tr><tr><th>&vellip;</th><td>&vellip;</td><td>&vellip;</td><td>&vellip;</td><td>&vellip;</td><td>&vellip;</td><td>&vellip;</td><td>&vellip;</td><td>&vellip;</td><td>&vellip;</td><td>&vellip;</td><td>&vellip;</td><td>&vellip;</td><td>&vellip;</td><td>&vellip;</td></tr></table>"
       ],
       "metadata": {},
       "output_type": "pyout",
       "prompt_number": 5,
       "text": [
        "891x14 DataFrame\n",
        "| Row | PassengerId | Survived | Pclass |\n",
        "|-----|-------------|----------|--------|\n",
        "| 1   | 1           | 0        | 3      |\n",
        "| 2   | 2           | 1        | 1      |\n",
        "| 3   | 3           | 1        | 3      |\n",
        "| 4   | 4           | 1        | 1      |\n",
        "| 5   | 5           | 0        | 3      |\n",
        "| 6   | 6           | 0        | 3      |\n",
        "| 7   | 7           | 0        | 1      |\n",
        "| 8   | 8           | 0        | 3      |\n",
        "| 9   | 9           | 1        | 3      |\n",
        "| 10  | 10          | 1        | 2      |\n",
        "| 11  | 11          | 1        | 3      |\n",
        "\u22ee\n",
        "| 880 | 880         | 1        | 1      |\n",
        "| 881 | 881         | 1        | 2      |\n",
        "| 882 | 882         | 0        | 3      |\n",
        "| 883 | 883         | 0        | 3      |\n",
        "| 884 | 884         | 0        | 2      |\n",
        "| 885 | 885         | 0        | 3      |\n",
        "| 886 | 886         | 0        | 3      |\n",
        "| 887 | 887         | 0        | 2      |\n",
        "| 888 | 888         | 1        | 1      |\n",
        "| 889 | 889         | 0        | 3      |\n",
        "| 890 | 890         | 1        | 1      |\n",
        "| 891 | 891         | 0        | 3      |\n",
        "\n",
        "| Row | Name                                                  | Sex      |\n",
        "|-----|-------------------------------------------------------|----------|\n",
        "| 1   | \"Braund, Mr. Owen Harris\"                             | \"male\"   |\n",
        "| 2   | \"Cumings, Mrs. John Bradley (Florence Briggs Thayer)\" | \"female\" |\n",
        "| 3   | \"Heikkinen, Miss. Laina\"                              | \"female\" |\n",
        "| 4   | \"Futrelle, Mrs. Jacques Heath (Lily May Peel)\"        | \"female\" |\n",
        "| 5   | \"Allen, Mr. William Henry\"                            | \"male\"   |\n",
        "| 6   | \"Moran, Mr. James\"                                    | \"male\"   |\n",
        "| 7   | \"McCarthy, Mr. Timothy J\"                             | \"male\"   |\n",
        "| 8   | \"Palsson, Master. Gosta Leonard\"                      | \"male\"   |\n",
        "| 9   | \"Johnson, Mrs. Oscar W (Elisabeth Vilhelmina Berg)\"   | \"female\" |\n",
        "| 10  | \"Nasser, Mrs. Nicholas (Adele Achem)\"                 | \"female\" |\n",
        "| 11  | \"Sandstrom, Miss. Marguerite Rut\"                     | \"female\" |\n",
        "\u22ee\n",
        "| 880 | \"Potter, Mrs. Thomas Jr (Lily Alexenia Wilson)\"       | \"female\" |\n",
        "| 881 | \"Shelley, Mrs. William (Imanita Parrish Hall)\"        | \"female\" |\n",
        "| 882 | \"Markun, Mr. Johann\"                                  | \"male\"   |\n",
        "| 883 | \"Dahlberg, Miss. Gerda Ulrika\"                        | \"female\" |\n",
        "| 884 | \"Banfield, Mr. Frederick James\"                       | \"male\"   |\n",
        "| 885 | \"Sutehall, Mr. Henry Jr\"                              | \"male\"   |\n",
        "| 886 | \"Rice, Mrs. William (Margaret Norton)\"                | \"female\" |\n",
        "| 887 | \"Montvila, Rev. Juozas\"                               | \"male\"   |\n",
        "| 888 | \"Graham, Miss. Margaret Edith\"                        | \"female\" |\n",
        "| 889 | \"Johnston, Miss. Catherine Helen \\\"Carrie\\\"\"            | \"female\" |\n",
        "| 890 | \"Behr, Mr. Karl Howell\"                               | \"male\"   |\n",
        "| 891 | \"Dooley, Mr. Patrick\"                                 | \"male\"   |\n",
        "\n",
        "| Row | SexBinary | Age  | AdjustedAge | SibSp | Parch | Ticket             |\n",
        "|-----|-----------|------|-------------|-------|-------|--------------------|\n",
        "| 1   | 1         | 22.0 | 22.0        | 1     | 0     | \"A/5 21171\"        |\n",
        "| 2   | 0         | 38.0 | 38.0        | 1     | 0     | \"PC 17599\"         |\n",
        "| 3   | 0         | 26.0 | 26.0        | 0     | 0     | \"STON/O2. 3101282\" |\n",
        "| 4   | 0         | 35.0 | 35.0        | 1     | 0     | \"113803\"           |\n",
        "| 5   | 1         | 35.0 | 35.0        | 0     | 0     | \"373450\"           |\n",
        "| 6   | 1         | NA   | 28.0        | 0     | 0     | \"330877\"           |\n",
        "| 7   | 1         | 54.0 | 54.0        | 0     | 0     | \"17463\"            |\n",
        "| 8   | 1         | 2.0  | 2.0         | 3     | 1     | \"349909\"           |\n",
        "| 9   | 0         | 27.0 | 27.0        | 0     | 2     | \"347742\"           |\n",
        "| 10  | 0         | 14.0 | 14.0        | 1     | 0     | \"237736\"           |\n",
        "| 11  | 0         | 4.0  | 4.0         | 1     | 1     | \"PP 9549\"          |\n",
        "\u22ee\n",
        "| 880 | 0         | 56.0 | 56.0        | 0     | 1     | \"11767\"            |\n",
        "| 881 | 0         | 25.0 | 25.0        | 0     | 1     | \"230433\"           |\n",
        "| 882 | 1         | 33.0 | 33.0        | 0     | 0     | \"349257\"           |\n",
        "| 883 | 0         | 22.0 | 22.0        | 0     | 0     | \"7552\"             |\n",
        "| 884 | 1         | 28.0 | 28.0        | 0     | 0     | \"C.A./SOTON 34068\" |\n",
        "| 885 | 1         | 25.0 | 25.0        | 0     | 0     | \"SOTON/OQ 392076\"  |\n",
        "| 886 | 0         | 39.0 | 39.0        | 0     | 5     | \"382652\"           |\n",
        "| 887 | 1         | 27.0 | 27.0        | 0     | 0     | \"211536\"           |\n",
        "| 888 | 0         | 19.0 | 19.0        | 0     | 0     | \"112053\"           |\n",
        "| 889 | 0         | NA   | 28.0        | 1     | 2     | \"W./C. 6607\"       |\n",
        "| 890 | 1         | 26.0 | 26.0        | 0     | 0     | \"111369\"           |\n",
        "| 891 | 1         | 32.0 | 32.0        | 0     | 0     | \"370376\"           |\n",
        "\n",
        "| Row | Fare    | Cabin  | Embarked |\n",
        "|-----|---------|--------|----------|\n",
        "| 1   | 7.25    | NA     | \"S\"      |\n",
        "| 2   | 71.2833 | \"C85\"  | \"C\"      |\n",
        "| 3   | 7.925   | NA     | \"S\"      |\n",
        "| 4   | 53.1    | \"C123\" | \"S\"      |\n",
        "| 5   | 8.05    | NA     | \"S\"      |\n",
        "| 6   | 8.4583  | NA     | \"Q\"      |\n",
        "| 7   | 51.8625 | \"E46\"  | \"S\"      |\n",
        "| 8   | 21.075  | NA     | \"S\"      |\n",
        "| 9   | 11.1333 | NA     | \"S\"      |\n",
        "| 10  | 30.0708 | NA     | \"C\"      |\n",
        "| 11  | 16.7    | \"G6\"   | \"S\"      |\n",
        "\u22ee\n",
        "| 880 | 83.1583 | \"C50\"  | \"C\"      |\n",
        "| 881 | 26.0    | NA     | \"S\"      |\n",
        "| 882 | 7.8958  | NA     | \"S\"      |\n",
        "| 883 | 10.5167 | NA     | \"S\"      |\n",
        "| 884 | 10.5    | NA     | \"S\"      |\n",
        "| 885 | 7.05    | NA     | \"S\"      |\n",
        "| 886 | 29.125  | NA     | \"Q\"      |\n",
        "| 887 | 13.0    | NA     | \"S\"      |\n",
        "| 888 | 30.0    | \"B42\"  | \"S\"      |\n",
        "| 889 | 23.45   | NA     | \"S\"      |\n",
        "| 890 | 30.0    | \"C148\" | \"C\"      |\n",
        "| 891 | 7.75    | NA     | \"Q\"      |"
       ]
      }
     ],
     "prompt_number": 5
    },
    {
     "cell_type": "heading",
     "level": 2,
     "metadata": {},
     "source": [
      "Modeling with GLM"
     ]
    },
    {
     "cell_type": "markdown",
     "metadata": {},
     "source": [
      "We'll use GLM and the DataFrame formula language to create our initial model. I'm using the binomial distribution based on some cursory internet searching regarding logistic regression. "
     ]
    },
    {
     "cell_type": "code",
     "collapsed": false,
     "input": [
      "model = glm(Survived ~ Pclass + AdjustedAge + SexBinary + Fare + SibSp + Parch, data_train, Binomial()) "
     ],
     "language": "python",
     "metadata": {},
     "outputs": [
      {
       "metadata": {},
       "output_type": "pyout",
       "prompt_number": 6,
       "text": [
        "DataFrameRegressionModel{GeneralizedLinearModel,Float64}:\n",
        "\n",
        "Coefficients:\n",
        "               Estimate  Std.Error   z value Pr(>|z|)\n",
        "(Intercept)     4.94104   0.531427   9.29769   <1e-19\n",
        "Pclass         -1.08744   0.139374  -7.80228   <1e-14\n",
        "AdjustedAge   -0.039398 0.00779922  -5.05153    <1e-6\n",
        "SexBinary      -2.76087   0.198746  -13.8915   <1e-43\n",
        "Fare         0.00284588 0.00235787   1.20697   0.2274\n",
        "SibSp         -0.348785   0.108925  -3.20205   0.0014\n",
        "Parch         -0.106709   0.117216 -0.910365   0.3626\n"
       ]
      }
     ],
     "prompt_number": 6
    },
    {
     "cell_type": "markdown",
     "metadata": {},
     "source": [
      "Lets calculate the training error really quick to get an idea of if we over/underfit drastically"
     ]
    },
    {
     "cell_type": "code",
     "collapsed": false,
     "input": [
      "result_continuous = predict(model) \n",
      "threshold = 0.5 # parameter will need to be tuned\n",
      "result_discrete = map(x -> ((x >= threshold) ? 1 : 0) , result_continuous) # I think mlbase has a function for this\n",
      "\n",
      "ground_truth = data_train[:Survived] # Pull original survival data into array, calculate error \n",
      "\n",
      "println(correctrate(ground_truth, result_discrete))\n",
      "print(errorrate(ground_truth, result_discrete))"
     ],
     "language": "python",
     "metadata": {},
     "outputs": [
      {
       "output_type": "stream",
       "stream": "stdout",
       "text": [
        "0."
       ]
      },
      {
       "output_type": "stream",
       "stream": "stdout",
       "text": [
        "7946127946127947\n",
        "0.2053872053872054"
       ]
      }
     ],
     "prompt_number": 7
    },
    {
     "cell_type": "markdown",
     "metadata": {},
     "source": [
      "In order to make a prediction on the test data, we must subject our test set to the same tortures as the training set."
     ]
    },
    {
     "cell_type": "code",
     "collapsed": false,
     "input": [
      "sex_binary!(data_test)\n",
      "replace_na_median!(data_test)"
     ],
     "language": "python",
     "metadata": {},
     "outputs": [
      {
       "html": [
        "<table class=\"data-frame\"><tr><th></th><th>PassengerId</th><th>Pclass</th><th>Name</th><th>Sex</th><th>Age</th><th>SexBinary</th><th>SibSp</th><th>AdjustedAge</th><th>Parch</th><th>Ticket</th><th>Fare</th><th>Cabin</th><th>Embarked</th></tr><tr><th>1</th><td>892</td><td>3</td><td>Kelly, Mr. James</td><td>male</td><td>34.5</td><td>1</td><td>0</td><td>34.5</td><td>0</td><td>330911</td><td>7.8292</td><td>NA</td><td>Q</td></tr><tr><th>2</th><td>893</td><td>3</td><td>Wilkes, Mrs. James (Ellen Needs)</td><td>female</td><td>47.0</td><td>0</td><td>1</td><td>47.0</td><td>0</td><td>363272</td><td>7.0</td><td>NA</td><td>S</td></tr><tr><th>3</th><td>894</td><td>2</td><td>Myles, Mr. Thomas Francis</td><td>male</td><td>62.0</td><td>1</td><td>0</td><td>62.0</td><td>0</td><td>240276</td><td>9.6875</td><td>NA</td><td>Q</td></tr><tr><th>4</th><td>895</td><td>3</td><td>Wirz, Mr. Albert</td><td>male</td><td>27.0</td><td>1</td><td>0</td><td>27.0</td><td>0</td><td>315154</td><td>8.6625</td><td>NA</td><td>S</td></tr><tr><th>5</th><td>896</td><td>3</td><td>Hirvonen, Mrs. Alexander (Helga E Lindqvist)</td><td>female</td><td>22.0</td><td>0</td><td>1</td><td>22.0</td><td>1</td><td>3101298</td><td>12.2875</td><td>NA</td><td>S</td></tr><tr><th>6</th><td>897</td><td>3</td><td>Svensson, Mr. Johan Cervin</td><td>male</td><td>14.0</td><td>1</td><td>0</td><td>14.0</td><td>0</td><td>7538</td><td>9.225</td><td>NA</td><td>S</td></tr><tr><th>7</th><td>898</td><td>3</td><td>Connolly, Miss. Kate</td><td>female</td><td>30.0</td><td>0</td><td>0</td><td>30.0</td><td>0</td><td>330972</td><td>7.6292</td><td>NA</td><td>Q</td></tr><tr><th>8</th><td>899</td><td>2</td><td>Caldwell, Mr. Albert Francis</td><td>male</td><td>26.0</td><td>1</td><td>1</td><td>26.0</td><td>1</td><td>248738</td><td>29.0</td><td>NA</td><td>S</td></tr><tr><th>9</th><td>900</td><td>3</td><td>Abrahim, Mrs. Joseph (Sophie Halaut Easu)</td><td>female</td><td>18.0</td><td>0</td><td>0</td><td>18.0</td><td>0</td><td>2657</td><td>7.2292</td><td>NA</td><td>C</td></tr><tr><th>10</th><td>901</td><td>3</td><td>Davies, Mr. John Samuel</td><td>male</td><td>21.0</td><td>1</td><td>2</td><td>21.0</td><td>0</td><td>A/4 48871</td><td>24.15</td><td>NA</td><td>S</td></tr><tr><th>11</th><td>902</td><td>3</td><td>Ilieff, Mr. Ylio</td><td>male</td><td>NA</td><td>1</td><td>0</td><td>27.0</td><td>0</td><td>349220</td><td>7.8958</td><td>NA</td><td>S</td></tr><tr><th>12</th><td>903</td><td>1</td><td>Jones, Mr. Charles Cresson</td><td>male</td><td>46.0</td><td>1</td><td>0</td><td>46.0</td><td>0</td><td>694</td><td>26.0</td><td>NA</td><td>S</td></tr><tr><th>13</th><td>904</td><td>1</td><td>Snyder, Mrs. John Pillsbury (Nelle Stevenson)</td><td>female</td><td>23.0</td><td>0</td><td>1</td><td>23.0</td><td>0</td><td>21228</td><td>82.2667</td><td>B45</td><td>S</td></tr><tr><th>14</th><td>905</td><td>2</td><td>Howard, Mr. Benjamin</td><td>male</td><td>63.0</td><td>1</td><td>1</td><td>63.0</td><td>0</td><td>24065</td><td>26.0</td><td>NA</td><td>S</td></tr><tr><th>15</th><td>906</td><td>1</td><td>Chaffee, Mrs. Herbert Fuller (Carrie Constance Toogood)</td><td>female</td><td>47.0</td><td>0</td><td>1</td><td>47.0</td><td>0</td><td>W.E.P. 5734</td><td>61.175</td><td>E31</td><td>S</td></tr><tr><th>16</th><td>907</td><td>2</td><td>del Carlo, Mrs. Sebastiano (Argenia Genovesi)</td><td>female</td><td>24.0</td><td>0</td><td>1</td><td>24.0</td><td>0</td><td>SC/PARIS 2167</td><td>27.7208</td><td>NA</td><td>C</td></tr><tr><th>17</th><td>908</td><td>2</td><td>Keane, Mr. Daniel</td><td>male</td><td>35.0</td><td>1</td><td>0</td><td>35.0</td><td>0</td><td>233734</td><td>12.35</td><td>NA</td><td>Q</td></tr><tr><th>18</th><td>909</td><td>3</td><td>Assaf, Mr. Gerios</td><td>male</td><td>21.0</td><td>1</td><td>0</td><td>21.0</td><td>0</td><td>2692</td><td>7.225</td><td>NA</td><td>C</td></tr><tr><th>19</th><td>910</td><td>3</td><td>Ilmakangas, Miss. Ida Livija</td><td>female</td><td>27.0</td><td>0</td><td>1</td><td>27.0</td><td>0</td><td>STON/O2. 3101270</td><td>7.925</td><td>NA</td><td>S</td></tr><tr><th>20</th><td>911</td><td>3</td><td>Assaf Khalil, Mrs. Mariana (Miriam\")\"</td><td>female</td><td>45.0</td><td>0</td><td>0</td><td>45.0</td><td>0</td><td>2696</td><td>7.225</td><td>NA</td><td>C</td></tr><tr><th>21</th><td>912</td><td>1</td><td>Rothschild, Mr. Martin</td><td>male</td><td>55.0</td><td>1</td><td>1</td><td>55.0</td><td>0</td><td>PC 17603</td><td>59.4</td><td>NA</td><td>C</td></tr><tr><th>22</th><td>913</td><td>3</td><td>Olsen, Master. Artur Karl</td><td>male</td><td>9.0</td><td>1</td><td>0</td><td>9.0</td><td>1</td><td>C 17368</td><td>3.1708</td><td>NA</td><td>S</td></tr><tr><th>23</th><td>914</td><td>1</td><td>Flegenheim, Mrs. Alfred (Antoinette)</td><td>female</td><td>NA</td><td>0</td><td>0</td><td>27.0</td><td>0</td><td>PC 17598</td><td>31.6833</td><td>NA</td><td>S</td></tr><tr><th>24</th><td>915</td><td>1</td><td>Williams, Mr. Richard Norris II</td><td>male</td><td>21.0</td><td>1</td><td>0</td><td>21.0</td><td>1</td><td>PC 17597</td><td>61.3792</td><td>NA</td><td>C</td></tr><tr><th>25</th><td>916</td><td>1</td><td>Ryerson, Mrs. Arthur Larned (Emily Maria Borie)</td><td>female</td><td>48.0</td><td>0</td><td>1</td><td>48.0</td><td>3</td><td>PC 17608</td><td>262.375</td><td>B57 B59 B63 B66</td><td>C</td></tr><tr><th>26</th><td>917</td><td>3</td><td>Robins, Mr. Alexander A</td><td>male</td><td>50.0</td><td>1</td><td>1</td><td>50.0</td><td>0</td><td>A/5. 3337</td><td>14.5</td><td>NA</td><td>S</td></tr><tr><th>27</th><td>918</td><td>1</td><td>Ostby, Miss. Helene Ragnhild</td><td>female</td><td>22.0</td><td>0</td><td>0</td><td>22.0</td><td>1</td><td>113509</td><td>61.9792</td><td>B36</td><td>C</td></tr><tr><th>28</th><td>919</td><td>3</td><td>Daher, Mr. Shedid</td><td>male</td><td>22.5</td><td>1</td><td>0</td><td>22.5</td><td>0</td><td>2698</td><td>7.225</td><td>NA</td><td>C</td></tr><tr><th>29</th><td>920</td><td>1</td><td>Brady, Mr. John Bertram</td><td>male</td><td>41.0</td><td>1</td><td>0</td><td>41.0</td><td>0</td><td>113054</td><td>30.5</td><td>A21</td><td>S</td></tr><tr><th>30</th><td>921</td><td>3</td><td>Samaan, Mr. Elias</td><td>male</td><td>NA</td><td>1</td><td>2</td><td>27.0</td><td>0</td><td>2662</td><td>21.6792</td><td>NA</td><td>C</td></tr><tr><th>&vellip;</th><td>&vellip;</td><td>&vellip;</td><td>&vellip;</td><td>&vellip;</td><td>&vellip;</td><td>&vellip;</td><td>&vellip;</td><td>&vellip;</td><td>&vellip;</td><td>&vellip;</td><td>&vellip;</td><td>&vellip;</td><td>&vellip;</td></tr></table>"
       ],
       "metadata": {},
       "output_type": "pyout",
       "prompt_number": 8,
       "text": [
        "418x13 DataFrame\n",
        "| Row | PassengerId | Pclass |\n",
        "|-----|-------------|--------|\n",
        "| 1   | 892         | 3      |\n",
        "| 2   | 893         | 3      |\n",
        "| 3   | 894         | 2      |\n",
        "| 4   | 895         | 3      |\n",
        "| 5   | 896         | 3      |\n",
        "| 6   | 897         | 3      |\n",
        "| 7   | 898         | 3      |\n",
        "| 8   | 899         | 2      |\n",
        "| 9   | 900         | 3      |\n",
        "| 10  | 901         | 3      |\n",
        "| 11  | 902         | 3      |\n",
        "\u22ee\n",
        "| 407 | 1298        | 2      |\n",
        "| 408 | 1299        | 1      |\n",
        "| 409 | 1300        | 3      |\n",
        "| 410 | 1301        | 3      |\n",
        "| 411 | 1302        | 3      |\n",
        "| 412 | 1303        | 1      |\n",
        "| 413 | 1304        | 3      |\n",
        "| 414 | 1305        | 3      |\n",
        "| 415 | 1306        | 1      |\n",
        "| 416 | 1307        | 3      |\n",
        "| 417 | 1308        | 3      |\n",
        "| 418 | 1309        | 3      |\n",
        "\n",
        "| Row | Name                                              | Sex      | Age  |\n",
        "|-----|---------------------------------------------------|----------|------|\n",
        "| 1   | \"Kelly, Mr. James\"                                | \"male\"   | 34.5 |\n",
        "| 2   | \"Wilkes, Mrs. James (Ellen Needs)\"                | \"female\" | 47.0 |\n",
        "| 3   | \"Myles, Mr. Thomas Francis\"                       | \"male\"   | 62.0 |\n",
        "| 4   | \"Wirz, Mr. Albert\"                                | \"male\"   | 27.0 |\n",
        "| 5   | \"Hirvonen, Mrs. Alexander (Helga E Lindqvist)\"    | \"female\" | 22.0 |\n",
        "| 6   | \"Svensson, Mr. Johan Cervin\"                      | \"male\"   | 14.0 |\n",
        "| 7   | \"Connolly, Miss. Kate\"                            | \"female\" | 30.0 |\n",
        "| 8   | \"Caldwell, Mr. Albert Francis\"                    | \"male\"   | 26.0 |\n",
        "| 9   | \"Abrahim, Mrs. Joseph (Sophie Halaut Easu)\"       | \"female\" | 18.0 |\n",
        "| 10  | \"Davies, Mr. John Samuel\"                         | \"male\"   | 21.0 |\n",
        "| 11  | \"Ilieff, Mr. Ylio\"                                | \"male\"   | NA   |\n",
        "\u22ee\n",
        "| 407 | \"Ware, Mr. William Jeffery\"                       | \"male\"   | 23.0 |\n",
        "| 408 | \"Widener, Mr. George Dunton\"                      | \"male\"   | 50.0 |\n",
        "| 409 | \"Riordan, Miss. Johanna Hannah\\\"\\\"\"                 | \"female\" | NA   |\n",
        "| 410 | \"Peacock, Miss. Treasteall\"                       | \"female\" | 3.0  |\n",
        "| 411 | \"Naughton, Miss. Hannah\"                          | \"female\" | NA   |\n",
        "| 412 | \"Minahan, Mrs. William Edward (Lillian E Thorpe)\" | \"female\" | 37.0 |\n",
        "| 413 | \"Henriksson, Miss. Jenny Lovisa\"                  | \"female\" | 28.0 |\n",
        "| 414 | \"Spector, Mr. Woolf\"                              | \"male\"   | NA   |\n",
        "| 415 | \"Oliva y Ocana, Dona. Fermina\"                    | \"female\" | 39.0 |\n",
        "| 416 | \"Saether, Mr. Simon Sivertsen\"                    | \"male\"   | 38.5 |\n",
        "| 417 | \"Ware, Mr. Frederick\"                             | \"male\"   | NA   |\n",
        "| 418 | \"Peter, Master. Michael J\"                        | \"male\"   | NA   |\n",
        "\n",
        "| Row | SexBinary | SibSp | AdjustedAge | Parch | Ticket               |\n",
        "|-----|-----------|-------|-------------|-------|----------------------|\n",
        "| 1   | 1         | 0     | 34.5        | 0     | \"330911\"             |\n",
        "| 2   | 0         | 1     | 47.0        | 0     | \"363272\"             |\n",
        "| 3   | 1         | 0     | 62.0        | 0     | \"240276\"             |\n",
        "| 4   | 1         | 0     | 27.0        | 0     | \"315154\"             |\n",
        "| 5   | 0         | 1     | 22.0        | 1     | \"3101298\"            |\n",
        "| 6   | 1         | 0     | 14.0        | 0     | \"7538\"               |\n",
        "| 7   | 0         | 0     | 30.0        | 0     | \"330972\"             |\n",
        "| 8   | 1         | 1     | 26.0        | 1     | \"248738\"             |\n",
        "| 9   | 0         | 0     | 18.0        | 0     | \"2657\"               |\n",
        "| 10  | 1         | 2     | 21.0        | 0     | \"A/4 48871\"          |\n",
        "| 11  | 1         | 0     | 27.0        | 0     | \"349220\"             |\n",
        "\u22ee\n",
        "| 407 | 1         | 1     | 23.0        | 0     | \"28666\"              |\n",
        "| 408 | 1         | 1     | 50.0        | 1     | \"113503\"             |\n",
        "| 409 | 0         | 0     | 27.0        | 0     | \"334915\"             |\n",
        "| 410 | 0         | 1     | 3.0         | 1     | \"SOTON/O.Q. 3101315\" |\n",
        "| 411 | 0         | 0     | 27.0        | 0     | \"365237\"             |\n",
        "| 412 | 0         | 1     | 37.0        | 0     | \"19928\"              |\n",
        "| 413 | 0         | 0     | 28.0        | 0     | \"347086\"             |\n",
        "| 414 | 1         | 0     | 27.0        | 0     | \"A.5. 3236\"          |\n",
        "| 415 | 0         | 0     | 39.0        | 0     | \"PC 17758\"           |\n",
        "| 416 | 1         | 0     | 38.5        | 0     | \"SOTON/O.Q. 3101262\" |\n",
        "| 417 | 1         | 0     | 27.0        | 0     | \"359309\"             |\n",
        "| 418 | 1         | 1     | 27.0        | 1     | \"2668\"               |\n",
        "\n",
        "| Row | Fare    | Cabin  | Embarked |\n",
        "|-----|---------|--------|----------|\n",
        "| 1   | 7.8292  | NA     | \"Q\"      |\n",
        "| 2   | 7.0     | NA     | \"S\"      |\n",
        "| 3   | 9.6875  | NA     | \"Q\"      |\n",
        "| 4   | 8.6625  | NA     | \"S\"      |\n",
        "| 5   | 12.2875 | NA     | \"S\"      |\n",
        "| 6   | 9.225   | NA     | \"S\"      |\n",
        "| 7   | 7.6292  | NA     | \"Q\"      |\n",
        "| 8   | 29.0    | NA     | \"S\"      |\n",
        "| 9   | 7.2292  | NA     | \"C\"      |\n",
        "| 10  | 24.15   | NA     | \"S\"      |\n",
        "| 11  | 7.8958  | NA     | \"S\"      |\n",
        "\u22ee\n",
        "| 407 | 10.5    | NA     | \"S\"      |\n",
        "| 408 | 211.5   | \"C80\"  | \"C\"      |\n",
        "| 409 | 7.7208  | NA     | \"Q\"      |\n",
        "| 410 | 13.775  | NA     | \"S\"      |\n",
        "| 411 | 7.75    | NA     | \"Q\"      |\n",
        "| 412 | 90.0    | \"C78\"  | \"Q\"      |\n",
        "| 413 | 7.775   | NA     | \"S\"      |\n",
        "| 414 | 8.05    | NA     | \"S\"      |\n",
        "| 415 | 108.9   | \"C105\" | \"C\"      |\n",
        "| 416 | 7.25    | NA     | \"S\"      |\n",
        "| 417 | 8.05    | NA     | \"S\"      |\n",
        "| 418 | 22.3583 | NA     | \"C\"      |"
       ]
      }
     ],
     "prompt_number": 8
    },
    {
     "cell_type": "code",
     "collapsed": false,
     "input": [
      "survived_test = [predict(model, data_test), 0] # result has one less row for some reason, temporary hack\n",
      "survived_test = map(x -> ((x >= threshold) ? 1 : 0) , survived_test);"
     ],
     "language": "python",
     "metadata": {},
     "outputs": [],
     "prompt_number": 9
    },
    {
     "cell_type": "code",
     "collapsed": false,
     "input": [
      "insert!(data_test,2,survived_test,:Survived);"
     ],
     "language": "python",
     "metadata": {},
     "outputs": [],
     "prompt_number": 10
    },
    {
     "cell_type": "markdown",
     "metadata": {},
     "source": [
      "The submission only requires the passenger id and survived columns, so we'll make a new dataframe and write it to csv"
     ]
    },
    {
     "cell_type": "code",
     "collapsed": false,
     "input": [
      "submission = DataFrame()\n",
      "submission[:PassengerId] = data_test[:PassengerId]\n",
      "submission[:Survived] = data_test[:Survived];"
     ],
     "language": "python",
     "metadata": {},
     "outputs": [],
     "prompt_number": 11
    },
    {
     "cell_type": "heading",
     "level": 3,
     "metadata": {},
     "source": [
      "Initial Score: 0.56938 "
     ]
    },
    {
     "cell_type": "heading",
     "level": 2,
     "metadata": {},
     "source": [
      "Lets Back up for a second"
     ]
    },
    {
     "cell_type": "markdown",
     "metadata": {},
     "source": [
      "Now, this score is truly terrible, even worse than assuming everyone on the titanic died. As I would find out later, that \"temporaray hack\" to get the matrix dimensions in check completely through off the calculation. "
     ]
    },
    {
     "cell_type": "code",
     "collapsed": false,
     "input": [
      "model = glm(Survived ~ SexBinary + AdjustedAge, data_train, Binomial())"
     ],
     "language": "python",
     "metadata": {},
     "outputs": [
      {
       "metadata": {},
       "output_type": "pyout",
       "prompt_number": 12,
       "text": [
        "DataFrameRegressionModel{GeneralizedLinearModel,Float64}:\n",
        "\n",
        "Coefficients:\n",
        "                Estimate  Std.Error   z value Pr(>|z|)\n",
        "(Intercept)       1.1898   0.221918   5.36146    <1e-7\n",
        "SexBinary       -2.50531    0.16745  -14.9616   <1e-49\n",
        "AdjustedAge  -0.00473761 0.00637835 -0.742763   0.4576\n"
       ]
      }
     ],
     "prompt_number": 12
    },
    {
     "cell_type": "code",
     "collapsed": false,
     "input": [
      "survived_test = predict(model, data_test)\n",
      "survived_test = map(x -> ((x >= threshold) ? 1 : 0) , survived_test);\n",
      "submission[:Survived] = survived_test"
     ],
     "language": "python",
     "metadata": {},
     "outputs": [
      {
       "metadata": {},
       "output_type": "pyout",
       "prompt_number": 13,
       "text": [
        "418-element Array{Int64,1}:\n",
        " 0\n",
        " 1\n",
        " 0\n",
        " 0\n",
        " 1\n",
        " 0\n",
        " 1\n",
        " 0\n",
        " 1\n",
        " 0\n",
        " 0\n",
        " 0\n",
        " 1\n",
        " \u22ee\n",
        " 0\n",
        " 0\n",
        " 1\n",
        " 1\n",
        " 1\n",
        " 1\n",
        " 1\n",
        " 0\n",
        " 1\n",
        " 0\n",
        " 0\n",
        " 0"
       ]
      }
     ],
     "prompt_number": 13
    },
    {
     "cell_type": "heading",
     "level": 3,
     "metadata": {},
     "source": [
      "2 Variable Score: 0.76555 "
     ]
    },
    {
     "cell_type": "markdown",
     "metadata": {},
     "source": [
      "Improvement! This puts us at the baseline for a simple gender based model, it assumes that all female passengers survived and all male passengers did not. "
     ]
    },
    {
     "cell_type": "heading",
     "level": 2,
     "metadata": {},
     "source": [
      "Age and Sex Interaction"
     ]
    },
    {
     "cell_type": "markdown",
     "metadata": {},
     "source": [
      "My next intuition is to try out the interaction between gender and age with the formula language's * operator"
     ]
    },
    {
     "cell_type": "code",
     "collapsed": false,
     "input": [
      "model = glm(Survived ~ SexBinary * AdjustedAge, data_train, Binomial())"
     ],
     "language": "python",
     "metadata": {},
     "outputs": [
      {
       "metadata": {},
       "output_type": "pyout",
       "prompt_number": 14,
       "text": [
        "DataFrameRegressionModel{GeneralizedLinearModel,Float64}:\n",
        "\n",
        "Coefficients:\n",
        "                           Estimate Std.Error  z value Pr(>|z|)\n",
        "(Intercept)                0.541446  0.302817  1.78803   0.0738\n",
        "SexBinary                  -1.37741  0.404138 -3.40827   0.0007\n",
        "AdjustedAge               0.0189539 0.0103487  1.83152   0.0670\n",
        "SexBinary & AdjustedAge  -0.0403453 0.0135642 -2.97438   0.0029\n"
       ]
      }
     ],
     "prompt_number": 14
    },
    {
     "cell_type": "code",
     "collapsed": false,
     "input": [
      "survived_test = predict(model, data_test)\n",
      "survived_test = map(x -> ((x >= threshold) ? 1 : 0) , survived_test);\n",
      "submission[:Survived] = survived_test;"
     ],
     "language": "python",
     "metadata": {},
     "outputs": [],
     "prompt_number": 15
    },
    {
     "cell_type": "heading",
     "level": 3,
     "metadata": {},
     "source": [
      "Age and Sex interaction score: 0.76555"
     ]
    },
    {
     "cell_type": "markdown",
     "metadata": {},
     "source": [
      "This makes sense. Since sex is binary, the interaction column will be exactly equal to the age when sex is male and zero when female."
     ]
    },
    {
     "cell_type": "heading",
     "level": 2,
     "metadata": {},
     "source": [
      "Gender, Class, and Ticket Price"
     ]
    },
    {
     "cell_type": "markdown",
     "metadata": {},
     "source": [
      "Using the leaderboard benchmark as a hunch, we'll base this model off of gender, Pclass and Ticket Price"
     ]
    },
    {
     "cell_type": "code",
     "collapsed": false,
     "input": [
      "model = glm(Survived ~ SexBinary + Pclass + Fare, data_train, Binomial())"
     ],
     "language": "python",
     "metadata": {},
     "outputs": [
      {
       "metadata": {},
       "output_type": "pyout",
       "prompt_number": 16,
       "text": [
        "DataFrameRegressionModel{GeneralizedLinearModel,Float64}:\n",
        "\n",
        "Coefficients:\n",
        "               Estimate  Std.Error  z value Pr(>|z|)\n",
        "(Intercept)     3.14373   0.363645  8.64505   <1e-17\n",
        "SexBinary      -2.63065   0.184639 -14.2475   <1e-45\n",
        "Pclass        -0.917173   0.121938 -7.52162   <1e-13\n",
        "Fare         0.00145023 0.00203018 0.714333   0.4750\n"
       ]
      }
     ],
     "prompt_number": 16
    },
    {
     "cell_type": "code",
     "collapsed": false,
     "input": [
      "survived_test = predict(model, data_test)\n",
      "survived_test = map(x -> ((x >= threshold) ? 1 : 0) , survived_test);\n",
      "submission[:Survived] = survived_test;"
     ],
     "language": "python",
     "metadata": {},
     "outputs": [
      {
       "ename": "LoadError",
       "evalue": "New columns must have the same length as old columns\nwhile loading In[17], in expression starting on line 3",
       "output_type": "pyerr",
       "traceback": [
        "New columns must have the same length as old columns\nwhile loading In[17], in expression starting on line 3",
        "",
        " in insert_single_column! at /Users/nicklawler222/.julia/DataFrames/src/dataframe/dataframe.jl:290",
        " in setindex! at /Users/nicklawler222/.julia/DataFrames/src/dataframe/dataframe.jl:352"
       ]
      }
     ],
     "prompt_number": 17
    },
    {
     "cell_type": "markdown",
     "metadata": {},
     "source": [
      "We've seen this error before, it looks like one of the examples in the test set has an NA, which subsequently eliminates that whole row from the prediction. This may well have been what threw off our first model so badly, since I arbitrarily tacked a zero on to the end to compensate. Lets track down this NA, I got lucky the first time and found it in Fare"
     ]
    },
    {
     "cell_type": "code",
     "collapsed": false,
     "input": [
      "sum(isna(data_test[:Fare]))"
     ],
     "language": "python",
     "metadata": {},
     "outputs": [
      {
       "metadata": {},
       "output_type": "pyout",
       "prompt_number": 18,
       "text": [
        "1"
       ]
      }
     ],
     "prompt_number": 18
    },
    {
     "cell_type": "code",
     "collapsed": false,
     "input": [
      "fare_na_index = sum(isna(data_test[:Fare]) .* [1:size(data_test[:Fare],1)])\n",
      "data_test[:Fare][fare_na_index] "
     ],
     "language": "python",
     "metadata": {},
     "outputs": [
      {
       "metadata": {},
       "output_type": "pyout",
       "prompt_number": 19,
       "text": [
        "NA"
       ]
      }
     ],
     "prompt_number": 19
    },
    {
     "cell_type": "markdown",
     "metadata": {},
     "source": [
      "Now that we've located it, lets replace it with the mean of the medians on either side as a quick fix"
     ]
    },
    {
     "cell_type": "code",
     "collapsed": false,
     "input": [
      "lower_median = median(data_test[:Fare][1:(fare_na_index-1)])\n",
      "upper_median = median(data_test[:Fare][(fare_na_index+1):end])\n",
      "\n",
      "data_test[:Fare][fare_na_index] = mean([lower_median, upper_median]);"
     ],
     "language": "python",
     "metadata": {},
     "outputs": [],
     "prompt_number": 20
    },
    {
     "cell_type": "markdown",
     "metadata": {},
     "source": [
      "Now we can try our model again"
     ]
    },
    {
     "cell_type": "code",
     "collapsed": false,
     "input": [
      "survived_test = predict(model, data_test)\n",
      "survived_test = map(x -> ((x >= threshold) ? 1 : 0) , survived_test);\n",
      "submission[:Survived] = survived_test;"
     ],
     "language": "python",
     "metadata": {},
     "outputs": [],
     "prompt_number": 21
    },
    {
     "cell_type": "heading",
     "level": 3,
     "metadata": {},
     "source": [
      "Gender, Class, and Ticket Price Score: 0.76555 "
     ]
    },
    {
     "cell_type": "markdown",
     "metadata": {},
     "source": [
      ".........."
     ]
    },
    {
     "cell_type": "heading",
     "level": 2,
     "metadata": {},
     "source": [
      "Original Model Revisited"
     ]
    },
    {
     "cell_type": "markdown",
     "metadata": {},
     "source": [
      "Now that we've changed the errant NA in the test set, lets try our original model formulation and see if it isn't as terrible"
     ]
    },
    {
     "cell_type": "code",
     "collapsed": false,
     "input": [
      "model = glm(Survived ~ Pclass + AdjustedAge + SexBinary + Fare + SibSp + Parch, data_train, Binomial()) "
     ],
     "language": "python",
     "metadata": {},
     "outputs": [
      {
       "metadata": {},
       "output_type": "pyout",
       "prompt_number": 22,
       "text": [
        "DataFrameRegressionModel{GeneralizedLinearModel,Float64}:\n",
        "\n",
        "Coefficients:\n",
        "               Estimate  Std.Error   z value Pr(>|z|)\n",
        "(Intercept)     4.94104   0.531427   9.29769   <1e-19\n",
        "Pclass         -1.08744   0.139374  -7.80228   <1e-14\n",
        "AdjustedAge   -0.039398 0.00779922  -5.05153    <1e-6\n",
        "SexBinary      -2.76087   0.198746  -13.8915   <1e-43\n",
        "Fare         0.00284588 0.00235787   1.20697   0.2274\n",
        "SibSp         -0.348785   0.108925  -3.20205   0.0014\n",
        "Parch         -0.106709   0.117216 -0.910365   0.3626\n"
       ]
      }
     ],
     "prompt_number": 22
    },
    {
     "cell_type": "code",
     "collapsed": false,
     "input": [
      "survived_test = predict(model, data_test)\n",
      "survived_test = map(x -> ((x >= threshold) ? 1 : 0) , survived_test);\n",
      "submission[:Survived] = survived_test;"
     ],
     "language": "python",
     "metadata": {},
     "outputs": [],
     "prompt_number": 23
    },
    {
     "cell_type": "heading",
     "level": 3,
     "metadata": {},
     "source": [
      "Original Model Revised Score: 0.73684 "
     ]
    },
    {
     "cell_type": "markdown",
     "metadata": {},
     "source": [
      "So, not nearly as bad, but still worse off than decidedly simpler models. If I were to wager a guess, I would bet that it has to do with the Pclass row being expressed within one row, as opposed to three binary rows for each class. Lets separate this out for our next attempt"
     ]
    },
    {
     "cell_type": "heading",
     "level": 2,
     "metadata": {},
     "source": [
      "Seprate Pclass Category Rows"
     ]
    },
    {
     "cell_type": "code",
     "collapsed": false,
     "input": [
      "function separate_pclass!(df::DataFrame)\n",
      "    first_class = int(df[:Pclass]  .== 1);\n",
      "    second_class = int(df[:Pclass] .== 2);\n",
      "    third_class = int(df[:Pclass]  .== 3);\n",
      "    \n",
      "    df[:FirstClass] = first_class\n",
      "    df[:SecondClass] = second_class\n",
      "    df[:ThirdClass] = third_class\n",
      "end"
     ],
     "language": "python",
     "metadata": {},
     "outputs": [
      {
       "metadata": {},
       "output_type": "pyout",
       "prompt_number": 24,
       "text": [
        "separate_pclass! (generic function with 1 method)"
       ]
      }
     ],
     "prompt_number": 24
    },
    {
     "cell_type": "code",
     "collapsed": false,
     "input": [
      "separate_pclass!(data_train)\n",
      "separate_pclass!(data_test);"
     ],
     "language": "python",
     "metadata": {},
     "outputs": [],
     "prompt_number": 25
    },
    {
     "cell_type": "code",
     "collapsed": false,
     "input": [
      "model = glm(Survived ~ AdjustedAge + SexBinary + Fare + SibSp + Parch + FirstClass + ThirdClass, data_train, Binomial()) "
     ],
     "language": "python",
     "metadata": {},
     "outputs": [
      {
       "metadata": {},
       "output_type": "pyout",
       "prompt_number": 26,
       "text": [
        "DataFrameRegressionModel{GeneralizedLinearModel,Float64}:\n",
        "\n",
        "Coefficients:\n",
        "               Estimate  Std.Error   z value Pr(>|z|)\n",
        "(Intercept)     2.79903   0.346365   8.08114   <1e-15\n",
        "AdjustedAge  -0.0391594 0.00783554  -4.99767    <1e-6\n",
        "SexBinary      -2.75845      0.199  -13.8616   <1e-42\n",
        "Fare         0.00301807 0.00244579   1.23398   0.2172\n",
        "SibSp         -0.348058   0.108991  -3.19345   0.0014\n",
        "Parch         -0.108447   0.117465 -0.923228   0.3559\n",
        "FirstClass      1.01193   0.293317   3.44994   0.0006\n",
        "ThirdClass     -1.14001   0.227685  -5.00694    <1e-6\n"
       ]
      }
     ],
     "prompt_number": 26
    },
    {
     "cell_type": "code",
     "collapsed": false,
     "input": [
      "survived_test = predict(model, data_test)\n",
      "survived_test = map(x -> ((x >= threshold) ? 1 : 0) , survived_test);\n",
      "submission[:Survived] = survived_test;"
     ],
     "language": "python",
     "metadata": {},
     "outputs": [],
     "prompt_number": 27
    },
    {
     "cell_type": "heading",
     "level": 3,
     "metadata": {},
     "source": [
      "Categorical Isolation Score: 0.73684 "
     ]
    },
    {
     "cell_type": "markdown",
     "metadata": {},
     "source": [
      "Sometime after I tried this, another friendly kaggler let me know that Pclass shouldn't be considered a categorical variable because there is an ordering implicit in the classes. A person in first class is more similar to a person in second class than one in third class, so the euclidian distance actually provides a good separation. Thus, whatever caused the score decrease from the simpler models, it wasn't the representation of the Pclass variable. "
     ]
    },
    {
     "cell_type": "heading",
     "level": 2,
     "metadata": {},
     "source": [
      "Getting Bored"
     ]
    },
    {
     "cell_type": "markdown",
     "metadata": {},
     "source": [
      "Even though there was much more to be done in terms of testing more interactions and cross validation, wrestling with the intricacies of GLM made me anxious to try out a different algorithm, so I opted to take the time I had left and try out support vector machines on this dataset"
     ]
    }
   ],
   "metadata": {}
  }
 ]
}